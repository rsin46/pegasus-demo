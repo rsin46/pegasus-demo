{
  "nbformat": 4,
  "nbformat_minor": 0,
  "metadata": {
    "colab": {
      "name": "Pegasus-Combined.ipynb",
      "provenance": [],
      "collapsed_sections": [],
      "toc_visible": true,
      "authorship_tag": "ABX9TyOpSx1YKNaDf5PD0OH5rqrn",
      "include_colab_link": true
    },
    "kernelspec": {
      "name": "python3",
      "display_name": "Python 3"
    },
    "accelerator": "GPU"
  },
  "cells": [
    {
      "cell_type": "markdown",
      "metadata": {
        "id": "view-in-github",
        "colab_type": "text"
      },
      "source": [
        "<a href=\"https://colab.research.google.com/github/rsin46/pegasus-demo/blob/master/Pegasus_Combined.ipynb\" target=\"_parent\"><img src=\"https://colab.research.google.com/assets/colab-badge.svg\" alt=\"Open In Colab\"/></a>"
      ]
    },
    {
      "cell_type": "markdown",
      "metadata": {
        "id": "ldQf_lCPZbOW",
        "colab_type": "text"
      },
      "source": [
        "# Training/converting to .PB"
      ]
    },
    {
      "cell_type": "code",
      "metadata": {
        "id": "Q73qLmspsDyq",
        "colab_type": "code",
        "colab": {
          "base_uri": "https://localhost:8080/",
          "height": 122
        },
        "outputId": "0c545e61-e15b-4f33-b622-644894128a05"
      },
      "source": [
        "from google.colab import drive\n",
        "drive.mount('/content/gdrive')"
      ],
      "execution_count": 8,
      "outputs": [
        {
          "output_type": "stream",
          "text": [
            "Go to this URL in a browser: https://accounts.google.com/o/oauth2/auth?client_id=947318989803-6bn6qk8qdgf4n4g3pfee6491hc0brc4i.apps.googleusercontent.com&redirect_uri=urn%3aietf%3awg%3aoauth%3a2.0%3aoob&scope=email%20https%3a%2f%2fwww.googleapis.com%2fauth%2fdocs.test%20https%3a%2f%2fwww.googleapis.com%2fauth%2fdrive%20https%3a%2f%2fwww.googleapis.com%2fauth%2fdrive.photos.readonly%20https%3a%2f%2fwww.googleapis.com%2fauth%2fpeopleapi.readonly&response_type=code\n",
            "\n",
            "Enter your authorization code:\n",
            "··········\n",
            "Mounted at /content/gdrive\n"
          ],
          "name": "stdout"
        }
      ]
    },
    {
      "cell_type": "code",
      "metadata": {
        "id": "RnqoMQa24qTp",
        "colab_type": "code",
        "colab": {
          "base_uri": "https://localhost:8080/",
          "height": 34
        },
        "outputId": "7aaf925f-f364-4d91-dc96-90c0b556db3a"
      },
      "source": [
        "%cd /content/"
      ],
      "execution_count": 9,
      "outputs": [
        {
          "output_type": "stream",
          "text": [
            "/content\n"
          ],
          "name": "stdout"
        }
      ]
    },
    {
      "cell_type": "code",
      "metadata": {
        "colab_type": "code",
        "id": "k_fFC_TBZwDv",
        "colab": {
          "base_uri": "https://localhost:8080/",
          "height": 1000
        },
        "outputId": "da49f853-1fbc-4c78-da06-6356bedcc276"
      },
      "source": [
        "!git clone https://github.com/google-research/pegasus\n",
        "!pip3 install tensorflow_transform\n",
        "!pip3 install -e pegasus\n",
        "%cd pegasus\n",
        "!export PYTHONPATH=."
      ],
      "execution_count": 10,
      "outputs": [
        {
          "output_type": "stream",
          "text": [
            "Cloning into 'pegasus'...\n",
            "remote: Enumerating objects: 171, done.\u001b[K\n",
            "remote: Total 171 (delta 0), reused 0 (delta 0), pack-reused 171\u001b[K\n",
            "Receiving objects: 100% (171/171), 353.09 KiB | 1.07 MiB/s, done.\n",
            "Resolving deltas: 100% (56/56), done.\n",
            "Collecting tensorflow_transform\n",
            "\u001b[?25l  Downloading https://files.pythonhosted.org/packages/95/67/1895bbe9d997ea299fd75e62e83b85903784f6411d0617268c8e88968b14/tensorflow_transform-0.23.0-py3-none-any.whl (360kB)\n",
            "\u001b[K     |████████████████████████████████| 368kB 7.0MB/s \n",
            "\u001b[?25hCollecting apache-beam[gcp]<3,>=2.23\n",
            "\u001b[?25l  Downloading https://files.pythonhosted.org/packages/56/f1/7fcfbff3d3eed7895f10b358844b6e8ed21b230666aabd09d842cd725363/apache_beam-2.23.0-cp36-cp36m-manylinux2010_x86_64.whl (8.3MB)\n",
            "\u001b[K     |████████████████████████████████| 8.3MB 23.0MB/s \n",
            "\u001b[?25hRequirement already satisfied: protobuf<4,>=3.7 in /usr/local/lib/python3.6/dist-packages (from tensorflow_transform) (3.12.4)\n",
            "Requirement already satisfied: pydot<2,>=1.2 in /usr/local/lib/python3.6/dist-packages (from tensorflow_transform) (1.3.0)\n",
            "Collecting tfx-bsl<0.24,>=0.23\n",
            "\u001b[?25l  Downloading https://files.pythonhosted.org/packages/d2/e1/e04f0278c600fc4a0079447304958d341280101a1fe981a56f5c01022060/tfx_bsl-0.23.0-cp36-cp36m-manylinux2010_x86_64.whl (3.0MB)\n",
            "\u001b[K     |████████████████████████████████| 3.0MB 29.1MB/s \n",
            "\u001b[?25hCollecting absl-py<0.9,>=0.7\n",
            "\u001b[?25l  Downloading https://files.pythonhosted.org/packages/3b/72/e6e483e2db953c11efa44ee21c5fdb6505c4dffa447b4263ca8af6676b62/absl-py-0.8.1.tar.gz (103kB)\n",
            "\u001b[K     |████████████████████████████████| 112kB 42.6MB/s \n",
            "\u001b[?25hRequirement already satisfied: tensorflow!=2.0.*,!=2.1.*,!=2.2.*,<2.4,>=1.15.2 in /usr/local/lib/python3.6/dist-packages (from tensorflow_transform) (2.3.0)\n",
            "Collecting tensorflow-metadata<0.24,>=0.23\n",
            "\u001b[?25l  Downloading https://files.pythonhosted.org/packages/3c/61/025e0eb990fcbae79be9dcdca219d739993223fdf72194c96792e69933ab/tensorflow_metadata-0.23.0-py3-none-any.whl (43kB)\n",
            "\u001b[K     |████████████████████████████████| 51kB 7.0MB/s \n",
            "\u001b[?25hRequirement already satisfied: numpy<2,>=1.16 in /usr/local/lib/python3.6/dist-packages (from tensorflow_transform) (1.18.5)\n",
            "Requirement already satisfied: six<2,>=1.12 in /usr/local/lib/python3.6/dist-packages (from tensorflow_transform) (1.15.0)\n",
            "Collecting future<1.0.0,>=0.18.2\n",
            "\u001b[?25l  Downloading https://files.pythonhosted.org/packages/45/0b/38b06fd9b92dc2b68d58b75f900e97884c45bedd2ff83203d933cf5851c9/future-0.18.2.tar.gz (829kB)\n",
            "\u001b[K     |████████████████████████████████| 829kB 37.0MB/s \n",
            "\u001b[?25hRequirement already satisfied: python-dateutil<3,>=2.8.0 in /usr/local/lib/python3.6/dist-packages (from apache-beam[gcp]<3,>=2.23->tensorflow_transform) (2.8.1)\n",
            "Requirement already satisfied: pytz>=2018.3 in /usr/local/lib/python3.6/dist-packages (from apache-beam[gcp]<3,>=2.23->tensorflow_transform) (2018.9)\n",
            "Collecting avro-python3!=1.9.2,<1.10.0,>=1.8.1; python_version >= \"3.0\"\n",
            "  Downloading https://files.pythonhosted.org/packages/5a/80/acd1455bea0a9fcdc60a748a97dcbb3ff624726fb90987a0fc1c19e7a5a5/avro-python3-1.9.2.1.tar.gz\n",
            "Collecting oauth2client<4,>=2.0.1\n",
            "\u001b[?25l  Downloading https://files.pythonhosted.org/packages/c0/7b/bc893e35d6ca46a72faa4b9eaac25c687ce60e1fbe978993fe2de1b0ff0d/oauth2client-3.0.0.tar.gz (77kB)\n",
            "\u001b[K     |████████████████████████████████| 81kB 7.9MB/s \n",
            "\u001b[?25hCollecting dill<0.3.2,>=0.3.1.1\n",
            "\u001b[?25l  Downloading https://files.pythonhosted.org/packages/c7/11/345f3173809cea7f1a193bfbf02403fff250a3360e0e118a1630985e547d/dill-0.3.1.1.tar.gz (151kB)\n",
            "\u001b[K     |████████████████████████████████| 153kB 42.4MB/s \n",
            "\u001b[?25hCollecting hdfs<3.0.0,>=2.1.0\n",
            "\u001b[?25l  Downloading https://files.pythonhosted.org/packages/82/39/2c0879b1bcfd1f6ad078eb210d09dbce21072386a3997074ee91e60ddc5a/hdfs-2.5.8.tar.gz (41kB)\n",
            "\u001b[K     |████████████████████████████████| 51kB 6.2MB/s \n",
            "\u001b[?25hRequirement already satisfied: crcmod<2.0,>=1.7 in /usr/local/lib/python3.6/dist-packages (from apache-beam[gcp]<3,>=2.23->tensorflow_transform) (1.7)\n",
            "Requirement already satisfied: typing-extensions<3.8.0,>=3.7.0 in /usr/local/lib/python3.6/dist-packages (from apache-beam[gcp]<3,>=2.23->tensorflow_transform) (3.7.4.2)\n",
            "Collecting pyarrow<0.18.0,>=0.15.1; python_version >= \"3.0\" or platform_system != \"Windows\"\n",
            "\u001b[?25l  Downloading https://files.pythonhosted.org/packages/ba/3f/6cac1714fff444664603f92cb9fbe91c7ae25375880158b9e9691c4584c8/pyarrow-0.17.1-cp36-cp36m-manylinux2014_x86_64.whl (63.8MB)\n",
            "\u001b[K     |████████████████████████████████| 63.8MB 145kB/s \n",
            "\u001b[?25hCollecting fastavro<0.24,>=0.21.4\n",
            "\u001b[?25l  Downloading https://files.pythonhosted.org/packages/98/8e/1d62398df5569a805d956bd96df1b2c06f973e8d3f1f7489adf9c58b2824/fastavro-0.23.6-cp36-cp36m-manylinux2010_x86_64.whl (1.4MB)\n",
            "\u001b[K     |████████████████████████████████| 1.4MB 35.4MB/s \n",
            "\u001b[?25hRequirement already satisfied: grpcio<2,>=1.29.0 in /usr/local/lib/python3.6/dist-packages (from apache-beam[gcp]<3,>=2.23->tensorflow_transform) (1.31.0)\n",
            "Collecting mock<3.0.0,>=1.0.1\n",
            "\u001b[?25l  Downloading https://files.pythonhosted.org/packages/e6/35/f187bdf23be87092bd0f1200d43d23076cee4d0dec109f195173fd3ebc79/mock-2.0.0-py2.py3-none-any.whl (56kB)\n",
            "\u001b[K     |████████████████████████████████| 61kB 8.0MB/s \n",
            "\u001b[?25hRequirement already satisfied: pymongo<4.0.0,>=3.8.0 in /usr/local/lib/python3.6/dist-packages (from apache-beam[gcp]<3,>=2.23->tensorflow_transform) (3.11.0)\n",
            "Requirement already satisfied: httplib2<0.18.0,>=0.8 in /usr/local/lib/python3.6/dist-packages (from apache-beam[gcp]<3,>=2.23->tensorflow_transform) (0.17.4)\n",
            "Collecting google-cloud-language<2,>=1.3.0; extra == \"gcp\"\n",
            "\u001b[?25l  Downloading https://files.pythonhosted.org/packages/ba/b8/965a97ba60287910d342623da1da615254bded3e0965728cf7fc6339b7c8/google_cloud_language-1.3.0-py2.py3-none-any.whl (83kB)\n",
            "\u001b[K     |████████████████████████████████| 92kB 11.5MB/s \n",
            "\u001b[?25hCollecting google-cloud-spanner<1.14.0,>=1.13.0; extra == \"gcp\"\n",
            "\u001b[?25l  Downloading https://files.pythonhosted.org/packages/9e/39/c5e470bf59ce15716490bea1945e2c03b4f08f2153285f19dc6f9337b9e9/google_cloud_spanner-1.13.0-py2.py3-none-any.whl (212kB)\n",
            "\u001b[K     |████████████████████████████████| 215kB 35.4MB/s \n",
            "\u001b[?25hCollecting google-cloud-datastore<1.8.0,>=1.7.1; extra == \"gcp\"\n",
            "\u001b[?25l  Downloading https://files.pythonhosted.org/packages/d0/aa/29cbcf8cf7d08ce2d55b9dce858f7c632b434cb6451bed17cb4275804217/google_cloud_datastore-1.7.4-py2.py3-none-any.whl (82kB)\n",
            "\u001b[K     |████████████████████████████████| 92kB 10.7MB/s \n",
            "\u001b[?25hCollecting google-cloud-dlp<=0.13.0,>=0.12.0; extra == \"gcp\"\n",
            "\u001b[?25l  Downloading https://files.pythonhosted.org/packages/24/65/c74f730d5c08affdb056250e601f77c54c0f7c13dfd1c865e02f98b4e7b4/google_cloud_dlp-0.13.0-py2.py3-none-any.whl (151kB)\n",
            "\u001b[K     |████████████████████████████████| 153kB 47.6MB/s \n",
            "\u001b[?25hRequirement already satisfied: google-cloud-bigquery<=1.24.0,>=1.6.0; extra == \"gcp\" in /usr/local/lib/python3.6/dist-packages (from apache-beam[gcp]<3,>=2.23->tensorflow_transform) (1.21.0)\n",
            "Collecting google-cloud-videointelligence<1.14.0,>=1.8.0; extra == \"gcp\"\n",
            "\u001b[?25l  Downloading https://files.pythonhosted.org/packages/bb/bd/9945e21aace32bc45a17b65944b5cd20efb7370985d8984425831a47ca22/google_cloud_videointelligence-1.13.0-py2.py3-none-any.whl (177kB)\n",
            "\u001b[K     |████████████████████████████████| 184kB 46.4MB/s \n",
            "\u001b[?25hCollecting google-cloud-pubsub<1.1.0,>=0.39.0; extra == \"gcp\"\n",
            "\u001b[?25l  Downloading https://files.pythonhosted.org/packages/d3/91/07a82945a7396ea34debafd476724bb5fc267c292790fdf2138c693f95c5/google_cloud_pubsub-1.0.2-py2.py3-none-any.whl (118kB)\n",
            "\u001b[K     |████████████████████████████████| 122kB 46.6MB/s \n",
            "\u001b[?25hCollecting grpcio-gcp<1,>=0.2.2; extra == \"gcp\"\n",
            "  Downloading https://files.pythonhosted.org/packages/ba/83/1f1095815be0de19102df41e250ebbd7dae97d7d14e22c18da07ed5ed9d4/grpcio_gcp-0.2.2-py2.py3-none-any.whl\n",
            "Collecting google-cloud-vision<0.43.0,>=0.38.0; extra == \"gcp\"\n",
            "\u001b[?25l  Downloading https://files.pythonhosted.org/packages/eb/23/6d5a728333ce568fb484d0d7edd0b7c04b16cf6325af31d957eb51ed077d/google_cloud_vision-0.42.0-py2.py3-none-any.whl (435kB)\n",
            "\u001b[K     |████████████████████████████████| 440kB 42.1MB/s \n",
            "\u001b[?25hRequirement already satisfied: google-cloud-core<2,>=0.28.1; extra == \"gcp\" in /usr/local/lib/python3.6/dist-packages (from apache-beam[gcp]<3,>=2.23->tensorflow_transform) (1.0.3)\n",
            "Collecting google-apitools<0.5.32,>=0.5.31; extra == \"gcp\"\n",
            "\u001b[?25l  Downloading https://files.pythonhosted.org/packages/19/da/aefc4cf4c168b5d875344cd9dddc77e3a2d11986b630251af5ce47dd2843/google-apitools-0.5.31.tar.gz (173kB)\n",
            "\u001b[K     |████████████████████████████████| 174kB 38.3MB/s \n",
            "\u001b[?25hCollecting cachetools<4,>=3.1.0; extra == \"gcp\"\n",
            "  Downloading https://files.pythonhosted.org/packages/2f/a6/30b0a0bef12283e83e58c1d6e7b5aabc7acfc4110df81a4471655d33e704/cachetools-3.1.1-py2.py3-none-any.whl\n",
            "Collecting google-cloud-bigtable<1.1.0,>=0.31.1; extra == \"gcp\"\n",
            "\u001b[?25l  Downloading https://files.pythonhosted.org/packages/95/af/0ef7d097a1d5ad0c843867600e86de915e8ab8864740f49a4636cfb51af6/google_cloud_bigtable-1.0.0-py2.py3-none-any.whl (232kB)\n",
            "\u001b[K     |████████████████████████████████| 235kB 40.3MB/s \n",
            "\u001b[?25hRequirement already satisfied: setuptools in /usr/local/lib/python3.6/dist-packages (from protobuf<4,>=3.7->tensorflow_transform) (49.2.0)\n",
            "Requirement already satisfied: pyparsing>=2.1.4 in /usr/local/lib/python3.6/dist-packages (from pydot<2,>=1.2->tensorflow_transform) (2.4.7)\n",
            "Requirement already satisfied: google-api-python-client<2,>=1.7.11 in /usr/local/lib/python3.6/dist-packages (from tfx-bsl<0.24,>=0.23->tensorflow_transform) (1.7.12)\n",
            "Requirement already satisfied: pandas<2,>=0.24 in /usr/local/lib/python3.6/dist-packages (from tfx-bsl<0.24,>=0.23->tensorflow_transform) (1.0.5)\n",
            "Collecting tensorflow-serving-api!=2.0.*,!=2.1.*,!=2.2.*,<3,>=1.15\n",
            "  Downloading https://files.pythonhosted.org/packages/72/0d/0f0822b418fd51795a4768f35bb17619af51312ca9f5762c80bea34bd7ae/tensorflow_serving_api-2.3.0-py2.py3-none-any.whl\n",
            "Requirement already satisfied: wrapt>=1.11.1 in /usr/local/lib/python3.6/dist-packages (from tensorflow!=2.0.*,!=2.1.*,!=2.2.*,<2.4,>=1.15.2->tensorflow_transform) (1.12.1)\n",
            "Requirement already satisfied: h5py<2.11.0,>=2.10.0 in /usr/local/lib/python3.6/dist-packages (from tensorflow!=2.0.*,!=2.1.*,!=2.2.*,<2.4,>=1.15.2->tensorflow_transform) (2.10.0)\n",
            "Requirement already satisfied: opt-einsum>=2.3.2 in /usr/local/lib/python3.6/dist-packages (from tensorflow!=2.0.*,!=2.1.*,!=2.2.*,<2.4,>=1.15.2->tensorflow_transform) (3.3.0)\n",
            "Requirement already satisfied: termcolor>=1.1.0 in /usr/local/lib/python3.6/dist-packages (from tensorflow!=2.0.*,!=2.1.*,!=2.2.*,<2.4,>=1.15.2->tensorflow_transform) (1.1.0)\n",
            "Requirement already satisfied: gast==0.3.3 in /usr/local/lib/python3.6/dist-packages (from tensorflow!=2.0.*,!=2.1.*,!=2.2.*,<2.4,>=1.15.2->tensorflow_transform) (0.3.3)\n",
            "Requirement already satisfied: astunparse==1.6.3 in /usr/local/lib/python3.6/dist-packages (from tensorflow!=2.0.*,!=2.1.*,!=2.2.*,<2.4,>=1.15.2->tensorflow_transform) (1.6.3)\n",
            "Requirement already satisfied: tensorboard<3,>=2.3.0 in /usr/local/lib/python3.6/dist-packages (from tensorflow!=2.0.*,!=2.1.*,!=2.2.*,<2.4,>=1.15.2->tensorflow_transform) (2.3.0)\n",
            "Requirement already satisfied: tensorflow-estimator<2.4.0,>=2.3.0 in /usr/local/lib/python3.6/dist-packages (from tensorflow!=2.0.*,!=2.1.*,!=2.2.*,<2.4,>=1.15.2->tensorflow_transform) (2.3.0)\n",
            "Requirement already satisfied: keras-preprocessing<1.2,>=1.1.1 in /usr/local/lib/python3.6/dist-packages (from tensorflow!=2.0.*,!=2.1.*,!=2.2.*,<2.4,>=1.15.2->tensorflow_transform) (1.1.2)\n",
            "Requirement already satisfied: wheel>=0.26 in /usr/local/lib/python3.6/dist-packages (from tensorflow!=2.0.*,!=2.1.*,!=2.2.*,<2.4,>=1.15.2->tensorflow_transform) (0.34.2)\n",
            "Requirement already satisfied: google-pasta>=0.1.8 in /usr/local/lib/python3.6/dist-packages (from tensorflow!=2.0.*,!=2.1.*,!=2.2.*,<2.4,>=1.15.2->tensorflow_transform) (0.2.0)\n",
            "Requirement already satisfied: scipy==1.4.1 in /usr/local/lib/python3.6/dist-packages (from tensorflow!=2.0.*,!=2.1.*,!=2.2.*,<2.4,>=1.15.2->tensorflow_transform) (1.4.1)\n",
            "Requirement already satisfied: googleapis-common-protos in /usr/local/lib/python3.6/dist-packages (from tensorflow-metadata<0.24,>=0.23->tensorflow_transform) (1.52.0)\n",
            "Requirement already satisfied: pyasn1>=0.1.7 in /usr/local/lib/python3.6/dist-packages (from oauth2client<4,>=2.0.1->apache-beam[gcp]<3,>=2.23->tensorflow_transform) (0.4.8)\n",
            "Requirement already satisfied: pyasn1-modules>=0.0.5 in /usr/local/lib/python3.6/dist-packages (from oauth2client<4,>=2.0.1->apache-beam[gcp]<3,>=2.23->tensorflow_transform) (0.2.8)\n",
            "Requirement already satisfied: rsa>=3.1.4 in /usr/local/lib/python3.6/dist-packages (from oauth2client<4,>=2.0.1->apache-beam[gcp]<3,>=2.23->tensorflow_transform) (4.6)\n",
            "Requirement already satisfied: docopt in /usr/local/lib/python3.6/dist-packages (from hdfs<3.0.0,>=2.1.0->apache-beam[gcp]<3,>=2.23->tensorflow_transform) (0.6.2)\n",
            "Requirement already satisfied: requests>=2.7.0 in /usr/local/lib/python3.6/dist-packages (from hdfs<3.0.0,>=2.1.0->apache-beam[gcp]<3,>=2.23->tensorflow_transform) (2.23.0)\n",
            "Collecting pbr>=0.11\n",
            "\u001b[?25l  Downloading https://files.pythonhosted.org/packages/96/ba/aa953a11ec014b23df057ecdbc922fdb40ca8463466b1193f3367d2711a6/pbr-5.4.5-py2.py3-none-any.whl (110kB)\n",
            "\u001b[K     |████████████████████████████████| 112kB 43.9MB/s \n",
            "\u001b[?25hRequirement already satisfied: google-api-core[grpc]<2.0.0dev,>=1.14.0 in /usr/local/lib/python3.6/dist-packages (from google-cloud-language<2,>=1.3.0; extra == \"gcp\"->apache-beam[gcp]<3,>=2.23->tensorflow_transform) (1.16.0)\n",
            "Collecting grpc-google-iam-v1<0.13dev,>=0.12.3\n",
            "  Downloading https://files.pythonhosted.org/packages/65/19/2060c8faa325fddc09aa67af98ffcb6813f39a0ad805679fa64815362b3a/grpc-google-iam-v1-0.12.3.tar.gz\n",
            "Requirement already satisfied: google-resumable-media!=0.4.0,<0.5.0dev,>=0.3.1 in /usr/local/lib/python3.6/dist-packages (from google-cloud-bigquery<=1.24.0,>=1.6.0; extra == \"gcp\"->apache-beam[gcp]<3,>=2.23->tensorflow_transform) (0.4.1)\n",
            "Collecting fasteners>=0.14\n",
            "  Downloading https://files.pythonhosted.org/packages/18/bd/55eb2d6397b9c0e263af9d091ebdb756b15756029b3cededf6461481bc63/fasteners-0.15-py2.py3-none-any.whl\n",
            "Requirement already satisfied: uritemplate<4dev,>=3.0.0 in /usr/local/lib/python3.6/dist-packages (from google-api-python-client<2,>=1.7.11->tfx-bsl<0.24,>=0.23->tensorflow_transform) (3.0.1)\n",
            "Requirement already satisfied: google-auth>=1.4.1 in /usr/local/lib/python3.6/dist-packages (from google-api-python-client<2,>=1.7.11->tfx-bsl<0.24,>=0.23->tensorflow_transform) (1.17.2)\n",
            "Requirement already satisfied: google-auth-httplib2>=0.0.3 in /usr/local/lib/python3.6/dist-packages (from google-api-python-client<2,>=1.7.11->tfx-bsl<0.24,>=0.23->tensorflow_transform) (0.0.4)\n",
            "Requirement already satisfied: werkzeug>=0.11.15 in /usr/local/lib/python3.6/dist-packages (from tensorboard<3,>=2.3.0->tensorflow!=2.0.*,!=2.1.*,!=2.2.*,<2.4,>=1.15.2->tensorflow_transform) (1.0.1)\n",
            "Requirement already satisfied: markdown>=2.6.8 in /usr/local/lib/python3.6/dist-packages (from tensorboard<3,>=2.3.0->tensorflow!=2.0.*,!=2.1.*,!=2.2.*,<2.4,>=1.15.2->tensorflow_transform) (3.2.2)\n",
            "Requirement already satisfied: google-auth-oauthlib<0.5,>=0.4.1 in /usr/local/lib/python3.6/dist-packages (from tensorboard<3,>=2.3.0->tensorflow!=2.0.*,!=2.1.*,!=2.2.*,<2.4,>=1.15.2->tensorflow_transform) (0.4.1)\n",
            "Requirement already satisfied: tensorboard-plugin-wit>=1.6.0 in /usr/local/lib/python3.6/dist-packages (from tensorboard<3,>=2.3.0->tensorflow!=2.0.*,!=2.1.*,!=2.2.*,<2.4,>=1.15.2->tensorflow_transform) (1.7.0)\n",
            "Requirement already satisfied: urllib3!=1.25.0,!=1.25.1,<1.26,>=1.21.1 in /usr/local/lib/python3.6/dist-packages (from requests>=2.7.0->hdfs<3.0.0,>=2.1.0->apache-beam[gcp]<3,>=2.23->tensorflow_transform) (1.24.3)\n",
            "Requirement already satisfied: idna<3,>=2.5 in /usr/local/lib/python3.6/dist-packages (from requests>=2.7.0->hdfs<3.0.0,>=2.1.0->apache-beam[gcp]<3,>=2.23->tensorflow_transform) (2.10)\n",
            "Requirement already satisfied: chardet<4,>=3.0.2 in /usr/local/lib/python3.6/dist-packages (from requests>=2.7.0->hdfs<3.0.0,>=2.1.0->apache-beam[gcp]<3,>=2.23->tensorflow_transform) (3.0.4)\n",
            "Requirement already satisfied: certifi>=2017.4.17 in /usr/local/lib/python3.6/dist-packages (from requests>=2.7.0->hdfs<3.0.0,>=2.1.0->apache-beam[gcp]<3,>=2.23->tensorflow_transform) (2020.6.20)\n",
            "Collecting monotonic>=0.1\n",
            "  Downloading https://files.pythonhosted.org/packages/ac/aa/063eca6a416f397bd99552c534c6d11d57f58f2e94c14780f3bbf818c4cf/monotonic-1.5-py2.py3-none-any.whl\n",
            "Requirement already satisfied: importlib-metadata; python_version < \"3.8\" in /usr/local/lib/python3.6/dist-packages (from markdown>=2.6.8->tensorboard<3,>=2.3.0->tensorflow!=2.0.*,!=2.1.*,!=2.2.*,<2.4,>=1.15.2->tensorflow_transform) (1.7.0)\n",
            "Requirement already satisfied: requests-oauthlib>=0.7.0 in /usr/local/lib/python3.6/dist-packages (from google-auth-oauthlib<0.5,>=0.4.1->tensorboard<3,>=2.3.0->tensorflow!=2.0.*,!=2.1.*,!=2.2.*,<2.4,>=1.15.2->tensorflow_transform) (1.3.0)\n",
            "Requirement already satisfied: zipp>=0.5 in /usr/local/lib/python3.6/dist-packages (from importlib-metadata; python_version < \"3.8\"->markdown>=2.6.8->tensorboard<3,>=2.3.0->tensorflow!=2.0.*,!=2.1.*,!=2.2.*,<2.4,>=1.15.2->tensorflow_transform) (3.1.0)\n",
            "Requirement already satisfied: oauthlib>=3.0.0 in /usr/local/lib/python3.6/dist-packages (from requests-oauthlib>=0.7.0->google-auth-oauthlib<0.5,>=0.4.1->tensorboard<3,>=2.3.0->tensorflow!=2.0.*,!=2.1.*,!=2.2.*,<2.4,>=1.15.2->tensorflow_transform) (3.1.0)\n",
            "Building wheels for collected packages: absl-py, future, avro-python3, oauth2client, dill, hdfs, google-apitools, grpc-google-iam-v1\n",
            "  Building wheel for absl-py (setup.py) ... \u001b[?25l\u001b[?25hdone\n",
            "  Created wheel for absl-py: filename=absl_py-0.8.1-cp36-none-any.whl size=121167 sha256=1e733b14ddcad73ae4b0e4d7ffc99879de9fb1a8db4bdec14c7e212dfc574eeb\n",
            "  Stored in directory: /root/.cache/pip/wheels/a7/15/a0/0a0561549ad11cdc1bc8fa1191a353efd30facf6bfb507aefc\n",
            "  Building wheel for future (setup.py) ... \u001b[?25l\u001b[?25hdone\n",
            "  Created wheel for future: filename=future-0.18.2-cp36-none-any.whl size=491057 sha256=ffb816b8ac6be502407dcbd932d96ae5bbf74ad919c118611bc6f7f6d33d28ce\n",
            "  Stored in directory: /root/.cache/pip/wheels/8b/99/a0/81daf51dcd359a9377b110a8a886b3895921802d2fc1b2397e\n",
            "  Building wheel for avro-python3 (setup.py) ... \u001b[?25l\u001b[?25hdone\n",
            "  Created wheel for avro-python3: filename=avro_python3-1.9.2.1-cp36-none-any.whl size=43516 sha256=7e6be4ebccf68f234af056f0fafbb38822267814baa2000a93292af13dbbd31a\n",
            "  Stored in directory: /root/.cache/pip/wheels/5a/d3/be/86620c9dd3fca68986c33b9c616510289fc0abb81ec9aa70bd\n",
            "  Building wheel for oauth2client (setup.py) ... \u001b[?25l\u001b[?25hdone\n",
            "  Created wheel for oauth2client: filename=oauth2client-3.0.0-cp36-none-any.whl size=106382 sha256=4f395cc3c8e6def5f1df2fda8b14043200b5b6eafb8a33e158f7ebf0312fc18a\n",
            "  Stored in directory: /root/.cache/pip/wheels/48/f7/87/b932f09c6335dbcf45d916937105a372ab14f353a9ca431d7d\n",
            "  Building wheel for dill (setup.py) ... \u001b[?25l\u001b[?25hdone\n",
            "  Created wheel for dill: filename=dill-0.3.1.1-cp36-none-any.whl size=78532 sha256=4365928864e4e3f85dc5d26480b978f672d33b4ac732ced48679aad47331ccb5\n",
            "  Stored in directory: /root/.cache/pip/wheels/59/b1/91/f02e76c732915c4015ab4010f3015469866c1eb9b14058d8e7\n",
            "  Building wheel for hdfs (setup.py) ... \u001b[?25l\u001b[?25hdone\n",
            "  Created wheel for hdfs: filename=hdfs-2.5.8-cp36-none-any.whl size=33213 sha256=7e6b8994ea33704cd59b63c2f3939f04a4ddc5036714dfad211149913ab1fcf0\n",
            "  Stored in directory: /root/.cache/pip/wheels/fe/a7/05/23e3699975fc20f8a30e00ac1e515ab8c61168e982abe4ce70\n",
            "  Building wheel for google-apitools (setup.py) ... \u001b[?25l\u001b[?25hdone\n",
            "  Created wheel for google-apitools: filename=google_apitools-0.5.31-cp36-none-any.whl size=131043 sha256=af62eac9f3d0ccabd91ad3f88b4ff663d573230aea3187a3776956ce726d8f86\n",
            "  Stored in directory: /root/.cache/pip/wheels/3b/43/31/09a9dad88d3aec6fed2d63bd35dfc532fca372e2edec5af5bf\n",
            "  Building wheel for grpc-google-iam-v1 (setup.py) ... \u001b[?25l\u001b[?25hdone\n",
            "  Created wheel for grpc-google-iam-v1: filename=grpc_google_iam_v1-0.12.3-cp36-none-any.whl size=18500 sha256=97b687f957097b1d88df8f2b44332c929925a122f734242c7269e803472ffdc4\n",
            "  Stored in directory: /root/.cache/pip/wheels/de/3a/83/77a1e18e1a8757186df834b86ce6800120ac9c79cd8ca4091b\n",
            "Successfully built absl-py future avro-python3 oauth2client dill hdfs google-apitools grpc-google-iam-v1\n",
            "\u001b[31mERROR: pydrive 1.3.1 has requirement oauth2client>=4.0.0, but you'll have oauth2client 3.0.0 which is incompatible.\u001b[0m\n",
            "\u001b[31mERROR: multiprocess 0.70.10 has requirement dill>=0.3.2, but you'll have dill 0.3.1.1 which is incompatible.\u001b[0m\n",
            "Installing collected packages: future, avro-python3, oauth2client, dill, hdfs, pyarrow, fastavro, pbr, mock, google-cloud-language, grpc-google-iam-v1, google-cloud-spanner, google-cloud-datastore, google-cloud-dlp, google-cloud-videointelligence, google-cloud-pubsub, grpcio-gcp, google-cloud-vision, monotonic, fasteners, google-apitools, cachetools, google-cloud-bigtable, apache-beam, absl-py, tensorflow-metadata, tensorflow-serving-api, tfx-bsl, tensorflow-transform\n",
            "  Found existing installation: future 0.16.0\n",
            "    Uninstalling future-0.16.0:\n",
            "      Successfully uninstalled future-0.16.0\n",
            "  Found existing installation: oauth2client 4.1.3\n",
            "    Uninstalling oauth2client-4.1.3:\n",
            "      Successfully uninstalled oauth2client-4.1.3\n",
            "  Found existing installation: dill 0.3.2\n",
            "    Uninstalling dill-0.3.2:\n",
            "      Successfully uninstalled dill-0.3.2\n",
            "  Found existing installation: pyarrow 0.14.1\n",
            "    Uninstalling pyarrow-0.14.1:\n",
            "      Successfully uninstalled pyarrow-0.14.1\n",
            "  Found existing installation: google-cloud-language 1.2.0\n",
            "    Uninstalling google-cloud-language-1.2.0:\n",
            "      Successfully uninstalled google-cloud-language-1.2.0\n",
            "  Found existing installation: google-cloud-datastore 1.8.0\n",
            "    Uninstalling google-cloud-datastore-1.8.0:\n",
            "      Successfully uninstalled google-cloud-datastore-1.8.0\n",
            "  Found existing installation: cachetools 4.1.1\n",
            "    Uninstalling cachetools-4.1.1:\n",
            "      Successfully uninstalled cachetools-4.1.1\n",
            "  Found existing installation: absl-py 0.9.0\n",
            "    Uninstalling absl-py-0.9.0:\n",
            "      Successfully uninstalled absl-py-0.9.0\n",
            "  Found existing installation: tensorflow-metadata 0.22.2\n",
            "    Uninstalling tensorflow-metadata-0.22.2:\n",
            "      Successfully uninstalled tensorflow-metadata-0.22.2\n",
            "Successfully installed absl-py-0.8.1 apache-beam-2.23.0 avro-python3-1.9.2.1 cachetools-3.1.1 dill-0.3.1.1 fastavro-0.23.6 fasteners-0.15 future-0.18.2 google-apitools-0.5.31 google-cloud-bigtable-1.0.0 google-cloud-datastore-1.7.4 google-cloud-dlp-0.13.0 google-cloud-language-1.3.0 google-cloud-pubsub-1.0.2 google-cloud-spanner-1.13.0 google-cloud-videointelligence-1.13.0 google-cloud-vision-0.42.0 grpc-google-iam-v1-0.12.3 grpcio-gcp-0.2.2 hdfs-2.5.8 mock-2.0.0 monotonic-1.5 oauth2client-3.0.0 pbr-5.4.5 pyarrow-0.17.1 tensorflow-metadata-0.23.0 tensorflow-serving-api-2.3.0 tensorflow-transform-0.23.0 tfx-bsl-0.23.0\n"
          ],
          "name": "stdout"
        },
        {
          "output_type": "display_data",
          "data": {
            "application/vnd.colab-display-data+json": {
              "pip_warning": {
                "packages": [
                  "google"
                ]
              }
            }
          },
          "metadata": {
            "tags": []
          }
        },
        {
          "output_type": "stream",
          "text": [
            "Obtaining file:///content/pegasus\n",
            "Requirement already satisfied: absl-py in /usr/local/lib/python3.6/dist-packages (from pegasus==0.0.1) (0.8.1)\n",
            "Requirement already satisfied: mock in /usr/local/lib/python3.6/dist-packages (from pegasus==0.0.1) (2.0.0)\n",
            "Requirement already satisfied: numpy in /usr/local/lib/python3.6/dist-packages (from pegasus==0.0.1) (1.18.5)\n",
            "Collecting rouge-score\n",
            "  Downloading https://files.pythonhosted.org/packages/1f/56/a81022436c08b9405a5247b71635394d44fe7e1dbedc4b28c740e09c2840/rouge_score-0.0.4-py2.py3-none-any.whl\n",
            "Collecting sacrebleu\n",
            "\u001b[?25l  Downloading https://files.pythonhosted.org/packages/23/d3/be980ad7cda7c4bbfa97ee3de062fb3014fc1a34d6dd5b82d7b92f8d6522/sacrebleu-1.4.13-py3-none-any.whl (43kB)\n",
            "\u001b[K     |████████████████████████████████| 51kB 4.5MB/s \n",
            "\u001b[?25hCollecting sentencepiece\n",
            "\u001b[?25l  Downloading https://files.pythonhosted.org/packages/d4/a4/d0a884c4300004a78cca907a6ff9a5e9fe4f090f5d95ab341c53d28cbc58/sentencepiece-0.1.91-cp36-cp36m-manylinux1_x86_64.whl (1.1MB)\n",
            "\u001b[K     |████████████████████████████████| 1.1MB 10.1MB/s \n",
            "\u001b[?25hCollecting tensorflow-text==1.15.0rc0\n",
            "\u001b[?25l  Downloading https://files.pythonhosted.org/packages/81/2c/57a6cc36f0ee1acf466a71048e2a0a2a01742eef505b3195d0fa27d87968/tensorflow_text-1.15.0rc0-cp36-cp36m-manylinux1_x86_64.whl (8.6MB)\n",
            "\u001b[K     |████████████████████████████████| 8.6MB 32.3MB/s \n",
            "\u001b[?25hCollecting tfds-nightly\n",
            "\u001b[?25l  Downloading https://files.pythonhosted.org/packages/d1/43/21945a1d3e831dbfaa9e11aa3e01a4037aff90f270bfc351664af3e748e1/tfds_nightly-3.2.1.dev202008150105-py3-none-any.whl (3.5MB)\n",
            "\u001b[K     |████████████████████████████████| 3.5MB 33.4MB/s \n",
            "\u001b[?25hCollecting tensor2tensor==1.15.0\n",
            "\u001b[?25l  Downloading https://files.pythonhosted.org/packages/0f/a6/0f6a95a5548cf9fbfed0bbec69959355bda594e85298ebbba5f808ca0fc5/tensor2tensor-1.15.0-py2.py3-none-any.whl (1.4MB)\n",
            "\u001b[K     |████████████████████████████████| 1.4MB 39.4MB/s \n",
            "\u001b[?25hCollecting tensorflow-gpu==1.15.2\n",
            "\u001b[?25l  Downloading https://files.pythonhosted.org/packages/32/ca/58e40e5077fa2a92004f398d705a288e958434f123938f4ce75ffe25b64b/tensorflow_gpu-1.15.2-cp36-cp36m-manylinux2010_x86_64.whl (411.0MB)\n",
            "\u001b[K     |████████████████████████████████| 411.0MB 44kB/s \n",
            "\u001b[?25hRequirement already satisfied: six in /usr/local/lib/python3.6/dist-packages (from absl-py->pegasus==0.0.1) (1.15.0)\n",
            "Requirement already satisfied: pbr>=0.11 in /usr/local/lib/python3.6/dist-packages (from mock->pegasus==0.0.1) (5.4.5)\n",
            "Requirement already satisfied: nltk in /usr/local/lib/python3.6/dist-packages (from rouge-score->pegasus==0.0.1) (3.2.5)\n",
            "Collecting portalocker\n",
            "  Downloading https://files.pythonhosted.org/packages/89/a6/3814b7107e0788040870e8825eebf214d72166adf656ba7d4bf14759a06a/portalocker-2.0.0-py2.py3-none-any.whl\n",
            "Collecting tensorflow<1.16,>=1.15.0\n",
            "\u001b[?25l  Downloading https://files.pythonhosted.org/packages/02/36/9a02e27f0ec248b676a380ffe910c1858e3af3027c0d4d513dd0b56a5613/tensorflow-1.15.3-cp36-cp36m-manylinux2010_x86_64.whl (110.5MB)\n",
            "\u001b[K     |████████████████████████████████| 110.5MB 45kB/s \n",
            "\u001b[?25hRequirement already satisfied: tensorflow-metadata in /usr/local/lib/python3.6/dist-packages (from tfds-nightly->pegasus==0.0.1) (0.23.0)\n",
            "Requirement already satisfied: requests>=2.19.0 in /usr/local/lib/python3.6/dist-packages (from tfds-nightly->pegasus==0.0.1) (2.23.0)\n",
            "Requirement already satisfied: wrapt in /usr/local/lib/python3.6/dist-packages (from tfds-nightly->pegasus==0.0.1) (1.12.1)\n",
            "Requirement already satisfied: future in /usr/local/lib/python3.6/dist-packages (from tfds-nightly->pegasus==0.0.1) (0.18.2)\n",
            "Collecting importlib-resources; python_version < \"3.9\"\n",
            "  Downloading https://files.pythonhosted.org/packages/ba/03/0f9595c0c2ef12590877f3c47e5f579759ce5caf817f8256d5dcbd8a1177/importlib_resources-3.0.0-py2.py3-none-any.whl\n",
            "Requirement already satisfied: dm-tree in /usr/local/lib/python3.6/dist-packages (from tfds-nightly->pegasus==0.0.1) (0.1.5)\n",
            "Requirement already satisfied: promise in /usr/local/lib/python3.6/dist-packages (from tfds-nightly->pegasus==0.0.1) (2.3)\n",
            "Requirement already satisfied: dataclasses; python_version < \"3.7\" in /usr/local/lib/python3.6/dist-packages (from tfds-nightly->pegasus==0.0.1) (0.7)\n",
            "Requirement already satisfied: protobuf>=3.6.1 in /usr/local/lib/python3.6/dist-packages (from tfds-nightly->pegasus==0.0.1) (3.12.4)\n",
            "Requirement already satisfied: termcolor in /usr/local/lib/python3.6/dist-packages (from tfds-nightly->pegasus==0.0.1) (1.1.0)\n",
            "Requirement already satisfied: tqdm in /usr/local/lib/python3.6/dist-packages (from tfds-nightly->pegasus==0.0.1) (4.41.1)\n",
            "Requirement already satisfied: attrs>=18.1.0 in /usr/local/lib/python3.6/dist-packages (from tfds-nightly->pegasus==0.0.1) (19.3.0)\n",
            "Requirement already satisfied: dill in /usr/local/lib/python3.6/dist-packages (from tfds-nightly->pegasus==0.0.1) (0.3.1.1)\n",
            "Requirement already satisfied: gym in /usr/local/lib/python3.6/dist-packages (from tensor2tensor==1.15.0->pegasus==0.0.1) (0.17.2)\n",
            "Requirement already satisfied: gin-config in /usr/local/lib/python3.6/dist-packages (from tensor2tensor==1.15.0->pegasus==0.0.1) (0.3.0)\n",
            "Requirement already satisfied: h5py in /usr/local/lib/python3.6/dist-packages (from tensor2tensor==1.15.0->pegasus==0.0.1) (2.10.0)\n",
            "Collecting tensorflow-gan\n",
            "\u001b[?25l  Downloading https://files.pythonhosted.org/packages/0c/2e/62922111d7d50e1900e3030764743ea7735540ce103b3ab30fd5cd2d8a2b/tensorflow_gan-2.0.0-py2.py3-none-any.whl (365kB)\n",
            "\u001b[K     |████████████████████████████████| 368kB 37.5MB/s \n",
            "\u001b[?25hRequirement already satisfied: dopamine-rl in /usr/local/lib/python3.6/dist-packages (from tensor2tensor==1.15.0->pegasus==0.0.1) (1.0.5)\n",
            "Requirement already satisfied: oauth2client in /usr/local/lib/python3.6/dist-packages (from tensor2tensor==1.15.0->pegasus==0.0.1) (3.0.0)\n",
            "Collecting pypng\n",
            "\u001b[?25l  Downloading https://files.pythonhosted.org/packages/bc/fb/f719f1ac965e2101aa6ea6f54ef8b40f8fbb033f6ad07c017663467f5147/pypng-0.0.20.tar.gz (649kB)\n",
            "\u001b[K     |████████████████████████████████| 655kB 33.8MB/s \n",
            "\u001b[?25hCollecting tensorflow-probability==0.7.0\n",
            "\u001b[?25l  Downloading https://files.pythonhosted.org/packages/3e/3a/c10b6c22320531c774402ac7186d1b673374e2a9d12502cbc8d811e4601c/tensorflow_probability-0.7.0-py2.py3-none-any.whl (981kB)\n",
            "\u001b[K     |████████████████████████████████| 983kB 17.4MB/s \n",
            "\u001b[?25hRequirement already satisfied: flask in /usr/local/lib/python3.6/dist-packages (from tensor2tensor==1.15.0->pegasus==0.0.1) (1.1.2)\n",
            "Collecting gunicorn\n",
            "\u001b[?25l  Downloading https://files.pythonhosted.org/packages/69/ca/926f7cd3a2014b16870086b2d0fdc84a9e49473c68a8dff8b57f7c156f43/gunicorn-20.0.4-py2.py3-none-any.whl (77kB)\n",
            "\u001b[K     |████████████████████████████████| 81kB 10.2MB/s \n",
            "\u001b[?25hRequirement already satisfied: opencv-python in /usr/local/lib/python3.6/dist-packages (from tensor2tensor==1.15.0->pegasus==0.0.1) (4.1.2.30)\n",
            "Requirement already satisfied: sympy in /usr/local/lib/python3.6/dist-packages (from tensor2tensor==1.15.0->pegasus==0.0.1) (1.1.1)\n",
            "Collecting tf-slim\n",
            "\u001b[?25l  Downloading https://files.pythonhosted.org/packages/02/97/b0f4a64df018ca018cc035d44f2ef08f91e2e8aa67271f6f19633a015ff7/tf_slim-1.1.0-py2.py3-none-any.whl (352kB)\n",
            "\u001b[K     |████████████████████████████████| 358kB 38.8MB/s \n",
            "\u001b[?25hRequirement already satisfied: google-api-python-client in /usr/local/lib/python3.6/dist-packages (from tensor2tensor==1.15.0->pegasus==0.0.1) (1.7.12)\n",
            "Requirement already satisfied: tensorflow-datasets in /usr/local/lib/python3.6/dist-packages (from tensor2tensor==1.15.0->pegasus==0.0.1) (2.1.0)\n",
            "Collecting bz2file\n",
            "  Downloading https://files.pythonhosted.org/packages/61/39/122222b5e85cd41c391b68a99ee296584b2a2d1d233e7ee32b4532384f2d/bz2file-0.98.tar.gz\n",
            "Collecting gevent\n",
            "\u001b[?25l  Downloading https://files.pythonhosted.org/packages/05/18/3932900a42d7010cc63529fc5cb7a5a20fb61878d1721d0d4387567d5973/gevent-20.6.2-cp36-cp36m-manylinux2010_x86_64.whl (5.3MB)\n",
            "\u001b[K     |████████████████████████████████| 5.3MB 35.2MB/s \n",
            "\u001b[?25hCollecting kfac\n",
            "\u001b[?25l  Downloading https://files.pythonhosted.org/packages/01/f0/4a7758f854a15b37d322827123ce58619d0f4270dd94f2dd30328f397339/kfac-0.2.0-py2.py3-none-any.whl (178kB)\n",
            "\u001b[K     |████████████████████████████████| 184kB 40.7MB/s \n",
            "\u001b[?25hRequirement already satisfied: Pillow in /usr/local/lib/python3.6/dist-packages (from tensor2tensor==1.15.0->pegasus==0.0.1) (7.0.0)\n",
            "Collecting mesh-tensorflow\n",
            "\u001b[?25l  Downloading https://files.pythonhosted.org/packages/52/6b/d01247d9a9b49389599a28e17782ec1d3d45413cedbfe8e90aad46835329/mesh_tensorflow-0.1.16-py3-none-any.whl (305kB)\n",
            "\u001b[K     |████████████████████████████████| 307kB 45.9MB/s \n",
            "\u001b[?25hRequirement already satisfied: scipy in /usr/local/lib/python3.6/dist-packages (from tensor2tensor==1.15.0->pegasus==0.0.1) (1.4.1)\n",
            "Collecting gast==0.2.2\n",
            "  Downloading https://files.pythonhosted.org/packages/4e/35/11749bf99b2d4e3cceb4d55ca22590b0d7c2c62b9de38ac4a4a7f4687421/gast-0.2.2.tar.gz\n",
            "Collecting tensorflow-estimator==1.15.1\n",
            "\u001b[?25l  Downloading https://files.pythonhosted.org/packages/de/62/2ee9cd74c9fa2fa450877847ba560b260f5d0fb70ee0595203082dafcc9d/tensorflow_estimator-1.15.1-py2.py3-none-any.whl (503kB)\n",
            "\u001b[K     |████████████████████████████████| 512kB 33.6MB/s \n",
            "\u001b[?25hRequirement already satisfied: keras-preprocessing>=1.0.5 in /usr/local/lib/python3.6/dist-packages (from tensorflow-gpu==1.15.2->pegasus==0.0.1) (1.1.2)\n",
            "Requirement already satisfied: opt-einsum>=2.3.2 in /usr/local/lib/python3.6/dist-packages (from tensorflow-gpu==1.15.2->pegasus==0.0.1) (3.3.0)\n",
            "Requirement already satisfied: google-pasta>=0.1.6 in /usr/local/lib/python3.6/dist-packages (from tensorflow-gpu==1.15.2->pegasus==0.0.1) (0.2.0)\n",
            "Requirement already satisfied: astor>=0.6.0 in /usr/local/lib/python3.6/dist-packages (from tensorflow-gpu==1.15.2->pegasus==0.0.1) (0.8.1)\n",
            "Requirement already satisfied: grpcio>=1.8.6 in /usr/local/lib/python3.6/dist-packages (from tensorflow-gpu==1.15.2->pegasus==0.0.1) (1.31.0)\n",
            "Requirement already satisfied: wheel>=0.26; python_version >= \"3\" in /usr/local/lib/python3.6/dist-packages (from tensorflow-gpu==1.15.2->pegasus==0.0.1) (0.34.2)\n",
            "Collecting tensorboard<1.16.0,>=1.15.0\n",
            "\u001b[?25l  Downloading https://files.pythonhosted.org/packages/1e/e9/d3d747a97f7188f48aa5eda486907f3b345cd409f0a0850468ba867db246/tensorboard-1.15.0-py3-none-any.whl (3.8MB)\n",
            "\u001b[K     |████████████████████████████████| 3.8MB 35.1MB/s \n",
            "\u001b[?25hCollecting keras-applications>=1.0.8\n",
            "\u001b[?25l  Downloading https://files.pythonhosted.org/packages/71/e3/19762fdfc62877ae9102edf6342d71b28fbfd9dea3d2f96a882ce099b03f/Keras_Applications-1.0.8-py3-none-any.whl (50kB)\n",
            "\u001b[K     |████████████████████████████████| 51kB 6.4MB/s \n",
            "\u001b[?25hRequirement already satisfied: googleapis-common-protos in /usr/local/lib/python3.6/dist-packages (from tensorflow-metadata->tfds-nightly->pegasus==0.0.1) (1.52.0)\n",
            "Requirement already satisfied: certifi>=2017.4.17 in /usr/local/lib/python3.6/dist-packages (from requests>=2.19.0->tfds-nightly->pegasus==0.0.1) (2020.6.20)\n",
            "Requirement already satisfied: idna<3,>=2.5 in /usr/local/lib/python3.6/dist-packages (from requests>=2.19.0->tfds-nightly->pegasus==0.0.1) (2.10)\n",
            "Requirement already satisfied: urllib3!=1.25.0,!=1.25.1,<1.26,>=1.21.1 in /usr/local/lib/python3.6/dist-packages (from requests>=2.19.0->tfds-nightly->pegasus==0.0.1) (1.24.3)\n",
            "Requirement already satisfied: chardet<4,>=3.0.2 in /usr/local/lib/python3.6/dist-packages (from requests>=2.19.0->tfds-nightly->pegasus==0.0.1) (3.0.4)\n",
            "Requirement already satisfied: zipp>=0.4; python_version < \"3.8\" in /usr/local/lib/python3.6/dist-packages (from importlib-resources; python_version < \"3.9\"->tfds-nightly->pegasus==0.0.1) (3.1.0)\n",
            "Requirement already satisfied: setuptools in /usr/local/lib/python3.6/dist-packages (from protobuf>=3.6.1->tfds-nightly->pegasus==0.0.1) (49.2.0)\n",
            "Requirement already satisfied: pyglet<=1.5.0,>=1.4.0 in /usr/local/lib/python3.6/dist-packages (from gym->tensor2tensor==1.15.0->pegasus==0.0.1) (1.5.0)\n",
            "Requirement already satisfied: cloudpickle<1.4.0,>=1.2.0 in /usr/local/lib/python3.6/dist-packages (from gym->tensor2tensor==1.15.0->pegasus==0.0.1) (1.3.0)\n",
            "Requirement already satisfied: tensorflow-hub>=0.2 in /usr/local/lib/python3.6/dist-packages (from tensorflow-gan->tensor2tensor==1.15.0->pegasus==0.0.1) (0.8.0)\n",
            "Requirement already satisfied: httplib2>=0.9.1 in /usr/local/lib/python3.6/dist-packages (from oauth2client->tensor2tensor==1.15.0->pegasus==0.0.1) (0.17.4)\n",
            "Requirement already satisfied: pyasn1>=0.1.7 in /usr/local/lib/python3.6/dist-packages (from oauth2client->tensor2tensor==1.15.0->pegasus==0.0.1) (0.4.8)\n",
            "Requirement already satisfied: pyasn1-modules>=0.0.5 in /usr/local/lib/python3.6/dist-packages (from oauth2client->tensor2tensor==1.15.0->pegasus==0.0.1) (0.2.8)\n",
            "Requirement already satisfied: rsa>=3.1.4 in /usr/local/lib/python3.6/dist-packages (from oauth2client->tensor2tensor==1.15.0->pegasus==0.0.1) (4.6)\n",
            "Requirement already satisfied: decorator in /usr/local/lib/python3.6/dist-packages (from tensorflow-probability==0.7.0->tensor2tensor==1.15.0->pegasus==0.0.1) (4.4.2)\n",
            "Requirement already satisfied: Werkzeug>=0.15 in /usr/local/lib/python3.6/dist-packages (from flask->tensor2tensor==1.15.0->pegasus==0.0.1) (1.0.1)\n",
            "Requirement already satisfied: itsdangerous>=0.24 in /usr/local/lib/python3.6/dist-packages (from flask->tensor2tensor==1.15.0->pegasus==0.0.1) (1.1.0)\n",
            "Requirement already satisfied: Jinja2>=2.10.1 in /usr/local/lib/python3.6/dist-packages (from flask->tensor2tensor==1.15.0->pegasus==0.0.1) (2.11.2)\n",
            "Requirement already satisfied: click>=5.1 in /usr/local/lib/python3.6/dist-packages (from flask->tensor2tensor==1.15.0->pegasus==0.0.1) (7.1.2)\n",
            "Requirement already satisfied: mpmath>=0.19 in /usr/local/lib/python3.6/dist-packages (from sympy->tensor2tensor==1.15.0->pegasus==0.0.1) (1.1.0)\n",
            "Requirement already satisfied: uritemplate<4dev,>=3.0.0 in /usr/local/lib/python3.6/dist-packages (from google-api-python-client->tensor2tensor==1.15.0->pegasus==0.0.1) (3.0.1)\n",
            "Requirement already satisfied: google-auth>=1.4.1 in /usr/local/lib/python3.6/dist-packages (from google-api-python-client->tensor2tensor==1.15.0->pegasus==0.0.1) (1.17.2)\n",
            "Requirement already satisfied: google-auth-httplib2>=0.0.3 in /usr/local/lib/python3.6/dist-packages (from google-api-python-client->tensor2tensor==1.15.0->pegasus==0.0.1) (0.0.4)\n",
            "Collecting zope.interface\n",
            "\u001b[?25l  Downloading https://files.pythonhosted.org/packages/57/33/565274c28a11af60b7cfc0519d46bde4125fcd7d32ebc0a81b480d0e8da6/zope.interface-5.1.0-cp36-cp36m-manylinux2010_x86_64.whl (234kB)\n",
            "\u001b[K     |████████████████████████████████| 235kB 44.5MB/s \n",
            "\u001b[?25hCollecting zope.event\n",
            "  Downloading https://files.pythonhosted.org/packages/c5/96/361edb421a077a4c208b4a5c212737d78ae03ce67fbbcd01621c49f332d1/zope.event-4.4-py2.py3-none-any.whl\n",
            "Collecting greenlet>=0.4.16; platform_python_implementation == \"CPython\"\n",
            "\u001b[?25l  Downloading https://files.pythonhosted.org/packages/7e/a4/0d8685c98986326534b0753a8b92b3082bc9df42b348bc50d6c69839c9f9/greenlet-0.4.16-cp36-cp36m-manylinux1_x86_64.whl (44kB)\n",
            "\u001b[K     |████████████████████████████████| 51kB 6.5MB/s \n",
            "\u001b[?25hRequirement already satisfied: markdown>=2.6.8 in /usr/local/lib/python3.6/dist-packages (from tensorboard<1.16.0,>=1.15.0->tensorflow-gpu==1.15.2->pegasus==0.0.1) (3.2.2)\n",
            "Requirement already satisfied: MarkupSafe>=0.23 in /usr/local/lib/python3.6/dist-packages (from Jinja2>=2.10.1->flask->tensor2tensor==1.15.0->pegasus==0.0.1) (1.1.1)\n",
            "Requirement already satisfied: cachetools<5.0,>=2.0.0 in /usr/local/lib/python3.6/dist-packages (from google-auth>=1.4.1->google-api-python-client->tensor2tensor==1.15.0->pegasus==0.0.1) (3.1.1)\n",
            "Requirement already satisfied: importlib-metadata; python_version < \"3.8\" in /usr/local/lib/python3.6/dist-packages (from markdown>=2.6.8->tensorboard<1.16.0,>=1.15.0->tensorflow-gpu==1.15.2->pegasus==0.0.1) (1.7.0)\n",
            "Building wheels for collected packages: pypng, bz2file, gast\n",
            "  Building wheel for pypng (setup.py) ... \u001b[?25l\u001b[?25hdone\n",
            "  Created wheel for pypng: filename=pypng-0.0.20-cp36-none-any.whl size=67161 sha256=357fd0fdf6960a6e30f2256d93b41caa51386ada67a0f9b845b05e3d7b966d3b\n",
            "  Stored in directory: /root/.cache/pip/wheels/41/6b/ef/0493b536b6d4722c2ae9486691b1d49b922b9877922beeabb3\n",
            "  Building wheel for bz2file (setup.py) ... \u001b[?25l\u001b[?25hdone\n",
            "  Created wheel for bz2file: filename=bz2file-0.98-cp36-none-any.whl size=6884 sha256=91038432c726cd8dc34a10fcff3a54f72176842e42281b3ca9a2580071378b0c\n",
            "  Stored in directory: /root/.cache/pip/wheels/81/75/d6/e1317bf09bf1af5a30befc2a007869fa6e1f516b8f7c591cb9\n",
            "  Building wheel for gast (setup.py) ... \u001b[?25l\u001b[?25hdone\n",
            "  Created wheel for gast: filename=gast-0.2.2-cp36-none-any.whl size=7540 sha256=6cce4ed2d7d721741d6f2657e9f504ca69f6deca30a3bf9cc67eee962e877b49\n",
            "  Stored in directory: /root/.cache/pip/wheels/5c/2e/7e/a1d4d4fcebe6c381f378ce7743a3ced3699feb89bcfbdadadd\n",
            "Successfully built pypng bz2file gast\n",
            "\u001b[31mERROR: tensorflow-serving-api 2.3.0 has requirement tensorflow<3,>=2.3, but you'll have tensorflow 1.15.3 which is incompatible.\u001b[0m\n",
            "Installing collected packages: rouge-score, portalocker, sacrebleu, sentencepiece, gast, tensorflow-estimator, tensorboard, keras-applications, tensorflow, tensorflow-text, importlib-resources, tfds-nightly, tensorflow-probability, tensorflow-gan, pypng, gunicorn, tf-slim, bz2file, zope.interface, zope.event, greenlet, gevent, kfac, mesh-tensorflow, tensor2tensor, tensorflow-gpu, pegasus\n",
            "  Found existing installation: gast 0.3.3\n",
            "    Uninstalling gast-0.3.3:\n",
            "      Successfully uninstalled gast-0.3.3\n",
            "  Found existing installation: tensorflow-estimator 2.3.0\n",
            "    Uninstalling tensorflow-estimator-2.3.0:\n",
            "      Successfully uninstalled tensorflow-estimator-2.3.0\n",
            "  Found existing installation: tensorboard 2.3.0\n",
            "    Uninstalling tensorboard-2.3.0:\n",
            "      Successfully uninstalled tensorboard-2.3.0\n",
            "  Found existing installation: tensorflow 2.3.0\n",
            "    Uninstalling tensorflow-2.3.0:\n",
            "      Successfully uninstalled tensorflow-2.3.0\n",
            "  Found existing installation: tensorflow-probability 0.11.0\n",
            "    Uninstalling tensorflow-probability-0.11.0:\n",
            "      Successfully uninstalled tensorflow-probability-0.11.0\n",
            "  Running setup.py develop for pegasus\n",
            "Successfully installed bz2file-0.98 gast-0.2.2 gevent-20.6.2 greenlet-0.4.16 gunicorn-20.0.4 importlib-resources-3.0.0 keras-applications-1.0.8 kfac-0.2.0 mesh-tensorflow-0.1.16 pegasus portalocker-2.0.0 pypng-0.0.20 rouge-score-0.0.4 sacrebleu-1.4.13 sentencepiece-0.1.91 tensor2tensor-1.15.0 tensorboard-1.15.0 tensorflow-1.15.3 tensorflow-estimator-1.15.1 tensorflow-gan-2.0.0 tensorflow-gpu-1.15.2 tensorflow-probability-0.7.0 tensorflow-text-1.15.0rc0 tf-slim-1.1.0 tfds-nightly-3.2.1.dev202008150105 zope.event-4.4 zope.interface-5.1.0\n",
            "/content/pegasus\n"
          ],
          "name": "stdout"
        }
      ]
    },
    {
      "cell_type": "markdown",
      "metadata": {
        "id": "macCmRSbxSBA",
        "colab_type": "text"
      },
      "source": [
        "## Training fresh data from checkpoint"
      ]
    },
    {
      "cell_type": "markdown",
      "metadata": {
        "id": "1AS7GX5Zh8zs",
        "colab_type": "text"
      },
      "source": [
        "### Base model (no finetuning)"
      ]
    },
    {
      "cell_type": "code",
      "metadata": {
        "id": "rSmF3vM2igSZ",
        "colab_type": "code",
        "colab": {
          "base_uri": "https://localhost:8080/",
          "height": 34
        },
        "outputId": "1dd8154e-5d06-4f53-ebfd-e5feee6c658d"
      },
      "source": [
        "%cd /content/pegasus/"
      ],
      "execution_count": 11,
      "outputs": [
        {
          "output_type": "stream",
          "text": [
            "/content/pegasus\n"
          ],
          "name": "stdout"
        }
      ]
    },
    {
      "cell_type": "code",
      "metadata": {
        "id": "SlwO5gUBfWRi",
        "colab_type": "code",
        "colab": {
          "base_uri": "https://localhost:8080/",
          "height": 187
        },
        "outputId": "bede9303-ec7f-4f1e-a890-131c0502e427"
      },
      "source": [
        "!mkdir -p ckpt/pegasus_ckpt\n",
        "!gsutil -m rsync gs://pegasus_ckpt ckpt/pegasus_ckpt/"
      ],
      "execution_count": 12,
      "outputs": [
        {
          "output_type": "stream",
          "text": [
            "Building synchronization state...\n",
            "Starting synchronization...\n",
            "Copying gs://pegasus_ckpt/c4.unigram.newline.10pct.96000.model...\n",
            "Copying gs://pegasus_ckpt/model.ckpt-1500000.meta...\n",
            "Copying gs://pegasus_ckpt/c4.unigram.newline.10pct.96000.vocab...\n",
            "Copying gs://pegasus_ckpt/model.ckpt-1500000.data-00000-of-00001...\n",
            "Copying gs://pegasus_ckpt/model.ckpt-1500000.index...\n",
            "Copying gs://pegasus_ckpt/checkpoint...\n",
            "- [6/6 files][  2.3 GiB/  2.3 GiB] 100% Done  41.0 MiB/s ETA 00:00:00           \n",
            "Operation completed over 6 objects/2.3 GiB.                                      \n"
          ],
          "name": "stdout"
        }
      ]
    },
    {
      "cell_type": "markdown",
      "metadata": {
        "id": "bLZk2lx6rBXa",
        "colab_type": "text"
      },
      "source": [
        "## Converting trained model to .pb (vary batch size)"
      ]
    },
    {
      "cell_type": "code",
      "metadata": {
        "id": "Rlh9eQfasx9q",
        "colab_type": "code",
        "colab": {
          "base_uri": "https://localhost:8080/",
          "height": 34
        },
        "outputId": "7e8e2a7b-494d-4eb8-b28f-be352e4556c3"
      },
      "source": [
        "%cd /content/pegasus"
      ],
      "execution_count": 16,
      "outputs": [
        {
          "output_type": "stream",
          "text": [
            "/content/pegasus\n"
          ],
          "name": "stdout"
        }
      ]
    },
    {
      "cell_type": "code",
      "metadata": {
        "id": "-MuPe8yT_Obo",
        "colab_type": "code",
        "colab": {
          "base_uri": "https://localhost:8080/",
          "height": 68
        },
        "outputId": "60f0c0de-ebe5-4868-b121-3f5a795f52c1"
      },
      "source": [
        "!gsutil cp -r gs://pegasus_ckpt/c4.unigram.newline.10pct.96000.model /content/pegasus/ckpt/pegasus_ckpt/c4.unigram.newline.10pct.96000.model"
      ],
      "execution_count": 17,
      "outputs": [
        {
          "output_type": "stream",
          "text": [
            "Copying gs://pegasus_ckpt/c4.unigram.newline.10pct.96000.model...\n",
            "/ [1 files][  1.8 MiB/  1.8 MiB]                                                \n",
            "Operation completed over 1 objects/1.8 MiB.                                      \n"
          ],
          "name": "stdout"
        }
      ]
    },
    {
      "cell_type": "code",
      "metadata": {
        "id": "o8mcQvdMaXDO",
        "colab_type": "code",
        "colab": {
          "base_uri": "https://localhost:8080/",
          "height": 34
        },
        "outputId": "504bb701-d938-4b0a-89b3-7f6c265c1f5c"
      },
      "source": [
        "!cp -r '/content/gdrive/My Drive/Models/arxiv/' '/content/pegasus/ckpt/pegasus_ckpt/'"
      ],
      "execution_count": 18,
      "outputs": [
        {
          "output_type": "stream",
          "text": [
            "cp: cannot stat '/content/gdrive/My Drive/Models/arxiv/': No such file or directory\n"
          ],
          "name": "stdout"
        }
      ]
    },
    {
      "cell_type": "code",
      "metadata": {
        "id": "6msm3ClHxPNj",
        "colab_type": "code",
        "colab": {
          "base_uri": "https://localhost:8080/",
          "height": 955
        },
        "outputId": "061b55db-9c49-428e-f02b-64b0c326a000"
      },
      "source": [
        "MODELNAME = 'xsum'\n",
        "BATCH_SIZE = 4\n",
        "max_input_len = 1024\n",
        "max_target_len = 64\n",
        "\n",
        "import itertools\n",
        "import os\n",
        "import time\n",
        "\n",
        "from absl import logging\n",
        "from pegasus.data import infeed\n",
        "from pegasus.params import all_params  # pylint: disable=unused-import\n",
        "from pegasus.params import estimator_utils\n",
        "from pegasus.params import registry\n",
        "import tensorflow as tf\n",
        "from pegasus.eval import text_eval\n",
        "from pegasus.ops import public_parsing_ops\n",
        "import pandas as pd\n",
        "from random import choice\n",
        "from tensorflow.python.estimator.export import export\n",
        "tf.enable_eager_execution()\n",
        "# import tensorflow_transform as tft\n",
        "data_name = MODELNAME\n",
        "import tensorflow_transform as tft\n",
        "\n",
        "master = \"\"\n",
        "# model_dir = \"./ckpt/pegasus_ckpt/%s\"%data_name\n",
        "model_dir = \"./ckpt/pegasus_ckpt/\"\n",
        "use_tpu = False\n",
        "iterations_per_loop = 1000\n",
        "num_shards = 1\n",
        "param_overrides = (\"vocab_filename=ckpt/pegasus_ckpt/c4.unigram.newline.10pct.96000.model\"\n",
        "\",batch_size={0},beam_size=5,beam_alpha=0.6,max_input_len={1},max_target_len={2}\".format(BATCH_SIZE, max_input_len, max_target_len))\n",
        "\n",
        "eval_dir = os.path.dirname(model_dir)\n",
        "checkpoint_path = model_dir\n",
        "checkpoint_path = tf.train.latest_checkpoint(checkpoint_path )\n",
        "params = registry.get_params('%s_transformer'%data_name)(param_overrides)\n",
        "pattern = params.dev_pattern\n",
        "input_fn = infeed.get_input_fn(params.parser, pattern,\n",
        "                                    tf.estimator.ModeKeys.PREDICT)\n",
        "parser, shapes = params.parser(mode=tf.estimator.ModeKeys.PREDICT)\n",
        "RAW_DATA_FEATURE_SPEC = dict([(\"inputs\", tf.io.FixedLenFeature(shapes['inputs'], tf.int64)), \n",
        "                              ('targets', tf.io.FixedLenFeature(shapes['targets'], tf.string))])\n",
        "\n",
        "raw_feature_spec = RAW_DATA_FEATURE_SPEC.copy()\n",
        "raw_feature_spec.pop('targets')\n",
        "# raw_input_fn = tf.estimator.export.build_parsing_serving_input_receiver_fn(\n",
        "#         raw_feature_spec, default_batch_size=0)\n",
        "def serving_input_fn():\n",
        "    raw_input_fn = tf.estimator.export.build_parsing_serving_input_receiver_fn(\n",
        "        raw_feature_spec, default_batch_size=BATCH_SIZE)\n",
        "    serving_input_receiver = raw_input_fn()\n",
        "\n",
        "    raw_features = serving_input_receiver.features\n",
        "    return tf.estimator.export.ServingInputReceiver(\n",
        "        raw_features, serving_input_receiver.receiver_tensors)\n",
        "\n",
        "print(tf.executing_eagerly())\n",
        "estimator = estimator_utils.create_estimator(master, \n",
        "                                            model_dir,\n",
        "                                            use_tpu,\n",
        "                                            iterations_per_loop,\n",
        "                                            num_shards, params, include_features_in_predictions=False)\n",
        "\n",
        "output = estimator.export_saved_model(\n",
        "    \"model/\", serving_input_fn\n",
        ")"
      ],
      "execution_count": 19,
      "outputs": [
        {
          "output_type": "stream",
          "text": [
            "WARNING:tensorflow:From /content/pegasus/pegasus/ops/public_parsing_ops.py:93: The name tf.gfile.GFile is deprecated. Please use tf.io.gfile.GFile instead.\n",
            "\n",
            "True\n",
            "WARNING:tensorflow:From /content/pegasus/pegasus/params/estimator_utils.py:49: The name tf.ConfigProto is deprecated. Please use tf.compat.v1.ConfigProto instead.\n",
            "\n",
            "WARNING:tensorflow:Estimator's model_fn (<function _estimator_model_fn.<locals>.model_fn at 0x7fca043d1620>) includes params argument, but params are not passed to Estimator.\n",
            "INFO:tensorflow:Using config: {'_model_dir': './ckpt/pegasus_ckpt/', '_tf_random_seed': None, '_save_summary_steps': 100, '_save_checkpoints_steps': 1000, '_save_checkpoints_secs': None, '_session_config': allow_soft_placement: true\n",
            ", '_keep_checkpoint_max': 5, '_keep_checkpoint_every_n_hours': 10000, '_log_step_count_steps': None, '_train_distribute': None, '_device_fn': None, '_protocol': None, '_eval_distribute': None, '_experimental_distribute': None, '_experimental_max_worker_delay_secs': None, '_session_creation_timeout_secs': 7200, '_service': None, '_cluster_spec': <tensorflow.python.training.server_lib.ClusterSpec object at 0x7fca0436e0b8>, '_task_type': 'worker', '_task_id': 0, '_global_id_in_cluster': 0, '_master': '', '_evaluation_master': '', '_is_chief': True, '_num_ps_replicas': 0, '_num_worker_replicas': 1, '_tpu_config': TPUConfig(iterations_per_loop=1000, num_shards=None, num_cores_per_replica=None, per_host_input_for_training=2, tpu_job_name=None, initial_infeed_sleep_secs=None, input_partition_dims=None, eval_training_input_configuration=2, experimental_host_call_every_n_steps=1), '_cluster': None}\n",
            "INFO:tensorflow:_TPUContext: eval_on_tpu True\n",
            "WARNING:tensorflow:eval_on_tpu ignored because use_tpu is False.\n",
            "WARNING:tensorflow:From /usr/local/lib/python3.6/dist-packages/tensorflow_core/python/ops/resource_variable_ops.py:1630: calling BaseResourceVariable.__init__ (from tensorflow.python.ops.resource_variable_ops) with constraint is deprecated and will be removed in a future version.\n",
            "Instructions for updating:\n",
            "If using Keras pass *_constraint arguments to layers.\n",
            "INFO:tensorflow:Calling model_fn.\n",
            "INFO:tensorflow:Running infer on CPU\n",
            "WARNING:tensorflow:From /content/pegasus/pegasus/params/estimator_utils.py:78: The name tf.get_variable_scope is deprecated. Please use tf.compat.v1.get_variable_scope instead.\n",
            "\n",
            "WARNING:tensorflow:From /content/pegasus/pegasus/layers/attention.py:41: The name tf.layers.Dense is deprecated. Please use tf.compat.v1.layers.Dense instead.\n",
            "\n",
            "WARNING:tensorflow:From /content/pegasus/pegasus/layers/embedding.py:57: The name tf.variable_scope is deprecated. Please use tf.compat.v1.variable_scope instead.\n",
            "\n",
            "WARNING:tensorflow:From /content/pegasus/pegasus/layers/embedding.py:57: The name tf.AUTO_REUSE is deprecated. Please use tf.compat.v1.AUTO_REUSE instead.\n",
            "\n",
            "WARNING:tensorflow:From /content/pegasus/pegasus/layers/embedding.py:61: The name tf.get_variable is deprecated. Please use tf.compat.v1.get_variable instead.\n",
            "\n",
            "WARNING:tensorflow:From /content/pegasus/pegasus/layers/embedding.py:64: calling RandomNormal.__init__ (from tensorflow.python.ops.init_ops) with dtype is deprecated and will be removed in a future version.\n",
            "Instructions for updating:\n",
            "Call initializer instance with the dtype argument instead of passing it to the constructor\n",
            "WARNING:tensorflow:From /content/pegasus/pegasus/layers/attention.py:106: The name tf.matrix_band_part is deprecated. Please use tf.linalg.band_part instead.\n",
            "\n",
            "WARNING:tensorflow:From /usr/local/lib/python3.6/dist-packages/tensorflow_core/python/ops/math_ops.py:2509: where (from tensorflow.python.ops.array_ops) is deprecated and will be removed in a future version.\n",
            "Instructions for updating:\n",
            "Use tf.where in 2.0, which has the same broadcast rule as np.where\n",
            "INFO:tensorflow:Done calling model_fn.\n",
            "WARNING:tensorflow:From /usr/local/lib/python3.6/dist-packages/tensorflow_core/python/saved_model/signature_def_utils_impl.py:201: build_tensor_info (from tensorflow.python.saved_model.utils_impl) is deprecated and will be removed in a future version.\n",
            "Instructions for updating:\n",
            "This function will only be available through the v1 compatibility library as tf.compat.v1.saved_model.utils.build_tensor_info or tf.compat.v1.saved_model.build_tensor_info.\n",
            "INFO:tensorflow:Signatures INCLUDED in export for Classify: None\n",
            "INFO:tensorflow:Signatures INCLUDED in export for Regress: None\n",
            "INFO:tensorflow:Signatures INCLUDED in export for Predict: ['serving_default']\n",
            "INFO:tensorflow:Signatures INCLUDED in export for Train: None\n",
            "INFO:tensorflow:Signatures INCLUDED in export for Eval: None\n",
            "INFO:tensorflow:Restoring parameters from ./ckpt/pegasus_ckpt/model.ckpt-1500000\n",
            "INFO:tensorflow:Assets added to graph.\n",
            "INFO:tensorflow:No assets to write.\n",
            "INFO:tensorflow:Running infer on CPU\n",
            "INFO:tensorflow:Signatures INCLUDED in export for Classify: None\n",
            "INFO:tensorflow:Signatures INCLUDED in export for Regress: None\n",
            "INFO:tensorflow:Signatures INCLUDED in export for Predict: ['serving_default']\n",
            "INFO:tensorflow:Signatures INCLUDED in export for Train: None\n",
            "INFO:tensorflow:Signatures INCLUDED in export for Eval: None\n",
            "INFO:tensorflow:Assets added to graph.\n",
            "INFO:tensorflow:No assets to write.\n",
            "INFO:tensorflow:SavedModel written to: model/temp-b'1597564312'/saved_model.pb\n"
          ],
          "name": "stdout"
        }
      ]
    },
    {
      "cell_type": "code",
      "metadata": {
        "id": "axirzYnL82EC",
        "colab_type": "code",
        "colab": {
          "base_uri": "https://localhost:8080/",
          "height": 34
        },
        "outputId": "63975f08-0d62-4d96-aa9e-35e97f575b13"
      },
      "source": [
        "print(shapes)"
      ],
      "execution_count": 20,
      "outputs": [
        {
          "output_type": "stream",
          "text": [
            "{'inputs': [1024], 'targets': [64]}\n"
          ],
          "name": "stdout"
        }
      ]
    },
    {
      "cell_type": "code",
      "metadata": {
        "id": "C1lH8xjpuSyA",
        "colab_type": "code",
        "colab": {
          "base_uri": "https://localhost:8080/",
          "height": 68
        },
        "outputId": "163501f9-2061-4175-f984-84b004df51cb"
      },
      "source": [
        "dir = '/content/pegasus/' + output.decode(\"utf-8\")\n",
        "!ls -l $dir/variables/"
      ],
      "execution_count": 21,
      "outputs": [
        {
          "output_type": "stream",
          "text": [
            "total 2220748\n",
            "-rw-r--r-- 1 root root 2274013192 Aug 16 07:53 variables.data-00000-of-00001\n",
            "-rw-r--r-- 1 root root      21694 Aug 16 07:53 variables.index\n"
          ],
          "name": "stdout"
        }
      ]
    },
    {
      "cell_type": "code",
      "metadata": {
        "id": "2x3sRyklJzwu",
        "colab_type": "code",
        "colab": {
          "base_uri": "https://localhost:8080/",
          "height": 102
        },
        "outputId": "198ffe55-2335-4057-e0e5-26c7472aec0a"
      },
      "source": [
        "!cp -rv $dir '/content/gdrive/My Drive/Models/'"
      ],
      "execution_count": 22,
      "outputs": [
        {
          "output_type": "stream",
          "text": [
            "'/content/pegasus/model/1597564312' -> '/content/gdrive/My Drive/Models/1597564312'\n",
            "'/content/pegasus/model/1597564312/variables' -> '/content/gdrive/My Drive/Models/1597564312/variables'\n",
            "'/content/pegasus/model/1597564312/variables/variables.data-00000-of-00001' -> '/content/gdrive/My Drive/Models/1597564312/variables/variables.data-00000-of-00001'\n",
            "'/content/pegasus/model/1597564312/variables/variables.index' -> '/content/gdrive/My Drive/Models/1597564312/variables/variables.index'\n",
            "'/content/pegasus/model/1597564312/saved_model.pb' -> '/content/gdrive/My Drive/Models/1597564312/saved_model.pb'\n"
          ],
          "name": "stdout"
        }
      ]
    },
    {
      "cell_type": "code",
      "metadata": {
        "id": "hzeSr_lpMZHr",
        "colab_type": "code",
        "colab": {
          "base_uri": "https://localhost:8080/",
          "height": 164
        },
        "outputId": "fb9cc657-f8f2-4461-e72b-4a964ebb1f9d"
      },
      "source": [
        "raise Exception(\"Model copied to {}, Factory Reset Runtime to predict\".format(dir))"
      ],
      "execution_count": 23,
      "outputs": [
        {
          "output_type": "error",
          "ename": "Exception",
          "evalue": "ignored",
          "traceback": [
            "\u001b[0;31m---------------------------------------------------------------------------\u001b[0m",
            "\u001b[0;31mException\u001b[0m                                 Traceback (most recent call last)",
            "\u001b[0;32m<ipython-input-23-b914faafb825>\u001b[0m in \u001b[0;36m<module>\u001b[0;34m()\u001b[0m\n\u001b[0;32m----> 1\u001b[0;31m \u001b[0;32mraise\u001b[0m \u001b[0mException\u001b[0m\u001b[0;34m(\u001b[0m\u001b[0;34m\"Model copied to {}, Factory Reset Runtime to predict\"\u001b[0m\u001b[0;34m.\u001b[0m\u001b[0mformat\u001b[0m\u001b[0;34m(\u001b[0m\u001b[0mdir\u001b[0m\u001b[0;34m)\u001b[0m\u001b[0;34m)\u001b[0m\u001b[0;34m\u001b[0m\u001b[0;34m\u001b[0m\u001b[0m\n\u001b[0m",
            "\u001b[0;31mException\u001b[0m: Model copied to /content/pegasus/model/1597564312, Factory Reset Runtime to predict"
          ]
        }
      ]
    },
    {
      "cell_type": "markdown",
      "metadata": {
        "id": "G8cFHponag-Y",
        "colab_type": "text"
      },
      "source": [
        "# Use saved model to predict \n",
        "**NOTE: Need to factory reset runtime before commencing**"
      ]
    },
    {
      "cell_type": "code",
      "metadata": {
        "colab_type": "code",
        "id": "AvRiFlmP3zse",
        "colab": {
          "base_uri": "https://localhost:8080/",
          "height": 122
        },
        "outputId": "b7e8c6f2-48be-4557-cd1e-34c3703d8201"
      },
      "source": [
        "from google.colab import drive\n",
        "drive.mount('/content/gdrive')"
      ],
      "execution_count": 1,
      "outputs": [
        {
          "output_type": "stream",
          "text": [
            "Go to this URL in a browser: https://accounts.google.com/o/oauth2/auth?client_id=947318989803-6bn6qk8qdgf4n4g3pfee6491hc0brc4i.apps.googleusercontent.com&redirect_uri=urn%3aietf%3awg%3aoauth%3a2.0%3aoob&scope=email%20https%3a%2f%2fwww.googleapis.com%2fauth%2fdocs.test%20https%3a%2f%2fwww.googleapis.com%2fauth%2fdrive%20https%3a%2f%2fwww.googleapis.com%2fauth%2fdrive.photos.readonly%20https%3a%2f%2fwww.googleapis.com%2fauth%2fpeopleapi.readonly&response_type=code\n",
            "\n",
            "Enter your authorization code:\n",
            "··········\n",
            "Mounted at /content/gdrive\n"
          ],
          "name": "stdout"
        }
      ]
    },
    {
      "cell_type": "code",
      "metadata": {
        "id": "hAL5ArgTyayh",
        "colab_type": "code",
        "colab": {}
      },
      "source": [
        "# MODEL: gigaword for gigaword\n",
        "#        cnn_dailymail for CNN Dailymail\n",
        "\n",
        "# Aeslc\n",
        "# 1597317576 - Batch of 8\n",
        "# 1597369292 - Batch of 1\n",
        "# 1597378344 - Batch of 16\n",
        "\n",
        "# Base (params aeslc)\n",
        "# 1597539174 - 4,512,32 4.28GB\n",
        "# 1597541945 - 8,1024,32 14.99GB T4\n",
        "\n",
        "# Base (params CNN)\n",
        "# 1597558764 - 8,1024,128 10.6GB K80\n",
        "\n",
        "# Base (params xsum)\n",
        "# 1597564312 - 4,1024,64 8.14GB K80\n",
        "MODELNAME = 'xsum'\n",
        "\n",
        "MODEL_DIR = '1597564312'\n",
        "BATCH_SIZE = 4\n",
        "INPUT_SHAPE = 1024"
      ],
      "execution_count": 2,
      "outputs": []
    },
    {
      "cell_type": "code",
      "metadata": {
        "id": "5pA7kfWYubl_",
        "colab_type": "code",
        "colab": {
          "base_uri": "https://localhost:8080/",
          "height": 34
        },
        "outputId": "ba3fabe4-18a8-42a1-c7fa-82cd9e612b6a"
      },
      "source": [
        "%cd /content/"
      ],
      "execution_count": 3,
      "outputs": [
        {
          "output_type": "stream",
          "text": [
            "/content\n"
          ],
          "name": "stdout"
        }
      ]
    },
    {
      "cell_type": "code",
      "metadata": {
        "id": "1HRtxbTKDaXk",
        "colab_type": "code",
        "colab": {
          "base_uri": "https://localhost:8080/",
          "height": 238
        },
        "outputId": "3e277a5d-bf6c-47df-e6a7-f213d6f5bb29"
      },
      "source": [
        "!git clone http://github.com/rsin46/pegasus-demo.git\n",
        "!git clone http://github.com/google-research/pegasus.git"
      ],
      "execution_count": 4,
      "outputs": [
        {
          "output_type": "stream",
          "text": [
            "Cloning into 'pegasus-demo'...\n",
            "warning: redirecting to https://github.com/rsin46/pegasus-demo.git/\n",
            "remote: Enumerating objects: 23, done.\u001b[K\n",
            "remote: Counting objects: 100% (23/23), done.\u001b[K\n",
            "remote: Compressing objects: 100% (23/23), done.\u001b[K\n",
            "remote: Total 23 (delta 3), reused 15 (delta 0), pack-reused 0\u001b[K\n",
            "Unpacking objects: 100% (23/23), done.\n",
            "Cloning into 'pegasus'...\n",
            "warning: redirecting to https://github.com/google-research/pegasus.git/\n",
            "remote: Enumerating objects: 171, done.\u001b[K\n",
            "remote: Total 171 (delta 0), reused 0 (delta 0), pack-reused 171\u001b[K\n",
            "Receiving objects: 100% (171/171), 353.09 KiB | 499.00 KiB/s, done.\n",
            "Resolving deltas: 100% (56/56), done.\n"
          ],
          "name": "stdout"
        }
      ]
    },
    {
      "cell_type": "code",
      "metadata": {
        "id": "mc7XEGKND5Xv",
        "colab_type": "code",
        "colab": {
          "base_uri": "https://localhost:8080/",
          "height": 122
        },
        "outputId": "7e8054fd-a59e-427c-9af4-76e1957d2139"
      },
      "source": [
        "!mkdir /content/pegasus-demo/model\n",
        "!pip install sentencepiece"
      ],
      "execution_count": 5,
      "outputs": [
        {
          "output_type": "stream",
          "text": [
            "Collecting sentencepiece\n",
            "\u001b[?25l  Downloading https://files.pythonhosted.org/packages/d4/a4/d0a884c4300004a78cca907a6ff9a5e9fe4f090f5d95ab341c53d28cbc58/sentencepiece-0.1.91-cp36-cp36m-manylinux1_x86_64.whl (1.1MB)\n",
            "\u001b[K     |████████████████████████████████| 1.1MB 2.7MB/s \n",
            "\u001b[?25hInstalling collected packages: sentencepiece\n",
            "Successfully installed sentencepiece-0.1.91\n"
          ],
          "name": "stdout"
        }
      ]
    },
    {
      "cell_type": "code",
      "metadata": {
        "id": "AF0na7iyHPZ4",
        "colab_type": "code",
        "colab": {
          "base_uri": "https://localhost:8080/",
          "height": 170
        },
        "outputId": "ce407b66-1ed6-4c71-c043-b0b0c6d0f22b"
      },
      "source": [
        "# if MODELNAME == 'gigaword':\n",
        "#   !cp '/content/gdrive/My Drive/Models/gigaword.tar.xz' '/content/pegasus-demo/model/gigaword.tar.xz'\n",
        "#   !tar -xvf '/content/pegasus-demo/model/gigaword.tar.xz' -C '/content/pegasus-demo/model/' \n",
        "# elif MODELNAME == 'cnn_dailymail':\n",
        "#   !cp '/content/gdrive/My Drive/Models/cnn_dailymail.xz' '/content/pegasus-demo/model/cnn_dailymail.xz'\n",
        "#   !tar -xvf '/content/pegasus-demo/model/cnn_dailymail.xz' -C '/content/pegasus-demo/model/'\n",
        "# else:\n",
        "source = '/content/gdrive/My\\ Drive/Models/{}'.format(MODEL_DIR)\n",
        "!rsync -rv $source '/content/pegasus-demo/model/'"
      ],
      "execution_count": 6,
      "outputs": [
        {
          "output_type": "stream",
          "text": [
            "sending incremental file list\n",
            "1597564312/\n",
            "1597564312/saved_model.pb\n",
            "1597564312/variables/\n",
            "1597564312/variables/variables.data-00000-of-00001\n",
            "1597564312/variables/variables.index\n",
            "\n",
            "sent 2,280,597,497 bytes  received 89 bytes  24,391,418.03 bytes/sec\n",
            "total size is 2,280,040,551  speedup is 1.00\n"
          ],
          "name": "stdout"
        }
      ]
    },
    {
      "cell_type": "code",
      "metadata": {
        "id": "dofRUXoao2Cx",
        "colab_type": "code",
        "colab": {
          "base_uri": "https://localhost:8080/",
          "height": 51
        },
        "outputId": "ee28670e-bc48-4df8-e1a6-8246c2d9e746"
      },
      "source": [
        "%cd /content/pegasus-demo\n",
        "# Initialising variables\n",
        "\n",
        "TEXT = 'thermo.txt'\n",
        "OUT_TEXT = f'/content/gdrive/My Drive/Models/{TEXT}_{MODELNAME}_{MODEL_DIR}.txt'\n",
        "print(OUT_TEXT)\n",
        "\n",
        "def append(line):\n",
        "    with open(OUT_TEXT, 'a', buffering=1) as redf:\n",
        "        redf.write(line)"
      ],
      "execution_count": 7,
      "outputs": [
        {
          "output_type": "stream",
          "text": [
            "/content/pegasus-demo\n",
            "/content/gdrive/My Drive/Models/thermo.txt_xsum_1597564312.txt\n"
          ],
          "name": "stdout"
        }
      ]
    },
    {
      "cell_type": "code",
      "metadata": {
        "colab_type": "code",
        "id": "5_4sur0G-jUP",
        "colab": {
          "base_uri": "https://localhost:8080/",
          "height": 1000
        },
        "outputId": "2ecc0d3e-86eb-4b86-a967-4263ae2f9c30"
      },
      "source": [
        "import text_eval\n",
        "import public_parsing_ops\n",
        "import tensorflow as tf\n",
        "import numpy as np\n",
        "import datetime\n",
        "import time\n",
        "\n",
        "_SPM_VOCAB = 'ckpt/c4.unigram.newline.10pct.96000.model'\n",
        "encoder = public_parsing_ops.create_text_encoder(\"sentencepiece\",\n",
        "                                                 _SPM_VOCAB)\n",
        "\n",
        "# shapes = {\n",
        "#     'cnn_dailymail': (1024, 128),\n",
        "#     'gigaword':(128, 32),\n",
        "#     'aeslc':(512, 32),\n",
        "#     'arxiv':(512, 64)\n",
        "# }\n",
        "\n",
        "# model_dir = {\n",
        "#     'cnn_dailymail': 'model/1595037231/',\n",
        "#     'gigaword': 'model/1595095633/',\n",
        "#     'aeslc': 'model/{}'.format(MODEL_DIR),\n",
        "#     'arxiv': 'model/{}'.format(MODEL_DIR)\n",
        "# }\n",
        "\n",
        "model_dir = 'model/{}'.format(MODEL_DIR)\n",
        "\n",
        "def chunks(lst, n):\n",
        "    \"\"\"Yield successive n-sized chunks from lst.\"\"\"\n",
        "    for i in range(0, len(lst), n):\n",
        "        yield lst[i:i + n]\n",
        "\n",
        "\n",
        "imported = tf.saved_model.load(model_dir, tags='serve')\n",
        "\n",
        "\n",
        "text = open(TEXT, \"r\", encoding=\"utf-8\").read()\n",
        "\n",
        "shape = INPUT_SHAPE\n",
        "# shape,_ = shapes[MODELNAME]\n",
        "\n",
        "input_ids_raw = encoder.encode(text)\n",
        "input_ids_split = list(zip(*([iter(input_ids_raw)]*shape)))\n",
        "batch_list = list(chunks(input_ids_split,BATCH_SIZE))\n",
        "\n",
        "out_file = open(OUT_TEXT,\"a\")\n",
        "current_time = datetime.datetime.now()\n",
        "append(current_time.strftime(\"%d-%b-%Y (%H:%M:%S.%f)\") + '\\n')\n",
        "\n",
        "for batch in batch_list:\n",
        "  start = time.time()\n",
        "  \n",
        "  input_list = []\n",
        "\n",
        "  for input_ids in batch:\n",
        "    inputs = np.zeros(shape)\n",
        "    idx = len(input_ids)\n",
        "    if idx>shape: idx =shape\n",
        "\n",
        "    inputs[:idx] = input_ids[:idx]\n",
        "\n",
        "    example = tf.train.Example()\n",
        "\n",
        "    example.features.feature[\"inputs\"].int64_list.value.extend(inputs.astype(int))\n",
        "\n",
        "    input_list.append(tf.constant([example.SerializeToString()]))\n",
        "  \n",
        "  # Pad if the last list doesn't fit into a batch\n",
        "  if len(input_list) < BATCH_SIZE:\n",
        "    for i in range(0,BATCH_SIZE - len(input_list)):\n",
        "      input_list.append(input_list[-1])\n",
        "\n",
        "  output = imported.signatures['serving_default'](examples=tf.concat(input_list, axis=0))\n",
        "  prediction = text_eval.ids2str(encoder, output['outputs'].numpy(), None)\n",
        "  end = time.time()\n",
        "  duration = end - start\n",
        "  print(\"{}\\nPREDICTION >> \".format(duration), prediction)\n",
        "  append(f'{duration}s ... {prediction} \\n')\n"
      ],
      "execution_count": null,
      "outputs": [
        {
          "output_type": "stream",
          "text": [
            "WARNING:tensorflow:Unable to create a python object for variable <tf.Variable 'embeddings/weights:0' shape=(96103, 1024) dtype=float32_ref> because it is a reference variable. It may not be visible to training APIs. If this is a problem, consider rebuilding the SavedModel after running tf.compat.v1.enable_resource_variables().\n",
            "WARNING:tensorflow:Unable to create a python object for variable <tf.Variable 'encoder/layer_0/self_attention/LayerNorm/beta:0' shape=(1024,) dtype=float32_ref> because it is a reference variable. It may not be visible to training APIs. If this is a problem, consider rebuilding the SavedModel after running tf.compat.v1.enable_resource_variables().\n",
            "WARNING:tensorflow:Unable to create a python object for variable <tf.Variable 'encoder/layer_0/self_attention/LayerNorm/gamma:0' shape=(1024,) dtype=float32_ref> because it is a reference variable. It may not be visible to training APIs. If this is a problem, consider rebuilding the SavedModel after running tf.compat.v1.enable_resource_variables().\n",
            "WARNING:tensorflow:Unable to create a python object for variable <tf.Variable 'encoder/layer_0/self_attention/q_proj/kernel:0' shape=(1024, 1024) dtype=float32_ref> because it is a reference variable. It may not be visible to training APIs. If this is a problem, consider rebuilding the SavedModel after running tf.compat.v1.enable_resource_variables().\n",
            "WARNING:tensorflow:Unable to create a python object for variable <tf.Variable 'encoder/layer_0/self_attention/k_proj/kernel:0' shape=(1024, 1024) dtype=float32_ref> because it is a reference variable. It may not be visible to training APIs. If this is a problem, consider rebuilding the SavedModel after running tf.compat.v1.enable_resource_variables().\n",
            "WARNING:tensorflow:Unable to create a python object for variable <tf.Variable 'embeddings/weights:0' shape=(96103, 1024) dtype=float32_ref> because it is a reference variable. It may not be visible to training APIs. If this is a problem, consider rebuilding the SavedModel after running tf.compat.v1.enable_resource_variables().\n",
            "WARNING:tensorflow:Unable to create a python object for variable <tf.Variable 'encoder/layer_0/self_attention/LayerNorm/beta:0' shape=(1024,) dtype=float32_ref> because it is a reference variable. It may not be visible to training APIs. If this is a problem, consider rebuilding the SavedModel after running tf.compat.v1.enable_resource_variables().\n",
            "WARNING:tensorflow:Unable to create a python object for variable <tf.Variable 'encoder/layer_0/self_attention/LayerNorm/gamma:0' shape=(1024,) dtype=float32_ref> because it is a reference variable. It may not be visible to training APIs. If this is a problem, consider rebuilding the SavedModel after running tf.compat.v1.enable_resource_variables().\n",
            "WARNING:tensorflow:Unable to create a python object for variable <tf.Variable 'encoder/layer_0/self_attention/q_proj/kernel:0' shape=(1024, 1024) dtype=float32_ref> because it is a reference variable. It may not be visible to training APIs. If this is a problem, consider rebuilding the SavedModel after running tf.compat.v1.enable_resource_variables().\n",
            "WARNING:tensorflow:Unable to create a python object for variable <tf.Variable 'encoder/layer_0/self_attention/k_proj/kernel:0' shape=(1024, 1024) dtype=float32_ref> because it is a reference variable. It may not be visible to training APIs. If this is a problem, consider rebuilding the SavedModel after running tf.compat.v1.enable_resource_variables().\n",
            "WARNING:tensorflow:Unable to create a python object for variable <tf.Variable 'embeddings/weights:0' shape=(96103, 1024) dtype=float32_ref> because it is a reference variable. It may not be visible to training APIs. If this is a problem, consider rebuilding the SavedModel after running tf.compat.v1.enable_resource_variables().\n",
            "WARNING:tensorflow:Unable to create a python object for variable <tf.Variable 'encoder/layer_0/self_attention/LayerNorm/beta:0' shape=(1024,) dtype=float32_ref> because it is a reference variable. It may not be visible to training APIs. If this is a problem, consider rebuilding the SavedModel after running tf.compat.v1.enable_resource_variables().\n",
            "WARNING:tensorflow:Unable to create a python object for variable <tf.Variable 'encoder/layer_0/self_attention/LayerNorm/gamma:0' shape=(1024,) dtype=float32_ref> because it is a reference variable. It may not be visible to training APIs. If this is a problem, consider rebuilding the SavedModel after running tf.compat.v1.enable_resource_variables().\n",
            "WARNING:tensorflow:Unable to create a python object for variable <tf.Variable 'encoder/layer_0/self_attention/q_proj/kernel:0' shape=(1024, 1024) dtype=float32_ref> because it is a reference variable. It may not be visible to training APIs. If this is a problem, consider rebuilding the SavedModel after running tf.compat.v1.enable_resource_variables().\n",
            "WARNING:tensorflow:Unable to create a python object for variable <tf.Variable 'encoder/layer_0/self_attention/k_proj/kernel:0' shape=(1024, 1024) dtype=float32_ref> because it is a reference variable. It may not be visible to training APIs. If this is a problem, consider rebuilding the SavedModel after running tf.compat.v1.enable_resource_variables().\n",
            "WARNING:tensorflow:Unable to create a python object for variable <tf.Variable 'embeddings/weights:0' shape=(96103, 1024) dtype=float32_ref> because it is a reference variable. It may not be visible to training APIs. If this is a problem, consider rebuilding the SavedModel after running tf.compat.v1.enable_resource_variables().\n",
            "WARNING:tensorflow:Unable to create a python object for variable <tf.Variable 'encoder/layer_0/self_attention/LayerNorm/beta:0' shape=(1024,) dtype=float32_ref> because it is a reference variable. It may not be visible to training APIs. If this is a problem, consider rebuilding the SavedModel after running tf.compat.v1.enable_resource_variables().\n",
            "WARNING:tensorflow:Unable to create a python object for variable <tf.Variable 'encoder/layer_0/self_attention/LayerNorm/gamma:0' shape=(1024,) dtype=float32_ref> because it is a reference variable. It may not be visible to training APIs. If this is a problem, consider rebuilding the SavedModel after running tf.compat.v1.enable_resource_variables().\n",
            "WARNING:tensorflow:Unable to create a python object for variable <tf.Variable 'encoder/layer_0/self_attention/q_proj/kernel:0' shape=(1024, 1024) dtype=float32_ref> because it is a reference variable. It may not be visible to training APIs. If this is a problem, consider rebuilding the SavedModel after running tf.compat.v1.enable_resource_variables().\n",
            "WARNING:tensorflow:Unable to create a python object for variable <tf.Variable 'encoder/layer_0/self_attention/k_proj/kernel:0' shape=(1024, 1024) dtype=float32_ref> because it is a reference variable. It may not be visible to training APIs. If this is a problem, consider rebuilding the SavedModel after running tf.compat.v1.enable_resource_variables().\n",
            "62.27459788322449\n",
            "PREDICTION >>  Challenges to the Second Law of Thermodynamics Fundamental Theories of Physics An International Book Series on The Fundamental Theories of Physics: Their Clarification, Development and Application Editor: ALWYN VAN DER MERWE, University of Denver, U.S.A. HANS-J ⁇ RGEN TREDER, Zentralins 48 References 51 3 Modern Quantum Challenges: Theory 3.1 Prolegomenon . . . . . . . . . . . . . . . . . . . . . . . . 106 3.8.1 TC-GME and Mori . 107 3.8.2 TCL-GME and Tokuyama-Mori . 107 3.8.2 TC-GME and Tokuyama-Mori . 107 3.8.2 TC-GME and Tokuyama-Mori . 107 3.8.2 . . . . . . . . . . . . . . . . . . . . . . . . . . . . . . .\n",
            "60.721498250961304\n",
            "PREDICTION >>  . . . . . . . . . . . . . . . . . . . . . . . . . . . . . . . .175 6.2 Asymmetric Gravitator Model . .175 6.2 Asymmetric Gravitator Model . .175 6.2 Asymmetric Gravitator Model . .175 6.2 Asymmetric Gravitator Model . .175 6.2 Asymmetric Gravitator Model . .175 6.2 197 6.2.6 Laboratory Experiments . 202 6.3.1 Gr  ⁇ aff Experiments . 203 6.3.2 Trupp Experiments . 203 6.3.2 Trupp Experiments . 203 6.3.2 Trupp Experiments . 203 6.3.2 Trupp Experiments . 203 6.3.2 Trupp Experiments .  ⁇   ⁇   ⁇   ⁇   ⁇   ⁇   ⁇   ⁇   ⁇   ⁇   ⁇   ⁇   ⁇   ⁇   ⁇   ⁇   ⁇   ⁇   ⁇   ⁇   ⁇   ⁇   ⁇   ⁇   ⁇   ⁇   ⁇   ⁇   ⁇   ⁇   ⁇   ⁇ \n",
            "60.66619873046875\n",
            "PREDICTION >>  291 9.4.1 . . . . . . . . . . . . . . . . . . . . . . . . . . . . . In 2004, the second edition of Leff’s and Rex’s classic anthology on Maxwell’s second law of thermodynamics [2], further raising interest in the second law of thermodynamics. The second law of thermodynamics was first proposed by Leff’s and Rex’s classic anthology on Maxwell’s second This volume should be of interest to researchers in any field to which the second law pertains, especially to physicists, chemists and engineers involved with thermodynamics and statistical physics. Chapters 1-2, which give an overview of entropy, the second law, early challenges, and classical arguments for second law inviolability, should interest historians and Clausius and Friedrich von Mayer (1814-1878) observed that the first law of thermodynamics can never be produced upon any form of mechanical energy, but it has only been in the last 150 years that this understanding has been codified. Clausius and Friedrich von Mayer (1814-1878) observed that the first law of\n",
            "59.48257374763489\n",
            "PREDICTION >>  Chapter 1: Entropy and the Second Law 3 In equilibrium thermodynamics, the first law is written in terms of an additive state function, the internal energy U, whose exact differential dU fulfills dU =  ⁇ Q +  ⁇ W. (In nonequilibrium thermodynamics, there are problems with introducing these quantities Since absolute zero (Tc = 0) is unattainable (by one version of the third law) and since Th =  ⁇  for any realistic system, the Carnot efficiency forbids perfect conversion of heat into work (i.e.,  ⁇  = 1). This condition is considered so stringent that it is often invoked as In other words, for every state B of Z, Chapter 1: Entropy and the Second Law 7 Sup[HP : P terminates at B]  ⁇   ⁇ , where Sup[...] is the supremum of heat for the process P. A related statement is given by Gyftopolous and Beretta [  ⁇  Sf  ⁇  Si (1.5) Planck (1858-1947), a disciple of Clausius, refines this into what he describes as “the most general expression of the second law of thermodynamics.” [8, 6] (16) Planck Every physical or chemical process occurring in nature proceeds in such a way that the sum of\n",
            "58.93903923034668\n",
            "PREDICTION >>  (Appendix I) • Perpetual motion is well defined, especially when the original forms of the second law (Kelvin and Clausius) are strictly nonequilibrium in character and most second law challenges are inherently nonequilibrium in character. (Appendix II) • Perpetual motion is well defined, especially when the original forms of the second For many, the first and best summary of thermodynamics was stated by Clausius 150 years ago [4]: 2. Although our conceptions of energy, entropy and the universe have undergone tremendous change since his time, remarkably, Clausius’ summary still rings true today — and perhaps even more so now for having weathered so (Note that for additivity the subsystems (A1, A2) retain their individual identities, while for subadditivity the systems (A, B) lose their individual identities.) For systems A and B, entropy demonstrates concavity if S( ⁇ A+( ⁇ 1)B)  ⁇   ⁇  (1.14) Here  ⁇   ⁇  1 kT and Z is the partition function (Zustandsumme or “sum over states”) upon which most of classical equilibrium thermodynamic quantities can be founded: Z  ⁇  i e ⁇ Ei , (1.15) where Ei are the constant individual system energies and E is\n",
            "60.13070011138916\n",
            "PREDICTION >>  As noted by Wehrl [39], ... the entropy of a system obeying the Schr  ⁇ odinger equation (with a time-independent Hamiltonian) always remains constant [because the density matrix time evolves as]  ⁇ (t) = e ⁇ iHt ⁇ eiHt. The Schr  ⁇  If X proceeds to Y by an irreversible adiabatic process, this is denoted X  ⁇  Y, and if X  ⁇  Y and Y  ⁇  X, then X and Y are called adiabatically equivalent, written X A  ⁇  Y. For example, the string of 60,000 digits (121223121223223...) is relatively simple and has relatively low algorithmic randomness since it can be programmed as 10,000 repeating blocks of (121223), whereas a completely random string of 60,000 digits cannot be compressed this way and thus has a relatively large algorithmic randomness. It is 22 Challenges Chapter 1: Entropy and the Second Law 23 Hartley entropy [64]: SH = k ln[N( ⁇ )], (1.30) where N( ⁇ ) is the number of positive eigenvalues of  ⁇ . In addition to these, there is Segal entropy [68], which subsumes many of the\n",
            "59.512492179870605\n",
            "PREDICTION >>  Chapter 1: Entropy and the Second Law 25 rium entropy have proceded largely through study of nonequilibrium steady states (NESS), especially in fluids (gases) [73]. Heat, entropy and the Second Law 25 rium entropy have proceded largely through study of nonequilibrium steady states (NESS), especially in (In this context, for ensemble theory, entropy cannot be strictly defined since f is singular.) Entropy is a global property of a system, measurable in terms of the surface area of the energy skeleton manifold on which the system’s phase space point wanders, but this assumes conditions on the motion of the phase More commonly, it is expressed in terms of temperature, because temperature is the easiest equilibrium property to measure experimentally: If the temperature of system A is equal to the temperature of system B, and the temperature of system B is equal to the temperature of system C, then the temperature of system A is equal to the temperature of [11] Davies, P.C.W., The Physics of Time Asymmetry (University of California Press, Berkeley, 1974). and Zurek, W.H., Editors, Physical Origins of Time Asymmetry (Cambridge University Press, Cambridge, 1994). [16] Savitt, S.F.\n",
            "59.02164959907532\n",
            "PREDICTION >>  [57] Zurek, W.H., Editor, Complexity, Entropy, and the Physics of Information Vol. [58] Zurek, W.H., Editor, Complexity, Entropy, and the Physics of Information Vol. [58] Zurek, W.H., Editor [78] Dorfmann, J.R., An Introduction to Chaos in Nonequilibrium Statistical Mechanics (Cambridge University Press, New York, 1999). 62 1035 (1999); Jou, D., Casas-V  ⁇ azquez, J., and Lebon, G., Extended Irreversible Now let us suppose that such a vessel is divided into two portions, A and B, by a division in which there is a small hole, and that a being, who can see the individual molecules, opens and closes this hole, so as to allow only the swifter molecules to pass from A to B, and Hence in the case of astronomical Chapter 2: Challenges (1870) 39 bodies, particularly masses of gas, the molecules of greatest velocity may gradually be separated from the remainder as effectually as by the operation of Maxwell’s small beings. 2.2.1 Smoluchowski and Brillouin In 1912, Leo von Smoluch\n",
            "60.119184732437134\n",
            "PREDICTION >>  2.2.3 Self-Rectifying Diodes It is well known that electrical diodes can be used to rectify ac voltage fluctuations, rendering dc voltages. For instance, in the frequency interval (f  ⁇  f + ⁇ f) the white noise voltage fluctuations in a resistor are given by the Nyquist theorem as  ⁇  Chapter 2: Challenges (1870-1980) 43 2.3.1 Early novelty Classical Arguments Over the last 150 years, many attempts have been made to derive a general proof for the second law. Zermello argued, based on Poincar  ⁇ e’s recurrence cycles, that systems should display quasiperiodicity; that It is reasonably assumed that the total energy E(r1,..., rN , p1,..., pN ) and ln( ⁇ ) are the only two independent integrals of motion. (At this point ln( ⁇ ) has not been identified with entropy.) However, the thermodynamic entropy (2.2) 8 (usually Bogolyubov, Born, Green, Kirkwood, and Yvon 9The BBGKY hierarchy of equations, on the other hand, determines the basic macroscopic, phenomenological laws of continuous media, including those of thermodynamics.\n",
            "58.98042607307434\n",
            "PREDICTION >>  The result is that in (2.8), s = + ⁇  l=1 s(l) , I = + ⁇  l=1 I(s(l)) (2.9) and similarly for the source term q(s). The result is that in (2.8), s = + ⁇  l=1  • Classical systems that display long-range order under equilibrium conditions; systems that undermine the notion of correlation spheres; non-extensive systems; systems with strong boundary effects. • Quantum systems that display long-range order in the form of quantum entanglement12 As an illustration, consider a light beam split in two by a In summary, we have cursorily reviewed prominent second law challenges from Maxwell (1867) up to roughly 1980, thus setting the stage for the modern challenges. 16Systems with Maxwellian gates are not the only quantum candidates for second law challenges; more typical quantum processes could also suffice ( ⁇ 3.6). and Rex, A.F. It is stressed that this characterization preserves its good mathematical meaning only in the sense that a physical prediction gives a good quantitative character in the limiting sense that the relevant coupling constant is mathematically limited to zero. • Realizing that this characterization preserves its good mathematical meaning only in the sense that a physical prediction gives a good quantitative character\n",
            "58.95747089385986\n",
            "PREDICTION >>  In this case, there would be no possibility of treating its time development via the Schr  ⁇ odinger equation or the Liouville equation via its density matrix. In this case, there would be no possibility of treating its time development via the Maxwellian equation or the Liouville equation via its density matrix. If we remember that operators are general prescriptions ascribing to (wave) functions of the corresponding Hilbert space (1  ⁇   ⁇  P) (1  ⁇   ⁇  P) (1  ⁇   ⁇  P) (1  ⁇   ⁇  P) (1  ⁇   ⁇  P) (1  ⁇   ⁇  P) (1  The result is the so-called Nakajima-Zwanzig identity [3, 4, 5]: dtP ⁇ S+B(t) =  ⁇ iPLP ⁇ S+B(t)  ⁇  t t0 PLexp[ ⁇ i(1  ⁇  P)L  ⁇  (t One could take a generalized form of the Master Equation (TC-GME) as a quasi-generalized form of the Hilbert space ( ⁇  t0) | t  ⁇ n ⁇ ,  ⁇  t0 0 wm,n,p,q( ⁇  ) ⁇ p,q(\n",
            "58.32245469093323\n",
            "PREDICTION >>  In order to identify what is the qualitative change expected in (3.9) and (3.17) that cause such a large change of the behavior of the solution  ⁇ S(t), one should first notice that, because of keeping the system fixed, in the thermodynamic limit of the bath, the only quantities changing during this limit The idea of the weak-coupling regime goes back to van Hove [13] and consists of several steps: • The Hamiltonian of the (system + bath) complex is written as a sum of those of the system only HS, the bath only HB, and the system-bath coupling HS ⁇ B, i.e Thus, we find not only that just 64 Challenges to the Second Law the second-order term in the expansion of the memory superoperator,10 but we also find that the convolution GME goes to a convolutionless (time-local) form, with the variable  ⁇ S(t) brought out from below the In [22], it is shown that: (i) the Born (second order) approximation of the kernel in (3.9) alone (i.e., without performing the Markov approximation) does not yield relaxation to any stationary situation, though the standard Born-Markov approximation in the interaction picture (leading to (\n",
            "58.96731781959534\n",
            "PREDICTION >>  The act of closing (opening) the gate should be done on grounds of the interaction with the bath as far as the process is a spontaneous process, going downhill (in energy); otherwise, the act of closing and opening the gate would not be spontaneous. The act of closing (opening) the gate should be done on In such situations, the desired activity requires: – a specific type of correlation between the particle position and the topological form of the molecular system: that the ‘entrance bridge’ opens whenever the particle arrives at the entrance, but closes once the particle crosses it; and – that the dynamics of opening and closing of the bridge is The difference between the total entropy of the (particle + bath) complex and that of the bath without the particle scales as Sp  ⁇   ⁇ T (where  ⁇  is a microscopic dimensionless system-bath coupling constant, and T is the bath temperature). Since the statistical entropy remains finite at T  ⁇  0 owing (This possibility does not exist in the system investigated by Allahverdyan and Nieuwenhuizen [28, 29] since the internal system consists of just a single particle having no internal degrees of freedom.) To describe such a competition properly, one must identify the proper terms in the total Hamiltonian H and treat all\n",
            "58.3476459980011\n",
            "PREDICTION >>  (3.47) Its formal solution is Pe ⁇ i(L0+ ⁇ L1) ⁇ 2 ⁇ P = Pe ⁇ i(L0+ ⁇ PL1P+i ⁇ 2H) ⁇ 2 ⁇  . The second comment is connected with the standard practice for kinetic equations of extending the validity of equations like (3.33) or (3.53) to arbitrarily long times. The Davies statement (3.50) means that (3.53) or (3.33) can be validly applied, for any finite strength of the coupling, only for finite time (This could be achieved by adding to (3.55) a term  ⁇ 1 m,n= ⁇  Jmnc ⁇  mcn ++1 ⁇  m,n=1 Imnc ⁇  mcn and assuming an arbitrary number of particles involved. In all cases, we get a commensurable dephasing and in-phasing, we should assume HS ⁇ B  ⁇   ⁇ , J  ⁇  I  ⁇   ⁇ 2, (3.56) and use the regime corresponding to (3.51). Simple physical reasoning reveals that using the usual weak\n",
            "58.32958197593689\n",
            "PREDICTION >>  This reads, as in (3.57), A =  ⁇   ⁇   ⁇  0 0 00 0 0 0 0  ⁇  0 00 0 0 iI/  ⁇ h 0  ⁇ iI/  ⁇ h 0 0  ⁇  00 0  ⁇ iI/  ⁇ h 0 0 iI/ A detailed analysis [36] shows that taking this dephasing into account explicitly would only cause at most additive corrections to the (...)44 up to (...)99 diagonal elements of blocks A and D (i.e., increasing only the rate of decay to zero of the off-diagonal elements), but As soon as the particle virtually attaches to the central system, the latter becomes energetically unstable and (unless the particle leaves it in between returning to site  ⁇ 1) turns to the up-state with lower energy  ⁇ /2. As far as it actually occurs (owing to the hopping term in (3.55)  ⁇  I Thus, replacing |dd| and |uu| in HS in (3.55) by [1  ⁇  z(t)]/2 and [1 + z(t)]/2, respectively, the semi-classical version of the fish-trap model is defined by the Hamiltonian Hsemiclass(t) = J \n",
            "58.87543964385986\n",
            "PREDICTION >>  The solutions (up to a phase factor) are E1 = 0, z(t) =  ⁇ 1,  ⁇   ⁇   ⁇ 1(t)  ⁇ 0(t)  ⁇ +1(t)  ⁇   ⁇  =  ⁇   ⁇  0 0 1  ⁇   ⁇  (3.68) and In other words, the solution of (3.68) remains stationary (i.e., as a resistive limit cycle in the 7d-space) even with respect to the randomization of the phase of  ⁇ 0(t) at any randomization event. In the case of the stationary solution of (3.68) The Hamiltonian for this model can be written: HS = + ⁇   ⁇ = ⁇   ⁇ J(c  ⁇   ⁇ 1, ⁇ c0, ⁇  + c  ⁇  0, ⁇ c ⁇ 1, ⁇ )  ⁇  |dd| +I(c  ⁇  1, ⁇ c0, ⁇  + c Here  ⁇  and  ⁇  are the down-hill and up-hill Golden Rule transfer rates between states |u and |d of our central system caused by H S ⁇ B, defined as  ⁇  = 2 ⁇  N  ⁇ h k (  ⁇ h ⁇ k) 2|Gk| 2[1 +\n",
            "58.87112784385681\n",
            "PREDICTION >>   ⁇ h 0 0  ⁇ iK/  ⁇ h 0 0  ⁇  0 0 00 iI/  ⁇ h 0  ⁇ iI/  ⁇ h 0 0  ⁇ iI/  ⁇ h 0 0  ⁇ iI/  ⁇ h 0 0  ⁇ iI/  ⁇  (3.82) As for the particle Hamiltonian Hpart, describing the above two types of particles, we write it as the following: c ⁇  g ⁇  g ⁇  g ⁇  g ⁇  g ⁇  g ⁇  g ⁇  g ⁇  g ⁇  g ⁇  g ⁇  g ⁇  g ⁇  g ⁇  g ⁇  g ⁇  g ⁇  g Thus, if we compile the eigenstates into a time-dependent solution of the Schr  ⁇ odinger equation for the particles in the isolated system i  ⁇ hd| ⁇ (t)/dt = HS| ⁇ (t) and if we initially put our particles outside site 0, we get from the In order to understand the effects of the system-bath coupling, one should realize that the relaxation in the state of the central system (3.90) can be taken as the opposite relation to the state of the particles (3.90). In order to understand the effects of the system-bath coupling, one should realize that the\n",
            "59.497814893722534\n",
            "PREDICTION >>  In order to see this effect explicitly, one would, however, need a detailed higher-order theory, while the term proportional to gk in (3.90) yields such dephasing processes immediately. Technically, the importance of such terms in HS ⁇ B (3.90) proportional to gk becomes clear by realizing that The paradoxical result is solidly due to the active role played by the central system and the proper combination of two properties: (1) instability of its intermediate state (scatterer) during transition (scattering of the pair); and (2) strong dependence of the scattering channels on the state of the central system, owing to the matrix elements. Thus, Lrel m ⁇ ,n ⁇ ,p ⁇ ,q ⁇  =  ⁇ mp ⁇ nq ⁇ (1  ⁇   ⁇ m,0)(1  ⁇   ⁇ n,0)K ⁇ , ⁇ , ⁇ , ⁇  +0.5[(1 ⁇ m,0) ⁇ n,0 + ⁇ m,0 On the other hand, the mean value (with respect to the oscillator) of the second term on the right hand side of (3.92) is zero; i.e., the particle cannot (on average) immediately proceed to site ‘+1’.\n",
            "59.50685930252075\n",
            "PREDICTION >>  • For the case when the finite life-time effects for excitons (owing to bathassisted local exciton creation and transfer processes) are commensurable with the 1  ⁇  2 transfers, real (non-virtual) processes with active participation of the bath (that could make such processes nonelastic) (This corresponds to dissipative electron flow from the probe to the walls through an electrical load.) In the present model, the load is not conservative (e.g., a lossless motor) and, thus, not a challenge to the Kelvin-Planck form of the second law; rather it is purely (3.109) Here, 23 = 2 ⁇   ⁇ h 1 N  ⁇  |  ⁇ h ⁇ | 2|g ⁇ | 2nB( ⁇ II ,  ⁇ h ⁇ ) ⁇ (  ⁇ h ⁇   ⁇  3),  ⁇   ⁇  2 ⁇   ⁇ h 1 N  ⁇  | This does not remove all doubts concerning the validity of (3.35) from the side of the Schr ⁇ dinger equation, but it does not remove all doubts concerning the validity of (3.35) from the side of the Schr ⁇ dinger equation, but it does not remove all doubts concerning the validity of (3.35) from the side\n",
            "58.88998055458069\n",
            "PREDICTION >>  This counterpart is provided by the Mori identity [70, 1] d dtG(t)=eiLt DiLG(0) ⁇  t 0 eL(t ⁇ DLei(1 ⁇ D)L ⁇  (1  ⁇  D)LG(0) d ⁇  + e(1 ⁇ D)Lt (1  ⁇  On the other hand, the term C(t) from (3.118) appears in (3.116) on both sides, i.e., also in the initial condition term I(t) on the right hand side of (3.116). For that, let us first mention that (3.8) may be [71] as dt + iPL 1 + i t ⁇ t0 0 e ⁇ i(1 ⁇ P)L ⁇  (1 ⁇ P)L ⁇  (1 ⁇ P)L ⁇  d ⁇ 1 P ⁇ S+B(t) = The situation in (3.122) may be different in the thermodynamic limit of the bath when destructive interference of individual terms under the integral in (3.122) could change the situation at long times. Some of the methods can be well justified when the proper order of steps is taken: first the thermodynamic limit of the bath, followed by\n",
            "59.47155737876892\n",
            "PREDICTION >>  [19] Davies, E.B., Quantum Theory of Open Systems. and Nieuwenhuizen, Th.M., http://xxx.lanl.gov/abs/cond-mat/0011389 [29] Allahverdyan, A.E. [40] Scully, M.O [57] Reineker, P., in Exciton Dynamics in Molecular Crystals and Aggregates., Springer Tracts in Modern Physics 94, H  ⁇ ohler, G., Editor, (Springer-423, Berlin, 1982) pg. [72] Novotn  ⁇ y, T. The particular type of superconductivity is determined by a parameter  ⁇  of the Ginzburg-Landau theory [6]: at  ⁇   ⁇  1/  ⁇ 2 the wall energy of a normal-superconducting interface is positive and the superconductor is Type-I, while at  ⁇  > 1 Although Pippard raised questions about 120 Challenges to the Second Law the irreversible effects in the magnetization cycle of superconducting colloids as early as 1952 [15], up to now there has been little experimental work devoted to the magnetization and transition between normal and superconducting states of small samples of Type-I superconductors.\n",
            "60.08876895904541\n",
            "PREDICTION >>  The quantum periodicity in the transition temperature Tc of a superconducting cylinder [19] or a loop [20] from enclosed magnetic flux following  ⁇  was explained as a consequence of the periodic dependence of the free energy [19, 21, 2]:  ⁇ Tc  ⁇   ⁇ E  ⁇   ⁇ v2  During its forcible expulsion (path D  ⁇  E, Figure 4.2), the armature performs work W1 =  ⁇ o(H2 2  ⁇  H2 3 ) 2  ⁇  V (4.8) Similarly as for path segment B  ⁇  C in Figure 4.2, the armature moves in a precisely timed and Here and in the superconducting loop, the quantum momentum ( ⁇   ⁇   ⁇ ) is allowed ( ⁇   ⁇   ⁇   ⁇   ⁇   ⁇   ⁇   ⁇   ⁇   ⁇   ⁇   ⁇   ⁇   ⁇   ⁇   ⁇   ⁇   ⁇   ⁇   ⁇   ⁇   ⁇   In contrast with the classical Langevin force, however, the average value of the quantum force is not equal to zero at  ⁇  = n ⁇ 0 and  ⁇  = (n + 0.5) ⁇ 0, when n  ⁇   ⁇ / ⁇ 0 = 0. According to 2The energy difference  ⁇ E = E\n",
            "59.50376844406128\n",
            "PREDICTION >>  (4.18) According to (4.18), the persistent power of a single mesoscopic loop made from a high-temperature superconductor (HTSC) with Tc 100K is expected to be quite small; i.e., Pp  ⁇  Pthermal 10 ⁇ 8W, while for a low-temperature Figure 4: Low-Temperature Experiments and Proposals 131 Figure 4.6: Electron micrograph of array of 20 asymmetric aluminum loops for Series II experiments. Figure 4: Low-Temperature Experiments and Proposals 131 Figure 4.6: Electron micrograph of array of 20 asymmetric aluminum loops for Series II experiments. (Compare, for example, Figure 4.5 in [30] with Figure 4.6 [31].) 134 Challenges to the Second Law It is stressed that, while Berger’s study shows strong qualitative agreement with the fundamental processes predicted and observed by Dubonos, Nikulov, et al., the quantitative agreement is poor (These researchers have also shown recently that the quantum mechanical effect of level crossing limits the minimum work principle and that adiabatic procesess do not correspond to optimal work if level crossing occurs [43].) At this time, the hypotheses that quantum coherence or quantum entanglement can lead to violations of various formulations of the\n",
            "58.87273979187012\n",
            "PREDICTION >>  Under the conditions that g is small,  ⁇   ⁇   ⁇ 1 ⁇  h  ⁇  =  ⁇  2 ; and t 1  ⁇  = the relaxation time of the bath; and = 0 (to insure the spin energy does not change), the added work is given by W1 = g  ⁇  Experimental space with a large cut-off frequency ( ⁇ max  ⁇   ⁇ ) [50], the quantum dispersions in  ⁇  and Q can be written  ⁇ 2 = d ⁇  2 ⁇   ⁇ 2k( ⁇ ) (1 +  ⁇ 2  ⁇ 2 ) ( ⁇ 2  ⁇   ⁇  (If, on the other hand, random spins are used, then the conditions for (4.21) to return strictly negative work (W1  ⁇  0) appear compromised since W1  ⁇  0 requires the simultaneous tuning of phase-dependent parameters. Or, if random spins are used judiciously, these spin states must be [8] Salamon, M.B., in Physical Properties of High Temperature Superconductors I, Ginsberg, D.M., Editor, (World Scientific, Singapore, 1989). [13] Safar, H., Gammel, P.L., Huse, D.A.,\n",
            "60.07685470581055\n",
            "PREDICTION >>  Chapter 4: Low-Temperature Experiments and Proposals 143 [37] Nikulov, A.V., in Supermaterials, Cloots, R., et al., Editors, Proceedings of the NATO ARW, (Kluwer Academic, 2000) pg. [50] Weiss, S., Koelle Biomembranes can be found in the cellular environment; however, they require energy to bind and transport nutrients, thereby raising the fundamental question that glucose transport is solely dependent upon the presence of Na+-glucose receptors, rather than on the presence of Na+-glucose molecules. In the case of biomembranes, the The gate (vertical dotted line) can exist in two states (left = C11 + N) where C11 =  ⁇ (k12 + h21C11), and C11 =  ⁇ (k12 + h21C11), which is the trapping rate of k12 + h21C21, (It is claimed that when the trap is closed (A) and the membrane is open (B) at equilibrium, the rate at which the trap is closed (A) and the membrane is open (B) is equal to the rate at which the trap is closed (B) and the membrane is open (C\n",
            "59.53920388221741\n",
            "PREDICTION >>  5.2.4 Molecular Rotor Model Combining chemical features of Gordon’s trapdoor with those of Varner’s attached osmotic membrane, we show that the molecular rotor can be used as a second law challenge. We show that the molecular rotor can be used as a second law challenge in the context of Gordon’ Centrifugal distortion of small molecules is well known to affect their vibrationalal spectra [21] and can, in theory, affect reaction rates and pathways, especially at high temperature where molecular fragmentation begins, but it is rarely considered significant for low temperature reactions. First, proteins are stable and functional primarily in a narrow, relatively low The magnitude of the Doppler shifting is roughly vx c  ⁇ m  ⁇ m , (5.12) where vx is the velocity of the atom in the direction of the demon, c is the speed of light,  ⁇ m is the frequency of the disk engine, and  ⁇ m is the Doppler frequency Specifically, when the disk moves to the right (+x) the pawl will be at a slightly higher temperature than when it moves to the left ( ⁇ x); therefore, the pawl will on average execute more extreme  ⁇ z Brownian motion when it moves to the right and, as a result, have a\n",
            "59.00547766685486\n",
            "PREDICTION >>  (5.23) Dimensional analysis (with M  ⁇  L3, where L is the characteristic length scale of the system) shows power output for individual devices 5.23 Dimensional analysis (with M  ⁇  L3, where L is the characteristic length scale of the system) shows power output for individual devices 5.23  (Here adiabatic means that the piston’s and walls’ interior degrees of freedom cannot be excited, but that they can receive and transmit impulses to the gas.) The piston divides the cylinder into two regions of lengths X and L ⁇ X, as indicated in Figure 5.5, and each holds N atoms ( For instance, in assuming |  ⁇ 1 2 | 1 (e.g., the piston does not stray far from the cylinder center) and again approximating the piston’s velocity by its formal thermal velocity X  ⁇  = kTo Mp , (5.29) reduces approximately to (5.27) describing the • In the case of the Trupp cycle,  ⁇ r2 is the dielectric constant and  ⁇ r2 is the electric field, and  ⁇ r2 is the dielectric constant and  ⁇ r2 is the electric field. • In the case of the Trupp cycle,  ⁇ r2 is the dielectric\n",
            "60.11207151412964\n",
            "PREDICTION >>  The net gain in work (and, therefore, the net decrease in universal heat) for the entire cycle is: Chapter 5: Modern Classical Challenges 167  ⁇ Q =  ⁇ W =  ⁇ V ( ⁇   ⁇  1)o 2 E2dV (5.36) In accord with energy conservation, the total cyclic energy Furthermore, any bona fide attempt at second law violation using this cycle must contend with several countervailing sources of heat (entropy), which include: a) fluid heating (Steps 2,4); b) Ohmic heating of finite-conductivity dielectric due to current flow between conductors (Steps 1,2); c (Since the disk kinetic energies are constant, the velocity space volume is unaffected.) One 170 Challenges to the Second Law has for the change in entropy between initial (i) and final state (f):  ⁇ S = Sf  ⁇  Si = k[ln( ⁇ f )  ⁇  ln( [9] Becker, W.M., Reece, J.B., and Poenie, M.F., The World of the Cell, Chapters 7,8; (Benjamin/Cummings, Menlo Park, CA, 1996). [22] Karplus, M.N., Atoms and Molecules\n",
            "60.21828007698059\n",
            "PREDICTION >>  [53] Amin, S., in Quantum Limits to the Second Law, AIP Press, Melville, NY, 2002 pg. [54] Amin, S., in Quantum Limits to the Second Law, AIP Press, Melville, NY, 2002 pg. [54] Amin, S., in Quantum The formation of galaxies and galactic clusters from a more homogeneous mass distribution directly after the Big Bang is an example of such “curdling.1” Thus, because of its super-extensivity, gravitational systems cannot usually be carried to the traditional thermodynamic limit (N  ⁇   ⁇  and V  ⁇   ⁇ , (In this paper, suprathermal refers to particles with average speeds greater than the thermal speed, up to several times the thermal speed.) Briefly, the paradoxical system consists of a blackbody cavity housing a gravitator of comparable dimensions and a tenuous gas Figure 6.1. The gas in the 178 Challenges to the These six parameters specify the system; they are: T  ⁇  blackbody cavity temperature; mA  ⁇  mass of gas atom A; mG  ⁇  mass of spherical gravitator; rA  ⁇  radius of gas atom A; rG  ⁇  radius of spherical gravitator; rc \n",
            "61.270042419433594\n",
            "PREDICTION >>  It has been cogently criticized by Wheeler ( ⁇ 6.2.5) [27].) Chapter 6: Gravitational Challenges 181 Figure 6.2: One dimensional velocity distributions f(vy) for gas atoms at locations 1-4 in Figure 1a. In the case of f1( ⁇ vy) and f2( ⁇ vy) in the cavity The inelastic f4(v) is f4(v)=[ A v2 + B ] 1/2v  ⁇  exp[ ⁇ A(v2 + B)], (6.3) where B = (2Gmg( 1 rg  ⁇  1 rc )]. Analysis Chapter 6: Gravit Figure 6.24.1 Velocity Distributions Numerical simulations provided velocity distributions for the test atom in the cavity volume between the gravitator and cavity wall at positions of azimuthally symmetric ring- or dome-shaped test patches (See Figure 6.3) located on spherical shells nested within the cavity walls and concentric with the gravi First, the twin peaks of the S2 distributions are fairly sharp and symmetric Challenges to the Second Law Figure 6.4: Representative x-, y-, z-, and r-velocity distributions for standard gravitator for 3000 atomic crossings of 30o dome test patches over S1 (a) and S2 (\n",
            "59.531328201293945\n",
            "PREDICTION >>  Integration of the local f(v) or phase space diagrams, particularly to obtain velocity moments, allows one to assess local and global thermodynamic quantities such as number density, particle flux, pressure, kinetic energy density, and entropy density. In broad terms, the diagram consists of two types of contours: i) a series of Three types of serial contours are apparent: i) open, slanted, roughly linear and parallel, high-velocity, low phase space density contours (2.5% - 30%); ii) slanted, nested chevron contours of medium- to high-velocity and high density (40% - 100%); and iii) nested finger-shaped outflow loops At low temperature, the gas freezes out on the gravitator and cannot cycle to the walls, while at high temperatures the effective surface trapping contours are identified out to 30% of the local temperature range; i) these contours are significantly more pronounced in Q-III than in Q-IV; this is consistent with the On the other hand, the net force exerted on the gravitator at rest (Figure 6.1a) or at rest (Figure 6.1b) was offset from the cavity center so as to circulate within the cavity (Figure 6.1c).\n",
            "59.58509278297424\n",
            "PREDICTION >>  This is supported by its previously demonstrated ergodic behavior (Figure 6.4).) Gravitator mass can be expressed (inational units of kT) in terms of the gravitational potential energy of a gas atom at the wall ((P.E.)wall[mG] = GmA(rc ⁇ r At either  ⁇  = 0 rad/s or at the terminal angular velocity ( ⁇ 7.5  ⁇  10 ⁇ 5 rad/s) the gravitator/generator produces no power, but for 0  ⁇   ⁇   ⁇   ⁇ terminal, the steady-state power output is non-zero and positive, Wheeler demonstrates analytically and via numerical simulations that the one-dimensional distribution used by Sheehan (Figure 6.2) is spurious because it is not correctly weighted by velocity. Wheeler goes on to argue that the 1-D distribution can be extended to 3-D and, via Liouville’s theorem, the full velocity distributions (arriving From the deflection of the torsion balance, which was calibrated, the momentum flux transfer from the gas to the surface could be established with high precision and accuracy, and from this the degree of inelasticity of gas-surface collisions could be determined. The torsion balance, consisting of thin glass vanes (21 mm square) overlay\n",
            "60.066845178604126\n",
            "PREDICTION >>  In strictly applying these results to the paradox, however, a number of caveats must be made, chief among them being: (1) that the gravitationally-induced, drifting, cool halfMaxwellian suprathermal beams in the paradox behave comparably to the nondrifting, hot, half-Maxwellian suprathermal beams studied The Loschmidt effect has been shown to be independent of the temperature of the gas column, but it is not clear whether the Loschmidt effect is independent of the temperature of the gas column, or whether the Loschmidt effect is independent of the temperature of the gas column, or whether the Loschmidt effect is independent of the The most sophisticated long-term experiments reported average vertical temperature gradients of ( dT dz )air/exp = 7  ⁇  10 ⁇ 2K/m for air and ( dT dz )water/exp = 4  ⁇  10 ⁇ 2K/m for water (with glass microspheres Trupp proposes that the forces at the gas-liquid interface act as a highly compressed version of the gravitational field and should, via the Loschmidt mechanism, give rise to a temperature difference between the vapor and liquid phase of suitable solutions [39]. [5] Gross, D.H., G.L.,\n",
            "58.97904586791992\n",
            "PREDICTION >>  [31] Parilis, E.S., Kishinevsky, L.M., Turaev, N.Yu., Baklitzky, B.E., Umarov, F.F., Verleger, V.Kh., Nizhnaya, S.L., In the low-density (collisionless) regime, a fourth type of pressure gradient can also arise, this due to steady-state 212 Challenges to the Second Law differential thermal desorption of surface species from chemically active surfaces. It is considered almost axiomatic that gas phase equilibrium under blackbody cavity conditions is: i) The initial i refers to surface type, j to chemical species; subscripts ads, des, diss, and recomb refer to the processes of adsorption, desorption, dissociation, and recombination of atomic or molecular species (e.g., Rads(i, Aj ) = Rads(1, A2) (Without loss of generality, this constraint can be sharpened to summing discrete quantum mechanical state-to-state transitions between gas and surface phases.) Here vAj is the gaseous thermal velocity of species Aj ;  ⁇ att is the attempt frequency for desorption, which is roughly equal to the lattice vibration frequency\n",
            "58.85844564437866\n",
            "PREDICTION >>  In the limiting case above (K(1) 1 and K(2) 1) with its A-flux constraint (n(1, A)  ⁇  1 2n(2, A2)), applying (7.7), one finds P1 n(1, A)kT = n(2, A2)kT  ⁇ 2P1 P b) These equations can be recast in terms of the following chemical processes: adsorption, desorption, dissociation, or recombination rates [m ⁇ 2s ⁇ 1 for surfaces and m ⁇ 3s ⁇ 1 for volume]; and (SA)[Rdes(1, A) ⁇ Rads(1, A) ⁇  n2(1, A) (7.17) K(2) n(2, A2) n2(2, A) (7.18) vA 4 n(c, A) + 2vA2 4 n(c, A2) 1  ⁇ des(1, A) n(1, A) + 2  ⁇ des(1 In this case, if the total desorptive fluxes of A2 and A from S2 each far exceed the total fluxes from S1, then S2 will almost completely determine the surface and volume inventories of A and A2, regardless of the behavior of S1.\n"
          ],
          "name": "stdout"
        }
      ]
    },
    {
      "cell_type": "code",
      "metadata": {
        "id": "ZCErS-ydqdt4",
        "colab_type": "code",
        "colab": {}
      },
      "source": [
        "infer = imported.signatures[\"serving_default\"]\n",
        "print(infer.inputs)\n",
        "print(infer.output_shapes)"
      ],
      "execution_count": null,
      "outputs": []
    },
    {
      "cell_type": "markdown",
      "metadata": {
        "id": "j_auVN5-NKbB",
        "colab_type": "text"
      },
      "source": [
        "# GPU type"
      ]
    },
    {
      "cell_type": "code",
      "metadata": {
        "id": "wF5qR-ESNNk3",
        "colab_type": "code",
        "colab": {}
      },
      "source": [
        "# memory footprint support libraries/code\n",
        "!ln -sf /opt/bin/nvidia-smi /usr/bin/nvidia-smi\n",
        "!pip install gputil\n",
        "!pip install psutil\n",
        "!pip install humanize\n",
        "import psutil\n",
        "import humanize\n",
        "import os\n",
        "import GPUtil as GPU\n",
        "GPUs = GPU.getGPUs()\n",
        "# XXX: only one GPU on Colab and isn’t guaranteed\n",
        "gpu = GPUs[0]\n",
        "def printm():\n",
        " process = psutil.Process(os.getpid())\n",
        " print(\"GPU type: \" + gpu.name)\n",
        " print(\"Gen RAM Free: \" + humanize.naturalsize( psutil.virtual_memory().available ), \" | Proc size: \" + humanize.naturalsize( process.memory_info().rss))\n",
        " print(\"GPU RAM Free: {0:.0f}MB | Used: {1:.0f}MB | Util {2:3.0f}% | Total {3:.0f}MB\".format(gpu.memoryFree, gpu.memoryUsed, gpu.memoryUtil*100, gpu.memoryTotal))\n",
        "printm()"
      ],
      "execution_count": null,
      "outputs": []
    },
    {
      "cell_type": "markdown",
      "metadata": {
        "id": "oYS8sjAYPCYX",
        "colab_type": "text"
      },
      "source": [
        "# Appendix"
      ]
    },
    {
      "cell_type": "markdown",
      "metadata": {
        "id": "KpHBSs7-vEq3",
        "colab_type": "text"
      },
      "source": [
        "### Fine tuned model (change finetuned model name)"
      ]
    },
    {
      "cell_type": "code",
      "metadata": {
        "id": "jeTHSSIoQDyZ",
        "colab_type": "code",
        "colab": {}
      },
      "source": [
        "!mkdir ckpt\n",
        "!gsutil cp -r gs://pegasus_ckpt/c4.unigram.newline.10pct.96000.model ckpt/pegasus_ckpt/c4.unigram.newline.10pct.96000.model\n",
        "!gsutil -m cp -r gs://pegasus_ckpt/arxiv ckpt/pegasus_ckpt/"
      ],
      "execution_count": null,
      "outputs": []
    },
    {
      "cell_type": "code",
      "metadata": {
        "id": "Zapd_dGOWCo5",
        "colab_type": "code",
        "colab": {}
      },
      "source": [
        "!python3 pegasus/bin/train.py --params=aeslc_transformer \\\n",
        "--param_overrides=vocab_filename=ckpt/pegasus_ckpt/c4.unigram.newline.10pct.96000.model \\\n",
        "--train_init_checkpoint=ckpt/pegasus_ckpt/arxiv/model.ckpt-340000 \\\n",
        "--model_dir=ckpt/pegasus_ckpt/arxiv --save_checkpoints_steps=100"
      ],
      "execution_count": null,
      "outputs": []
    },
    {
      "cell_type": "code",
      "metadata": {
        "id": "gzsomhNGwIpe",
        "colab_type": "code",
        "colab": {}
      },
      "source": [
        "!cp -rv ckpt/pegasus_ckpt/arxiv/ /content/gdrive/My\\ Drive/"
      ],
      "execution_count": null,
      "outputs": []
    },
    {
      "cell_type": "markdown",
      "metadata": {
        "id": "82-p3haaPHGT",
        "colab_type": "text"
      },
      "source": [
        "## Analyse graph"
      ]
    },
    {
      "cell_type": "code",
      "metadata": {
        "id": "6euNbuelqqvn",
        "colab_type": "code",
        "colab": {}
      },
      "source": [
        "output = infer(tf.constant([example.SerializeToString()]))\n",
        "text_eval.ids2str(encoder, output['outputs'].numpy(), None)"
      ],
      "execution_count": null,
      "outputs": []
    },
    {
      "cell_type": "code",
      "metadata": {
        "id": "sHoCfoJJr54V",
        "colab_type": "code",
        "colab": {}
      },
      "source": [
        "input_serial = tf.concat([tf.constant([example.SerializeToString()]),tf.constant([example.SerializeToString()])],axis=0)"
      ],
      "execution_count": null,
      "outputs": []
    },
    {
      "cell_type": "code",
      "metadata": {
        "id": "Jo9tepRLybJE",
        "colab_type": "code",
        "colab": {}
      },
      "source": [
        "input_serial"
      ],
      "execution_count": null,
      "outputs": []
    },
    {
      "cell_type": "code",
      "metadata": {
        "id": "V259YVMajWRb",
        "colab_type": "code",
        "colab": {}
      },
      "source": [
        "%load_ext tensorboard"
      ],
      "execution_count": null,
      "outputs": []
    },
    {
      "cell_type": "code",
      "metadata": {
        "id": "496_uEu9kHs7",
        "colab_type": "code",
        "colab": {}
      },
      "source": [
        "dir = model_dir[MODELNAME]\n",
        "!python import_pb_to_tensorboard.py --model_dir $dir --log_dir /tmp/tensorflow_logdir"
      ],
      "execution_count": null,
      "outputs": []
    },
    {
      "cell_type": "code",
      "metadata": {
        "id": "iKyCPGUJjbf4",
        "colab_type": "code",
        "colab": {}
      },
      "source": [
        "%tensorboard --logdir=/tmp/tensorflow_logdir"
      ],
      "execution_count": null,
      "outputs": []
    }
  ]
}