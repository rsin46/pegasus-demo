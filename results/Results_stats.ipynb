{
 "cells": [
  {
   "cell_type": "code",
   "execution_count": 74,
   "metadata": {},
   "outputs": [],
   "source": [
    "from nltk.tokenize import sent_tokenize"
   ]
  },
  {
   "cell_type": "code",
   "execution_count": 75,
   "metadata": {},
   "outputs": [],
   "source": [
    "ORIG_FILE = 'laws.txt'\n",
    "FILE = '31-08_01-31_1598319160_laws_condensed.txt_1598319160.txt'"
   ]
  },
  {
   "cell_type": "code",
   "execution_count": 76,
   "metadata": {},
   "outputs": [],
   "source": [
    "def f7(seq):\n",
    "    seen = set()\n",
    "    seen_add = seen.add\n",
    "    return [x for x in seq if not (x in seen or seen_add(x))]"
   ]
  },
  {
   "cell_type": "code",
   "execution_count": 77,
   "metadata": {},
   "outputs": [],
   "source": [
    "orig_file = open(ORIG_FILE, \"r\", encoding=\"utf-8\").read()\n",
    "text = open(FILE, \"r\", encoding=\"utf-8\").read()"
   ]
  },
  {
   "cell_type": "code",
   "execution_count": 78,
   "metadata": {},
   "outputs": [],
   "source": [
    "text_list = text.splitlines()\n",
    "prefix = ('Section','.')\n",
    "text_list = [i for i in text_list if i] \n",
    "text_list = [x for x in text_list if not x.startswith(prefix)]\n",
    "word_len = [len(s.split()) for s in text_list[1:]]\n",
    "sentences = len([x for x in text_list if x.endswith('.')])\n",
    "sentence_list = sent_tokenize('. '.join(text_list))\n",
    "sentence_list = [x for x in sentence_list if not x.startswith(prefix)]\n",
    "unique_sents = f7(sentence_list)"
   ]
  },
  {
   "cell_type": "code",
   "execution_count": 79,
   "metadata": {},
   "outputs": [
    {
     "name": "stdout",
     "output_type": "stream",
     "text": [
      "Average words per pass: 82.61290322580645\n",
      "Full sentences at end: 29/31\n",
      "Unique sentences: 52/60\n"
     ]
    }
   ],
   "source": [
    "print(f\"Average words per pass: {sum(word_len)/len(word_len)}\")\n",
    "print(f\"Full sentences at end: {sentences}/{len(word_len)}\")\n",
    "print(f\"Unique sentences: {len(unique_sents)}/{len(sentence_list)}\")"
   ]
  },
  {
   "cell_type": "code",
   "execution_count": 80,
   "metadata": {},
   "outputs": [],
   "source": [
    "OUTPUT = '1598319160_laws_condensed_condensed.txt'\n",
    "with open(OUTPUT, 'w') as f:\n",
    "    for item in unique_sents:\n",
    "        f.write(\"%s\\n\" % item)\n"
   ]
  },
  {
   "cell_type": "code",
   "execution_count": 81,
   "metadata": {},
   "outputs": [],
   "source": [
    "unique = [i for i in unique_sents if i[:-1] not in orig_file.replace('\\n', ' ')]"
   ]
  },
  {
   "cell_type": "code",
   "execution_count": 82,
   "metadata": {
    "scrolled": true
   },
   "outputs": [
    {
     "data": {
      "text/plain": [
       "36"
      ]
     },
     "execution_count": 82,
     "metadata": {},
     "output_type": "execute_result"
    }
   ],
   "source": [
    "len(unique)"
   ]
  },
  {
   "cell_type": "code",
   "execution_count": 83,
   "metadata": {},
   "outputs": [
    {
     "data": {
      "text/plain": [
       "['31-Aug-2020 (01:33:57.680571).',\n",
       " '• • • • • • • • • • • • • • • • • • • • • • • • • • • • • • • • • • • • • • • • • • • • • • • • • • • • • • • • • • • • • • • • • • • • • • • • • • • • • • • • • • • • • • • • • • • • • • • • • • • • • • • • • • • • • • • • • • • • • • • • • • • • • • • •.',\n",
       " 'For instance, we feel anger at person X, whereas in fact the true source of this may be envy; below the level of conscious awareness we feel inferior in relation to X and want something he or she has.',\n",
       " 'For instance, we feel anger at person X, whereas in fact the true source of this may be envy; below the level of conscious awareness we feel inferior in relation to X and want something he or she has.. —Friedrich Nietzsche 3 Transform Self-love into Empathy The Law of Narcissism We all naturally possess the most remarkable tool for connecting to people and attaining social power—empathy.',\n",
       " 'In 1634, you would also have to know that Jeanne de Belciel was to be expected, but you would also have to know that Stalin’s wrath was to be expected, but you would also have to know that Stalin’s wrath was toward the end of the house..',\n",
       " 'He wrote her a letter in which he finished by saying, “You attribute what has happened to everything except the one thing, that you are the unwitting, unintentional cause of my sufferings..',\n",
       " 'He wrote her a letter in which he finished by saying, “You attribute what has happened to everything except the one thing, that you are the unwitting, unintentional cause of my sufferings... You are able to see through their fake, tight smiles, to pick up the flashes of facial irritation that cross their face and the signs of subtle discomfort in your presence.',\n",
       " 'If you notice that a person’s eyes are open wider than usual, or that their voice is strained, or that their eyes are open wider than usual, or that their face is flushed, or that their voice is strained, or that their eyes are open wider than usual, or that their voice is strained, or that their voice is strained, or that their eyes are open open..',\n",
       " 'In the early 1950s, Hughes bought the studio’s most profitable and prestigious shares and gained a controlling interest in Hollywood’s newest business venture, the Hughes Aircraft Company.',\n",
       " 'In the early 1950s, Hughes bought the studio’s most profitable and prestigious shares and gained a controlling interest in Hollywood’s newest business venture, the Hughes Aircraft Company..',\n",
       " 'If you want to test a man’s character, give him power.” On the way to gaining power, people will tend to play the courtier, to seem deferential, to follow the party line, to do what it takes to make it to the top.',\n",
       " 'If you want to test a man’s character, give him power.” On the way to gaining power, people will tend to play the courtier, to seem deferential, to follow the party line, to do what it takes to make it to the top..',\n",
       " 'If you are too obvious with this, if people can read you too easily and figure you out, if you show your needs too visibly, then they will unconsciously begin to have a degree of disrespect.',\n",
       " 'If you are too obvious with this, if people can read you too easily and figure you out, if you show your needs too visibly, then they will unconsciously begin to have a degree of disrespect..',\n",
       " 'The breeders, resentful of the rulers and angered by their actions, decided to release their cobras back on the streets, thereby tripling the population from before the government program.',\n",
       " 'The breeders, resentful of the rulers and angered by their actions, decided to release their cobras back on the streets, thereby tripling the population from before the government program..',\n",
       " 'He would not spend weeks on the committee chairmen, but Johnson himself was not willing to give up his power until the Republicans were in full control of the Senate and the House.',\n",
       " 'He would not spend weeks on the committee chairmen, but Johnson himself was not willing to give up his power until the Republicans were in full control of the Senate and the House..',\n",
       " 'He told his mother and sister that he wanted to go to his father’s house, but he would not be able to do so because of his own feelings and the way he wanted to react in the world, but we would not be able to do so because of his own feelings and the way he wanted to react in the world.',\n",
       " 'He told his mother and sister that he wanted to go to his father’s house, but he would not be able to do so because of his own feelings and the way he wanted to react in the world, but we would not be able to do so because of his own feelings.. You can also try a simple experiment: Approach people you are meeting for the first time, or only know peripherally, with various positive thoughts—“I like them,” “They seem smart,” et cetera.',\n",
       " 'You can also try a simple experiment: Approach people you are meeting for the first time, or only know peripherally, with various positive thoughts—“I like them,” “They seem smart,” et cetera..',\n",
       " 'If you are a good listener, you will be able to listen to what others have to say, and you will be able to listen to what others have to say, and you will be able to listen to what others have to say, and you will be able to listen to what others have to say, and you will be able to listen to what others have to say.',\n",
       " 'If you are a good listener, you will be able to listen to what others have to say, and you will be able to listen to what others have to say, and you will be able to listen to what others have to say.. Mary’s father was William Godwin (1756–1836), a celebrated writer and philosopher who advocated many radical ideas, including the end of private property.',\n",
       " 'Mary’s father was William Godwin (1756–1836), a celebrated writer and philosopher who advocated many radical ideas, including the end of private property.',\n",
       " 'Mary’s father was William Godwin (1756–1836), a celebrated writer and philosopher who advocated many radical ideas, including the end of private property.. You can do this by immersing yourself in three ways that envy can be detected: first by observing the signs of passive envy or by doing something else that might indicate envy is something more active.',\n",
       " 'You can do this by immersing yourself in three ways that envy can be detected: first by observing the signs of passive envy or by doing something else that might indicate envy is something more active.',\n",
       " 'You can do this by immersing yourself in three ways that envy can be detected: first by observing the signs of passive envy or by doing something else that might indicate envy is something more active.. Katzenberg, however, would become one of the world’s most profitable entertainment companies, and the company’s stock price soared to record highs.',\n",
       " 'Katzenberg, however, would become one of the world’s most profitable entertainment companies, and the company’s stock price soared to record highs.',\n",
       " 'Katzenberg, however, would become one of the world’s most profitable entertainment companies, and the company’s stock price soared to record highs..',\n",
       " 'In fact, you can learn more about your natural instincts than you need to in order to become a great leader, and you can learn more about yourself than you need to in order to become a great leader..',\n",
       " 'In fact, you can learn more about your natural instincts than you need to in order to become a great leader, and you can learn more about yourself than you need to in order to become a great leader...',\n",
       " 'The Devilish man who is not a real person who can see the opposite side of this relationship, but who also tries to observe the relationship as a student of the opposite gender: First you must try to observe the opposite side of this relationship, but who also tries to observe the relationship as a student of the opposite gender.. Masculine and feminine styles of self-assessment and learning: As studies have shown, when men make mistakes they tend to look outward and find other people or circumstances to blame.',\n",
       " 'Masculine and feminine styles of self-assessment and learning: As studies have shown, when men make mistakes they tend to look outward and find other people or circumstances to blame..',\n",
       " 'In the early 1960s, King’s leadership of the Southern Christian Leadership Conference (SCLC) became a symbol of the struggle for racial equality in the United States.',\n",
       " 'In the early 1960s, King’s leadership of the Southern Christian Leadership Conference (SCLC) became a symbol of the struggle for racial equality in the United States.. Fangpu and Jianhua, who had been classmates at YMS, had developed a close friendship, and Fangpu had become a close friend of Jianhua’s father, Mao Zedong, the founder of the People’s Republic of China (PRC).',\n",
       " 'Fangpu and Jianhua, who had been classmates at YMS, had developed a close friendship, and Fangpu had become a close friend of Jianhua’s father, Mao Zedong, the founder of the People’s Republic of China (PRC).. We tend to worry a lot about our status and where we rank in the hierarchy: “Am I getting as much respect as my colleagues?” This is the primate part of our nature, as we share this obsession with status with our relatives.',\n",
       " 'We tend to worry a lot about our status and where we rank in the hierarchy: “Am I getting as much respect as my colleagues?” This is the primate part of our nature, as we share this obsession with status with our relatives..',\n",
       " 'It is not that you become self-absorbed or cut off from the group—outwardly you do what you can to fit in, but inwardly you exert a greater sense of reality, comparing them with your own, adapting parts or all of those that have merit and rejecting others that go against your experience..',\n",
       " 'It is not that you become self-absorbed or cut off from the group—outwardly you do what you can to fit in, but inwardly you exert a greater sense of reality, comparing them with your own, adapting parts or all of those that have merit and rejecting others that go against your experience... She was a fervent Catholic, and around her she would attract all those in England and abroad who wanted to depose Elizabeth and put a Catholic on the throne.',\n",
       " 'They would easily destroy the English navy, link up with a large Spanish force in the Netherlands, cross the Channel, and sweep their way to London, where they would capture the Queen and put her on trial for the execution of Mary Queen of Scots; he would then put his own daughter on the throne of England..',\n",
       " 'In the months, it might feel good to let them hear of the great things you will do for them, but people generally have an acute memory for promises, and if you too fail to deliver, it will stick in their mind, even if you try to blame others or circumstances.',\n",
       " 'In the months, it might feel good to let them hear of the great things you will do for them, but people generally have an acute memory for promises, and if you too fail to deliver, it will stick in their mind, even if you try to blame others or circumstances..',\n",
       " 'He could not live with the thought that what drove his actions was a desire to control people and acquire the vast sums of money necessary for such a purpose.',\n",
       " 'He could not live with the thought that what drove his actions was a desire to control people and acquire the vast sums of money necessary for such a purpose.. (We can also see an increasingly aggressive edge to our humor.)',\n",
       " 'With technology, it has become easier to express and satisfy our aggressive desires.',\n",
       " 'The Subtle-Superiority Strategy: A friend, colleague, or employee is chronically late, but he or she always has a ready excuse that is logical, along with an apology that seems sincere.',\n",
       " 'The Subtle-Superiority Strategy: A friend, colleague, or employee is chronically late, but he or she always has a ready excuse that is logical, along with an apology that seems sincere..',\n",
       " 'It was located near his apartment, so he began to spend a great part of his day there, and soon he was participating in the raucous debates about the future of France that took place at the club.',\n",
       " 'It was located near his apartment, so he began to spend a great part of his day there, and soon he was participating in the raucous debates about the future of France that took place at the club... We can notice a similar back-and-forth change in theorizing style—from the sober and sober-looking to the sober and sober-looking to the sober and sober-looking to the sober and sober-looking to the sober and sober-looking to the sober and sober-looking to the sober and sober-looking to the sober.',\n",
       " 'The Bullet in the Side Mary Flannery O’Connor (1925–1964) felt a strange and powerful connection to her father, Edward.',\n",
       " 'The Bullet in the Side Mary Flannery O’Connor (1925–1964) felt a strange and powerful connection to her father, Edward..',\n",
       " 'The narrator of A Journal of the Plague Year, Daniel Defoe, writes in his book, A Journal of the Plague Year, that people tend to feel much greater levels of empathy toward their fellow Londoners than they do toward themselves.']"
      ]
     },
     "execution_count": 83,
     "metadata": {},
     "output_type": "execute_result"
    }
   ],
   "source": [
    "unique_sents"
   ]
  },
  {
   "cell_type": "code",
   "execution_count": null,
   "metadata": {},
   "outputs": [],
   "source": []
  }
 ],
 "metadata": {
  "kernelspec": {
   "display_name": "Python 3",
   "language": "python",
   "name": "python3"
  },
  "language_info": {
   "codemirror_mode": {
    "name": "ipython",
    "version": 3
   },
   "file_extension": ".py",
   "mimetype": "text/x-python",
   "name": "python",
   "nbconvert_exporter": "python",
   "pygments_lexer": "ipython3",
   "version": "3.6.10"
  }
 },
 "nbformat": 4,
 "nbformat_minor": 4
}
