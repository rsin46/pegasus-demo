{
  "nbformat": 4,
  "nbformat_minor": 0,
  "metadata": {
    "colab": {
      "name": "Pegasus-demo.ipynb",
      "provenance": [],
      "collapsed_sections": [],
      "authorship_tag": "ABX9TyMJqcGYzMQIVOxSEc07c24I",
      "include_colab_link": true
    },
    "kernelspec": {
      "name": "python3",
      "display_name": "Python 3"
    },
    "accelerator": "GPU"
  },
  "cells": [
    {
      "cell_type": "markdown",
      "metadata": {
        "id": "view-in-github",
        "colab_type": "text"
      },
      "source": [
        "<a href=\"https://colab.research.google.com/github/rsin46/pegasus-demo/blob/master/Pegasus_demo.ipynb\" target=\"_parent\"><img src=\"https://colab.research.google.com/assets/colab-badge.svg\" alt=\"Open In Colab\"/></a>"
      ]
    },
    {
      "cell_type": "code",
      "metadata": {
        "id": "Q73qLmspsDyq",
        "colab_type": "code",
        "colab": {
          "base_uri": "https://localhost:8080/",
          "height": 122
        },
        "outputId": "2b68f70e-3056-4dfc-b7a7-4ada8a91a703"
      },
      "source": [
        "from google.colab import drive\n",
        "drive.mount('/content/gdrive')"
      ],
      "execution_count": 1,
      "outputs": [
        {
          "output_type": "stream",
          "text": [
            "Go to this URL in a browser: https://accounts.google.com/o/oauth2/auth?client_id=947318989803-6bn6qk8qdgf4n4g3pfee6491hc0brc4i.apps.googleusercontent.com&redirect_uri=urn%3aietf%3awg%3aoauth%3a2.0%3aoob&scope=email%20https%3a%2f%2fwww.googleapis.com%2fauth%2fdocs.test%20https%3a%2f%2fwww.googleapis.com%2fauth%2fdrive%20https%3a%2f%2fwww.googleapis.com%2fauth%2fdrive.photos.readonly%20https%3a%2f%2fwww.googleapis.com%2fauth%2fpeopleapi.readonly&response_type=code\n",
            "\n",
            "Enter your authorization code:\n",
            "··········\n",
            "Mounted at /content/gdrive\n"
          ],
          "name": "stdout"
        }
      ]
    },
    {
      "cell_type": "code",
      "metadata": {
        "id": "hAL5ArgTyayh",
        "colab_type": "code",
        "colab": {}
      },
      "source": [
        "# MODEL: gigaword for gigaword\n",
        "#        cnn_dailymail for CNN Dailymail\n",
        "# 1597317576 - Batch of 8\n",
        "# 1597369292 - No batch\n",
        "MODELNAME = 'aeslc'\n",
        "MODEL_DIR = '1597317576'\n",
        "BATCH_SIZE = 8"
      ],
      "execution_count": 2,
      "outputs": []
    },
    {
      "cell_type": "code",
      "metadata": {
        "id": "1HRtxbTKDaXk",
        "colab_type": "code",
        "colab": {
          "base_uri": "https://localhost:8080/",
          "height": 238
        },
        "outputId": "aeafc4d8-9eac-49d3-f95c-c34bb00cbbea"
      },
      "source": [
        "!git clone http://github.com/rsin46/pegasus-demo.git\n",
        "!git clone http://github.com/google-research/pegasus.git"
      ],
      "execution_count": 3,
      "outputs": [
        {
          "output_type": "stream",
          "text": [
            "Cloning into 'pegasus-demo'...\n",
            "warning: redirecting to https://github.com/rsin46/pegasus-demo.git/\n",
            "remote: Enumerating objects: 20, done.\u001b[K\n",
            "remote: Counting objects:   5% (1/20)\u001b[K\rremote: Counting objects:  10% (2/20)\u001b[K\rremote: Counting objects:  15% (3/20)\u001b[K\rremote: Counting objects:  20% (4/20)\u001b[K\rremote: Counting objects:  25% (5/20)\u001b[K\rremote: Counting objects:  30% (6/20)\u001b[K\rremote: Counting objects:  35% (7/20)\u001b[K\rremote: Counting objects:  40% (8/20)\u001b[K\rremote: Counting objects:  45% (9/20)\u001b[K\rremote: Counting objects:  50% (10/20)\u001b[K\rremote: Counting objects:  55% (11/20)\u001b[K\rremote: Counting objects:  60% (12/20)\u001b[K\rremote: Counting objects:  65% (13/20)\u001b[K\rremote: Counting objects:  70% (14/20)\u001b[K\rremote: Counting objects:  75% (15/20)\u001b[K\rremote: Counting objects:  80% (16/20)\u001b[K\rremote: Counting objects:  85% (17/20)\u001b[K\rremote: Counting objects:  90% (18/20)\u001b[K\rremote: Counting objects:  95% (19/20)\u001b[K\rremote: Counting objects: 100% (20/20)\u001b[K\rremote: Counting objects: 100% (20/20), done.\u001b[K\n",
            "remote: Compressing objects: 100% (20/20), done.\u001b[K\n",
            "remote: Total 20 (delta 2), reused 15 (delta 0), pack-reused 0\u001b[K\n",
            "Unpacking objects: 100% (20/20), done.\n",
            "Cloning into 'pegasus'...\n",
            "warning: redirecting to https://github.com/google-research/pegasus.git/\n",
            "remote: Enumerating objects: 171, done.\u001b[K\n",
            "remote: Total 171 (delta 0), reused 0 (delta 0), pack-reused 171\u001b[K\n",
            "Receiving objects: 100% (171/171), 353.09 KiB | 1.30 MiB/s, done.\n",
            "Resolving deltas: 100% (56/56), done.\n"
          ],
          "name": "stdout"
        }
      ]
    },
    {
      "cell_type": "code",
      "metadata": {
        "id": "mc7XEGKND5Xv",
        "colab_type": "code",
        "colab": {
          "base_uri": "https://localhost:8080/",
          "height": 122
        },
        "outputId": "442a5bc1-a5c6-45b2-e83c-f9f645b15c8d"
      },
      "source": [
        "!mkdir /content/pegasus-demo/model\n",
        "!pip install sentencepiece\n",
        "# !pip install -e pegasus\n",
        "# !pip install tensorflow_transform"
      ],
      "execution_count": 4,
      "outputs": [
        {
          "output_type": "stream",
          "text": [
            "Collecting sentencepiece\n",
            "\u001b[?25l  Downloading https://files.pythonhosted.org/packages/d4/a4/d0a884c4300004a78cca907a6ff9a5e9fe4f090f5d95ab341c53d28cbc58/sentencepiece-0.1.91-cp36-cp36m-manylinux1_x86_64.whl (1.1MB)\n",
            "\r\u001b[K     |▎                               | 10kB 23.3MB/s eta 0:00:01\r\u001b[K     |▋                               | 20kB 6.6MB/s eta 0:00:01\r\u001b[K     |█                               | 30kB 7.8MB/s eta 0:00:01\r\u001b[K     |█▏                              | 40kB 8.3MB/s eta 0:00:01\r\u001b[K     |█▌                              | 51kB 7.8MB/s eta 0:00:01\r\u001b[K     |█▉                              | 61kB 8.6MB/s eta 0:00:01\r\u001b[K     |██▏                             | 71kB 8.4MB/s eta 0:00:01\r\u001b[K     |██▍                             | 81kB 9.4MB/s eta 0:00:01\r\u001b[K     |██▊                             | 92kB 8.5MB/s eta 0:00:01\r\u001b[K     |███                             | 102kB 8.6MB/s eta 0:00:01\r\u001b[K     |███▍                            | 112kB 8.6MB/s eta 0:00:01\r\u001b[K     |███▋                            | 122kB 8.6MB/s eta 0:00:01\r\u001b[K     |████                            | 133kB 8.6MB/s eta 0:00:01\r\u001b[K     |████▎                           | 143kB 8.6MB/s eta 0:00:01\r\u001b[K     |████▋                           | 153kB 8.6MB/s eta 0:00:01\r\u001b[K     |████▉                           | 163kB 8.6MB/s eta 0:00:01\r\u001b[K     |█████▏                          | 174kB 8.6MB/s eta 0:00:01\r\u001b[K     |█████▌                          | 184kB 8.6MB/s eta 0:00:01\r\u001b[K     |█████▉                          | 194kB 8.6MB/s eta 0:00:01\r\u001b[K     |██████                          | 204kB 8.6MB/s eta 0:00:01\r\u001b[K     |██████▍                         | 215kB 8.6MB/s eta 0:00:01\r\u001b[K     |██████▊                         | 225kB 8.6MB/s eta 0:00:01\r\u001b[K     |███████                         | 235kB 8.6MB/s eta 0:00:01\r\u001b[K     |███████▎                        | 245kB 8.6MB/s eta 0:00:01\r\u001b[K     |███████▋                        | 256kB 8.6MB/s eta 0:00:01\r\u001b[K     |████████                        | 266kB 8.6MB/s eta 0:00:01\r\u001b[K     |████████▎                       | 276kB 8.6MB/s eta 0:00:01\r\u001b[K     |████████▌                       | 286kB 8.6MB/s eta 0:00:01\r\u001b[K     |████████▉                       | 296kB 8.6MB/s eta 0:00:01\r\u001b[K     |█████████▏                      | 307kB 8.6MB/s eta 0:00:01\r\u001b[K     |█████████▌                      | 317kB 8.6MB/s eta 0:00:01\r\u001b[K     |█████████▊                      | 327kB 8.6MB/s eta 0:00:01\r\u001b[K     |██████████                      | 337kB 8.6MB/s eta 0:00:01\r\u001b[K     |██████████▍                     | 348kB 8.6MB/s eta 0:00:01\r\u001b[K     |██████████▊                     | 358kB 8.6MB/s eta 0:00:01\r\u001b[K     |███████████                     | 368kB 8.6MB/s eta 0:00:01\r\u001b[K     |███████████▎                    | 378kB 8.6MB/s eta 0:00:01\r\u001b[K     |███████████▋                    | 389kB 8.6MB/s eta 0:00:01\r\u001b[K     |████████████                    | 399kB 8.6MB/s eta 0:00:01\r\u001b[K     |████████████▏                   | 409kB 8.6MB/s eta 0:00:01\r\u001b[K     |████████████▌                   | 419kB 8.6MB/s eta 0:00:01\r\u001b[K     |████████████▉                   | 430kB 8.6MB/s eta 0:00:01\r\u001b[K     |█████████████▏                  | 440kB 8.6MB/s eta 0:00:01\r\u001b[K     |█████████████▍                  | 450kB 8.6MB/s eta 0:00:01\r\u001b[K     |█████████████▊                  | 460kB 8.6MB/s eta 0:00:01\r\u001b[K     |██████████████                  | 471kB 8.6MB/s eta 0:00:01\r\u001b[K     |██████████████▍                 | 481kB 8.6MB/s eta 0:00:01\r\u001b[K     |██████████████▋                 | 491kB 8.6MB/s eta 0:00:01\r\u001b[K     |███████████████                 | 501kB 8.6MB/s eta 0:00:01\r\u001b[K     |███████████████▎                | 512kB 8.6MB/s eta 0:00:01\r\u001b[K     |███████████████▋                | 522kB 8.6MB/s eta 0:00:01\r\u001b[K     |███████████████▉                | 532kB 8.6MB/s eta 0:00:01\r\u001b[K     |████████████████▏               | 542kB 8.6MB/s eta 0:00:01\r\u001b[K     |████████████████▌               | 552kB 8.6MB/s eta 0:00:01\r\u001b[K     |████████████████▉               | 563kB 8.6MB/s eta 0:00:01\r\u001b[K     |█████████████████               | 573kB 8.6MB/s eta 0:00:01\r\u001b[K     |█████████████████▍              | 583kB 8.6MB/s eta 0:00:01\r\u001b[K     |█████████████████▊              | 593kB 8.6MB/s eta 0:00:01\r\u001b[K     |██████████████████              | 604kB 8.6MB/s eta 0:00:01\r\u001b[K     |██████████████████▎             | 614kB 8.6MB/s eta 0:00:01\r\u001b[K     |██████████████████▋             | 624kB 8.6MB/s eta 0:00:01\r\u001b[K     |███████████████████             | 634kB 8.6MB/s eta 0:00:01\r\u001b[K     |███████████████████▎            | 645kB 8.6MB/s eta 0:00:01\r\u001b[K     |███████████████████▌            | 655kB 8.6MB/s eta 0:00:01\r\u001b[K     |███████████████████▉            | 665kB 8.6MB/s eta 0:00:01\r\u001b[K     |████████████████████▏           | 675kB 8.6MB/s eta 0:00:01\r\u001b[K     |████████████████████▌           | 686kB 8.6MB/s eta 0:00:01\r\u001b[K     |████████████████████▊           | 696kB 8.6MB/s eta 0:00:01\r\u001b[K     |█████████████████████           | 706kB 8.6MB/s eta 0:00:01\r\u001b[K     |█████████████████████▍          | 716kB 8.6MB/s eta 0:00:01\r\u001b[K     |█████████████████████▋          | 727kB 8.6MB/s eta 0:00:01\r\u001b[K     |██████████████████████          | 737kB 8.6MB/s eta 0:00:01\r\u001b[K     |██████████████████████▎         | 747kB 8.6MB/s eta 0:00:01\r\u001b[K     |██████████████████████▋         | 757kB 8.6MB/s eta 0:00:01\r\u001b[K     |██████████████████████▉         | 768kB 8.6MB/s eta 0:00:01\r\u001b[K     |███████████████████████▏        | 778kB 8.6MB/s eta 0:00:01\r\u001b[K     |███████████████████████▌        | 788kB 8.6MB/s eta 0:00:01\r\u001b[K     |███████████████████████▉        | 798kB 8.6MB/s eta 0:00:01\r\u001b[K     |████████████████████████        | 808kB 8.6MB/s eta 0:00:01\r\u001b[K     |████████████████████████▍       | 819kB 8.6MB/s eta 0:00:01\r\u001b[K     |████████████████████████▊       | 829kB 8.6MB/s eta 0:00:01\r\u001b[K     |█████████████████████████       | 839kB 8.6MB/s eta 0:00:01\r\u001b[K     |█████████████████████████▎      | 849kB 8.6MB/s eta 0:00:01\r\u001b[K     |█████████████████████████▋      | 860kB 8.6MB/s eta 0:00:01\r\u001b[K     |██████████████████████████      | 870kB 8.6MB/s eta 0:00:01\r\u001b[K     |██████████████████████████▎     | 880kB 8.6MB/s eta 0:00:01\r\u001b[K     |██████████████████████████▌     | 890kB 8.6MB/s eta 0:00:01\r\u001b[K     |██████████████████████████▉     | 901kB 8.6MB/s eta 0:00:01\r\u001b[K     |███████████████████████████▏    | 911kB 8.6MB/s eta 0:00:01\r\u001b[K     |███████████████████████████▌    | 921kB 8.6MB/s eta 0:00:01\r\u001b[K     |███████████████████████████▊    | 931kB 8.6MB/s eta 0:00:01\r\u001b[K     |████████████████████████████    | 942kB 8.6MB/s eta 0:00:01\r\u001b[K     |████████████████████████████▍   | 952kB 8.6MB/s eta 0:00:01\r\u001b[K     |████████████████████████████▊   | 962kB 8.6MB/s eta 0:00:01\r\u001b[K     |█████████████████████████████   | 972kB 8.6MB/s eta 0:00:01\r\u001b[K     |█████████████████████████████▎  | 983kB 8.6MB/s eta 0:00:01\r\u001b[K     |█████████████████████████████▋  | 993kB 8.6MB/s eta 0:00:01\r\u001b[K     |██████████████████████████████  | 1.0MB 8.6MB/s eta 0:00:01\r\u001b[K     |██████████████████████████████▏ | 1.0MB 8.6MB/s eta 0:00:01\r\u001b[K     |██████████████████████████████▌ | 1.0MB 8.6MB/s eta 0:00:01\r\u001b[K     |██████████████████████████████▉ | 1.0MB 8.6MB/s eta 0:00:01\r\u001b[K     |███████████████████████████████▏| 1.0MB 8.6MB/s eta 0:00:01\r\u001b[K     |███████████████████████████████▍| 1.1MB 8.6MB/s eta 0:00:01\r\u001b[K     |███████████████████████████████▊| 1.1MB 8.6MB/s eta 0:00:01\r\u001b[K     |████████████████████████████████| 1.1MB 8.6MB/s \n",
            "\u001b[?25hInstalling collected packages: sentencepiece\n",
            "Successfully installed sentencepiece-0.1.91\n"
          ],
          "name": "stdout"
        }
      ]
    },
    {
      "cell_type": "code",
      "metadata": {
        "id": "AF0na7iyHPZ4",
        "colab_type": "code",
        "colab": {}
      },
      "source": [
        "if MODELNAME == 'gigaword':\n",
        "  !cp '/content/gdrive/My Drive/Models/gigaword.tar.xz' '/content/pegasus-demo/model/gigaword.tar.xz'\n",
        "  !tar -xvf '/content/pegasus-demo/model/gigaword.tar.xz' -C '/content/pegasus-demo/model/' \n",
        "elif MODELNAME == 'cnn_dailymail':\n",
        "  !cp '/content/gdrive/My Drive/Models/cnn_dailymail.xz' '/content/pegasus-demo/model/cnn_dailymail.xz'\n",
        "  !tar -xvf '/content/pegasus-demo/model/cnn_dailymail.xz' -C '/content/pegasus-demo/model/'\n",
        "elif MODELNAME == 'aeslc':\n",
        "  source = '/content/gdrive/My\\ Drive/Models/{}'.format(MODEL_DIR)\n",
        "  !cp -r $source '/content/pegasus-demo/model/'\n"
      ],
      "execution_count": 5,
      "outputs": []
    },
    {
      "cell_type": "code",
      "metadata": {
        "id": "dofRUXoao2Cx",
        "colab_type": "code",
        "colab": {
          "base_uri": "https://localhost:8080/",
          "height": 34
        },
        "outputId": "59a1c4b1-1c2b-4742-d001-ad4a8ee57123"
      },
      "source": [
        "%cd /content/pegasus-demo\n",
        "# Initialising variables\n",
        "\n",
        "TEXT = 'thermo.txt'\n",
        "OUT_TEXT = '/content/gdrive/My Drive/Models/' + TEXT\n",
        "\n",
        "def append(line):\n",
        "    with open(OUT_TEXT, 'a', buffering=1) as redf:\n",
        "        redf.write(line)"
      ],
      "execution_count": 6,
      "outputs": [
        {
          "output_type": "stream",
          "text": [
            "/content/pegasus-demo\n"
          ],
          "name": "stdout"
        }
      ]
    },
    {
      "cell_type": "code",
      "metadata": {
        "colab_type": "code",
        "id": "5_4sur0G-jUP",
        "colab": {
          "base_uri": "https://localhost:8080/",
          "height": 1000
        },
        "outputId": "6e3513a8-0ddf-4f8b-a595-53ba7e268ba3"
      },
      "source": [
        "import text_eval\n",
        "import public_parsing_ops\n",
        "import tensorflow as tf\n",
        "import numpy as np\n",
        "import datetime\n",
        "import time\n",
        "\n",
        "_SPM_VOCAB = 'ckpt/c4.unigram.newline.10pct.96000.model'\n",
        "encoder = public_parsing_ops.create_text_encoder(\"sentencepiece\",\n",
        "                                                 _SPM_VOCAB)\n",
        "\n",
        "shapes = {\n",
        "    'cnn_dailymail': (1024, 128),\n",
        "    'gigaword':(128, 32),\n",
        "    'aeslc':(512, 32)\n",
        "}\n",
        "\n",
        "model_dir = {\n",
        "    'cnn_dailymail': 'model/1595037231/',\n",
        "    'gigaword': 'model/1595095633/',\n",
        "    'aeslc': 'model/{}'.format(MODEL_DIR)\n",
        "}\n",
        "\n",
        "def chunks(lst, n):\n",
        "    \"\"\"Yield successive n-sized chunks from lst.\"\"\"\n",
        "    for i in range(0, len(lst), n):\n",
        "        yield lst[i:i + n]\n",
        "\n",
        "\n",
        "imported = tf.saved_model.load(model_dir[MODELNAME], tags='serve')\n",
        "\n",
        "\n",
        "text = open(TEXT, \"r\", encoding=\"utf-8\").read()\n",
        "\n",
        "\n",
        "shape,_ = shapes[MODELNAME]\n",
        "\n",
        "input_ids_raw = encoder.encode(text)\n",
        "input_ids_split = list(zip(*([iter(input_ids_raw)]*shape)))\n",
        "batch_list = list(chunks(input_ids_split,BATCH_SIZE))\n",
        "\n",
        "out_file = open(OUT_TEXT,\"a\")\n",
        "current_time = datetime.datetime.now()\n",
        "append(current_time.strftime(\"%d-%b-%Y (%H:%M:%S.%f)\") + '\\n')\n",
        "\n",
        "for batch in batch_list:\n",
        "  start = time.time()\n",
        "  \n",
        "  input_list = []\n",
        "\n",
        "  for input_ids in batch:\n",
        "    inputs = np.zeros(shape)\n",
        "    idx = len(input_ids)\n",
        "    if idx>shape: idx =shape\n",
        "\n",
        "    inputs[:idx] = input_ids[:idx]\n",
        "\n",
        "    example = tf.train.Example()\n",
        "\n",
        "    example.features.feature[\"inputs\"].int64_list.value.extend(inputs.astype(int))\n",
        "\n",
        "    input_list.append(tf.constant([example.SerializeToString()]))\n",
        "  \n",
        "  # Pad if the last list doesn't fit into a batch\n",
        "  if len(input_list) < BATCH_SIZE:\n",
        "    for i in range(0,BATCH_SIZE - len(input_list):\n",
        "      input_list.append(input_list[-1])\n",
        "\n",
        "  output = imported.signatures['serving_default'](examples=tf.concat(input_list, axis=0))\n",
        "  prediction = text_eval.ids2str(encoder, output['outputs'].numpy(), None)\n",
        "  end = time.time()\n",
        "  duration = end - start\n",
        "  print(\"{}\\nPREDICTION >> \".format(duration), prediction)\n",
        "  append(f'{duration}s ... {prediction} \\n')\n"
      ],
      "execution_count": 7,
      "outputs": [
        {
          "output_type": "stream",
          "text": [
            "WARNING:tensorflow:Unable to create a python object for variable <tf.Variable 'embeddings/weights:0' shape=(96103, 1024) dtype=float32_ref> because it is a reference variable. It may not be visible to training APIs. If this is a problem, consider rebuilding the SavedModel after running tf.compat.v1.enable_resource_variables().\n",
            "WARNING:tensorflow:Unable to create a python object for variable <tf.Variable 'encoder/layer_0/self_attention/LayerNorm/beta:0' shape=(1024,) dtype=float32_ref> because it is a reference variable. It may not be visible to training APIs. If this is a problem, consider rebuilding the SavedModel after running tf.compat.v1.enable_resource_variables().\n",
            "WARNING:tensorflow:Unable to create a python object for variable <tf.Variable 'encoder/layer_0/self_attention/LayerNorm/gamma:0' shape=(1024,) dtype=float32_ref> because it is a reference variable. It may not be visible to training APIs. If this is a problem, consider rebuilding the SavedModel after running tf.compat.v1.enable_resource_variables().\n",
            "WARNING:tensorflow:Unable to create a python object for variable <tf.Variable 'encoder/layer_0/self_attention/q_proj/kernel:0' shape=(1024, 1024) dtype=float32_ref> because it is a reference variable. It may not be visible to training APIs. If this is a problem, consider rebuilding the SavedModel after running tf.compat.v1.enable_resource_variables().\n",
            "WARNING:tensorflow:Unable to create a python object for variable <tf.Variable 'encoder/layer_0/self_attention/k_proj/kernel:0' shape=(1024, 1024) dtype=float32_ref> because it is a reference variable. It may not be visible to training APIs. If this is a problem, consider rebuilding the SavedModel after running tf.compat.v1.enable_resource_variables().\n",
            "WARNING:tensorflow:Unable to create a python object for variable <tf.Variable 'embeddings/weights:0' shape=(96103, 1024) dtype=float32_ref> because it is a reference variable. It may not be visible to training APIs. If this is a problem, consider rebuilding the SavedModel after running tf.compat.v1.enable_resource_variables().\n",
            "WARNING:tensorflow:Unable to create a python object for variable <tf.Variable 'encoder/layer_0/self_attention/LayerNorm/beta:0' shape=(1024,) dtype=float32_ref> because it is a reference variable. It may not be visible to training APIs. If this is a problem, consider rebuilding the SavedModel after running tf.compat.v1.enable_resource_variables().\n",
            "WARNING:tensorflow:Unable to create a python object for variable <tf.Variable 'encoder/layer_0/self_attention/LayerNorm/gamma:0' shape=(1024,) dtype=float32_ref> because it is a reference variable. It may not be visible to training APIs. If this is a problem, consider rebuilding the SavedModel after running tf.compat.v1.enable_resource_variables().\n",
            "WARNING:tensorflow:Unable to create a python object for variable <tf.Variable 'encoder/layer_0/self_attention/q_proj/kernel:0' shape=(1024, 1024) dtype=float32_ref> because it is a reference variable. It may not be visible to training APIs. If this is a problem, consider rebuilding the SavedModel after running tf.compat.v1.enable_resource_variables().\n",
            "WARNING:tensorflow:Unable to create a python object for variable <tf.Variable 'encoder/layer_0/self_attention/k_proj/kernel:0' shape=(1024, 1024) dtype=float32_ref> because it is a reference variable. It may not be visible to training APIs. If this is a problem, consider rebuilding the SavedModel after running tf.compat.v1.enable_resource_variables().\n",
            "WARNING:tensorflow:Unable to create a python object for variable <tf.Variable 'embeddings/weights:0' shape=(96103, 1024) dtype=float32_ref> because it is a reference variable. It may not be visible to training APIs. If this is a problem, consider rebuilding the SavedModel after running tf.compat.v1.enable_resource_variables().\n",
            "WARNING:tensorflow:Unable to create a python object for variable <tf.Variable 'encoder/layer_0/self_attention/LayerNorm/beta:0' shape=(1024,) dtype=float32_ref> because it is a reference variable. It may not be visible to training APIs. If this is a problem, consider rebuilding the SavedModel after running tf.compat.v1.enable_resource_variables().\n",
            "WARNING:tensorflow:Unable to create a python object for variable <tf.Variable 'encoder/layer_0/self_attention/LayerNorm/gamma:0' shape=(1024,) dtype=float32_ref> because it is a reference variable. It may not be visible to training APIs. If this is a problem, consider rebuilding the SavedModel after running tf.compat.v1.enable_resource_variables().\n",
            "WARNING:tensorflow:Unable to create a python object for variable <tf.Variable 'encoder/layer_0/self_attention/q_proj/kernel:0' shape=(1024, 1024) dtype=float32_ref> because it is a reference variable. It may not be visible to training APIs. If this is a problem, consider rebuilding the SavedModel after running tf.compat.v1.enable_resource_variables().\n",
            "WARNING:tensorflow:Unable to create a python object for variable <tf.Variable 'encoder/layer_0/self_attention/k_proj/kernel:0' shape=(1024, 1024) dtype=float32_ref> because it is a reference variable. It may not be visible to training APIs. If this is a problem, consider rebuilding the SavedModel after running tf.compat.v1.enable_resource_variables().\n",
            "WARNING:tensorflow:Unable to create a python object for variable <tf.Variable 'embeddings/weights:0' shape=(96103, 1024) dtype=float32_ref> because it is a reference variable. It may not be visible to training APIs. If this is a problem, consider rebuilding the SavedModel after running tf.compat.v1.enable_resource_variables().\n",
            "WARNING:tensorflow:Unable to create a python object for variable <tf.Variable 'encoder/layer_0/self_attention/LayerNorm/beta:0' shape=(1024,) dtype=float32_ref> because it is a reference variable. It may not be visible to training APIs. If this is a problem, consider rebuilding the SavedModel after running tf.compat.v1.enable_resource_variables().\n",
            "WARNING:tensorflow:Unable to create a python object for variable <tf.Variable 'encoder/layer_0/self_attention/LayerNorm/gamma:0' shape=(1024,) dtype=float32_ref> because it is a reference variable. It may not be visible to training APIs. If this is a problem, consider rebuilding the SavedModel after running tf.compat.v1.enable_resource_variables().\n",
            "WARNING:tensorflow:Unable to create a python object for variable <tf.Variable 'encoder/layer_0/self_attention/q_proj/kernel:0' shape=(1024, 1024) dtype=float32_ref> because it is a reference variable. It may not be visible to training APIs. If this is a problem, consider rebuilding the SavedModel after running tf.compat.v1.enable_resource_variables().\n",
            "WARNING:tensorflow:Unable to create a python object for variable <tf.Variable 'encoder/layer_0/self_attention/k_proj/kernel:0' shape=(1024, 1024) dtype=float32_ref> because it is a reference variable. It may not be visible to training APIs. If this is a problem, consider rebuilding the SavedModel after running tf.compat.v1.enable_resource_variables().\n",
            "11.835957288742065\n",
            "PREDICTION >>  Second Law of Thermo Dynamics Book 1 Final Exam Gas Models.xls (no subject) Low-Temperature and Proposals (no subject) Third Edition\n",
            "7.747862100601196\n",
            "PREDICTION >>  Course Materials E234 Course Materials E234 TRCO-1 PART 1 E234 ENRON ONLINE RE: ENHANCED LIMIT ORDER OPTION ENRON ONLINE RE: ENHANCED LIMIT ORDER OPTION Second Law Contents\n",
            "7.749505519866943\n",
            "PREDICTION >>  E234 Course Materials Second Law Second LawChallenges Second Law Review [Fwd: Quantum Limits to the Second Law] Book 2 Energy Conservation\n",
            "7.75689172744751\n",
            "PREDICTION >>  First Law of Energy Second Law of Energyheat engines Second Law equilibrium statements Second Law Second Law Article on the Second Law\n",
            "7.752586126327515\n",
            "PREDICTION >>  Second Law; Entropy and the Second Law Second Law Second Law to read or not read, that is the question In 888-320-4449 Entropy and other formalisms Grupo Calidra Lecture Notes on Entropy and the Second Law\n",
            "7.747293949127197\n",
            "PREDICTION >>  Second Law generalized available energy  ⁇ R Second Law Entropy and the Second Law Support Curves and Algorithmic Randomness Entropies and Ts Incentives Entropy and the Second Law Second Law\n",
            "7.755102157592773\n",
            "PREDICTION >>  Entropy and the Second Law 25 Second Law; Entropy and the Second Law Entropy and the Second Law Emplyment of Systems Zeroth Law Second Law of Heat Newsletter Newsletter\n",
            "7.7574756145477295\n",
            "PREDICTION >>  Newsletter Newsletter Newsletter Second Law challenges and resolutions Maxwell's challenge Second Law of Physics Second Law dilemma1\n",
            "7.764378070831299\n",
            "PREDICTION >>  (no subject) Second Law and Maxwells Second Law Second Law Second law of motion graining of systems System equations Chapter 2\n",
            "7.760462522506714\n",
            "PREDICTION >>  local dynamics of the system ... Second Law Candidates Second Law of Quantum Systems Second Law of Physics [EDIS] Newsletter general requirements for theories Statistical Physics\n",
            "7.754735708236694\n",
            "PREDICTION >>  System Hamiltonian Increasing the size of the (system + bath) complex Liouville equations projection property Chapter 3 System trace over the bath SuperOperators and the Second Law Chapter 3\n",
            "7.748305082321167\n",
            "PREDICTION >>  System thermalization with the walls of the gas container Second Law Chapter 1 of 2 System morphology Abstract Redfield equations Time-convention formalisms, timeless theories and other issues Time-connoucementless formalisms\n",
            "7.759750843048096\n",
            "PREDICTION >>  We have arrived at: regime commensurable or strongush The gate system EPMI/EES manuscript EPMI/EES manuscript EPMI/EES manuscript quantum theory Chapter 3\n",
            "7.7568230628967285\n",
            "PREDICTION >>  System and the bath Abstract System dynamics The Joys of PhysicsEconomizer systems pumps Hamiltonian HS We report on the results of the Hamiltonian of the model\n",
            "7.758096218109131\n",
            "PREDICTION >>  Superscript  ⁇ T Further,  ⁇  = 2 ⁇   ⁇ h 1 N k |Gk| 2(  ⁇ h ⁇ k) iJ/  ⁇ h k ⁇   ⁇  , (3.61) Chapter 3: Modern Challenges System- Bath Transfer in the Hamiltonian (no subject) Abstract Time- dependent equations and the Second Law\n",
            "7.757485628128052\n",
            "PREDICTION >>  Chapter 3: Modern Challenges Noise and the Schr  ⁇ odinger equation Dephasing and site energy Abstract dc flow model System- Bath HS ⁇ B More on the subject We present another form two-phonon processes.\n",
            "7.756598711013794\n",
            "PREDICTION >>  block B Abstract Hamiltonian Systems System theory and the Second Law Hamiltonian bath and system-yikes Our system We show that the zero-point energy compromise is feasible. Our problem\n",
            "7.755885124206543\n",
            "PREDICTION >>  Dephasing of the system HS Our model Abstract Second Law Relaxation in the Liouville superoperator WR613 Pitch System performance Density Matrix (no subject)\n",
            "7.761660814285278\n",
            "PREDICTION >>  Article exciton-transfer model plasma experiment Abstract Chapter 3: Modern Challenges Second Law & Quantum Models Abstract Liouville equation and Heisenberg picture\n",
            "7.7605695724487305\n",
            "PREDICTION >>  kinetics Chapter 3: Modern Challenges Abstract Second Law TCL-GME kinetic equations Chapter 4 Newsletter\n",
            "7.757384300231934\n",
            "PREDICTION >>  Newsletter [Urgent: Statewide] [Urgent: Statewide] Second Law/Superconductivity Type-I and Type-II superconductors superconductors and critical fields [smu-betas] Another Second Law Challenge: Type-I Superconductors We report on the Little-Parks effect of the Meissner effect on superconductors\n",
            "7.760204792022705\n",
            "PREDICTION >>  Abstract CMCE cycle tin cycle (H-T) extraction of power from CMCE cycle Schematics of a CMCE engine article Chapter 4: Low-Temperature and Proposals 127 EPMI/EES manuscript\n",
            "7.769195079803467\n",
            "PREDICTION >>  Chapter 4: Low-Temperature experiments Investigation of Multi-ring Systems and the effects of external ac driving Follow-up to Series I and II Chapter 4: Low-Temperature and Proposals 133 Abstract Second Law Two Second Law Issues--Privileged and Confidential Spin-Boson Model\n",
            "7.764719724655151\n",
            "PREDICTION >>  Chapter 4: Low-Temperature experiments LC Circuit Model LRC circuits and the second law quantum heat transfer Spin-boson and LRC experiments Superconductivity and Low-Temperature experiments [Urgent: Statewide] Euell Energy Resources\n",
            "7.759318590164185\n",
            "PREDICTION >>  [Urgent: Statewide] Second Law challenges Second Law; 146 Challenges to the Second Law Biomembranes and the Maxwell Law Engines Modern Challenges Fuel Cell Molecular Trapdoor Model\n",
            "7.766695499420166\n",
            "PREDICTION >>  trapdoor Modern Challenge 153 proteins and chemical reactions Second Law Newsletter Second Law Second Law (no subject) Abstract\n",
            "7.755906343460083\n",
            "PREDICTION >>  Denur RP Second Law on the RP (no subject) Gas systems and the Second Law power equation Work cycles that have the net effect of extracting work from its thermal surroundings Second Law CA Development\n",
            "7.759721994400024\n",
            "PREDICTION >>  TRAPP'S FUNCTIONALITY [Fwd: Trupp's apparatus] Abstract Chapter 5: Modern Challenges 169 First Law Second Law Challenges in Gas Systems [Urgent: Statewide] [Urgent: Statewide]\n",
            "7.7606401443481445\n",
            "PREDICTION >>  Newsletter Wheeler, J.C., in Quantum Limits to the Second Law Second Law challenges Competitive Analysis Section 6.2.1 SO2 systems Model system [EDIS] System Analysis\n",
            "7.768218755722046\n",
            "PREDICTION >>  Second Law analysis Impact morphology Gear Box Calculation System in steady-state nonequilibrium System-wide law malizing Test patch.xls data velocity distributions, phase space, and Second Law\n",
            "7.759734392166138\n",
            "PREDICTION >>  local f(v) or phase space diagrams [EDIS] Poexp[ GmAmG rkT ] Gear Box Dynamics [EDIS] Chapter 6 frozen gas quadrants second law Gearing study\n",
            "7.76232123374939\n",
            "PREDICTION >>  System attractors Simulations First Law Three- numerical simulations and support for the challenge to the second law Cochran challenge to the Second Law torsion balance beams and torsion balance Momentum Transfer and torsion balance in iso thermal sera\n",
            "7.756613731384277\n",
            "PREDICTION >>  Second Law challenges Loschmidt effect Gas transport: the Loschmidt effect Investigation of the Loschmidt effect on heat transport Loschmidt's effect EPMI/EES manuscript Trupp et al. [Urgent: Statewide]\n",
            "7.753511428833008\n",
            "PREDICTION >>  Newsletter [smu-betas] Trupp, A., in Quantum Limits to the Second Law Challenge to the second law via gas-surface reactions Nonequilibrium Gas Phases Proposed Second Law turbines Their surface phase equilibrium constants Abstract Gas Phase equilibria in sealed chambers\n",
            "7.762729644775391\n",
            "PREDICTION >>  Gas Phases and Second Law Gas System discussion Average number of A and A2 on surfaces and volume Gas Systems A two-phase reaction on a surface Gas System Model ModelG system parameters System parameters and physical constraints\n",
            "7.757566690444946\n",
            "PREDICTION >>  System parameters System morphology and the Second Law Team 3 together, results (i-iii) confirm the central theoretically predicted physical process of theG Chapter 7 Power Losses and 888-609- 888-609- 888-609- 888-609- 888-609- equilibrium in the low pressure regime (P(H2)  ⁇  10 Torr) Chapter 7\n",
            "7.754590034484863\n",
            "PREDICTION >>  EPMI/EES manuscript van der Waals experiments Additional Materials Newsletter plasma challenges System performance plasma system\n",
            "7.7632505893707275\n",
            "PREDICTION >>  plasma experiments Potential of a probe in a Maxwellian plasma plasmas and second law Team 3 Plasma I apparatus plasma experiments on a battery System-wide Seebeck effect Run 1, Day 3 of the experiment\n",
            "7.765686750411987\n",
            "PREDICTION >>  Power and 888-609- 888-609- 888-609- 888-609- 888-609- Plasma II System Plasma II system plasma formation and morphology low-energy ion beam leaving the surface plasma properties velocity distributions and other information System with plasma potential\n",
            "7.754115104675293\n",
            "PREDICTION >>  Plasma II Plasma II Plasma II [smu-betas] diagnostic circuit for Blackbody plasma plasmas and materials Plasma I and II plasma system Plasma Systems\n",
            "7.761235952377319\n",
            "PREDICTION >>  plasmas and metals Solid-State Second Law Challenges Solid-state systems Standards for p-n devices Investigation of the J-II gap between J- I and J-II Abstract standard device (J  ⁇  II) Chapter 9\n",
            "7.7575523853302\n",
            "PREDICTION >>  2-D Simulation of the standard device Chapter 9 Chapter 9 Energy extraction from heat bath Second Law of Motion First Law Gear Box Dynamics Standard device (EES)\n",
            "7.757112264633179\n",
            "PREDICTION >>  Aether Systems Competitive Analysis Update 9.3.2 Summary of Study EPMI/EES manuscript Chapter 9 Viability regime for the control of the device Chapter 9 Charge and Power Systems\n",
            "7.759929656982422\n",
            "PREDICTION >>  Standard device for charge/power analysis Book 2 of 4 Bullets 09/14/200 DC Signals and electromechanical devices We have constructed and tested a prototype of this device Operational Review EPMI/EES manuscript Power devices\n",
            "7.757056474685669\n",
            "PREDICTION >>  Systems of interest hammer-antheses devices (no subject) hammers Solid-state electromechanical devices (no subject) Newsletter Second LawChallenges\n",
            "7.75435471534729\n",
            "PREDICTION >>  WORKING SITUATION OF ENERGY USD challenges Special Topics 307 Second Law Abstract Second Law Life in the Second Law Thermo synthetic life\n",
            "7.767091512680054\n",
            "PREDICTION >>  ENERCHANGE Charge density and steady-state voltage drop supportable for a biomembrane Second Law Charge transport on the molecular pyramid Such a circuit thermo synthetic life Chapter 10 Second Law 10.2.3\n",
            "7.7645323276519775\n",
            "PREDICTION >>  thermo synthetic life Volume 2 of 3 Various ages The second law and heat death Second Law 10.3.2 challenges Summary of Special Topics Black holes and the Life in the Far Future Life in the dying universe\n",
            "7.756621599197388\n",
            "PREDICTION >>  First Law Life in the Universe The Second Law (no subject) Second Law of Physics [smu-betas] It's not braggin' if... Newsletter Newsletter\n"
          ],
          "name": "stdout"
        },
        {
          "output_type": "error",
          "ename": "InvalidArgumentError",
          "evalue": "ignored",
          "traceback": [
            "\u001b[0;31m---------------------------------------------------------------------------\u001b[0m",
            "\u001b[0;31mInvalidArgumentError\u001b[0m                      Traceback (most recent call last)",
            "\u001b[0;32m<ipython-input-7-8205cfd0b0f0>\u001b[0m in \u001b[0;36m<module>\u001b[0;34m()\u001b[0m\n\u001b[1;32m     63\u001b[0m \u001b[0;34m\u001b[0m\u001b[0m\n\u001b[1;32m     64\u001b[0m \u001b[0;34m\u001b[0m\u001b[0m\n\u001b[0;32m---> 65\u001b[0;31m   \u001b[0moutput\u001b[0m \u001b[0;34m=\u001b[0m \u001b[0mimported\u001b[0m\u001b[0;34m.\u001b[0m\u001b[0msignatures\u001b[0m\u001b[0;34m[\u001b[0m\u001b[0;34m'serving_default'\u001b[0m\u001b[0;34m]\u001b[0m\u001b[0;34m(\u001b[0m\u001b[0mexamples\u001b[0m\u001b[0;34m=\u001b[0m\u001b[0mtf\u001b[0m\u001b[0;34m.\u001b[0m\u001b[0mconcat\u001b[0m\u001b[0;34m(\u001b[0m\u001b[0minput_list\u001b[0m\u001b[0;34m,\u001b[0m \u001b[0maxis\u001b[0m\u001b[0;34m=\u001b[0m\u001b[0;36m0\u001b[0m\u001b[0;34m)\u001b[0m\u001b[0;34m)\u001b[0m\u001b[0;34m\u001b[0m\u001b[0;34m\u001b[0m\u001b[0m\n\u001b[0m\u001b[1;32m     66\u001b[0m   \u001b[0mprediction\u001b[0m \u001b[0;34m=\u001b[0m \u001b[0mtext_eval\u001b[0m\u001b[0;34m.\u001b[0m\u001b[0mids2str\u001b[0m\u001b[0;34m(\u001b[0m\u001b[0mencoder\u001b[0m\u001b[0;34m,\u001b[0m \u001b[0moutput\u001b[0m\u001b[0;34m[\u001b[0m\u001b[0;34m'outputs'\u001b[0m\u001b[0;34m]\u001b[0m\u001b[0;34m.\u001b[0m\u001b[0mnumpy\u001b[0m\u001b[0;34m(\u001b[0m\u001b[0;34m)\u001b[0m\u001b[0;34m,\u001b[0m \u001b[0;32mNone\u001b[0m\u001b[0;34m)\u001b[0m\u001b[0;34m\u001b[0m\u001b[0;34m\u001b[0m\u001b[0m\n\u001b[1;32m     67\u001b[0m   \u001b[0mend\u001b[0m \u001b[0;34m=\u001b[0m \u001b[0mtime\u001b[0m\u001b[0;34m.\u001b[0m\u001b[0mtime\u001b[0m\u001b[0;34m(\u001b[0m\u001b[0;34m)\u001b[0m\u001b[0;34m\u001b[0m\u001b[0;34m\u001b[0m\u001b[0m\n",
            "\u001b[0;32m/usr/local/lib/python3.6/dist-packages/tensorflow/python/eager/function.py\u001b[0m in \u001b[0;36m__call__\u001b[0;34m(self, *args, **kwargs)\u001b[0m\n\u001b[1;32m   1653\u001b[0m       \u001b[0mTypeError\u001b[0m\u001b[0;34m:\u001b[0m \u001b[0mIf\u001b[0m \u001b[0mthe\u001b[0m \u001b[0marguments\u001b[0m \u001b[0mdo\u001b[0m \u001b[0;32mnot\u001b[0m \u001b[0mmatch\u001b[0m \u001b[0mthe\u001b[0m \u001b[0mfunction\u001b[0m\u001b[0;31m'\u001b[0m\u001b[0ms\u001b[0m \u001b[0msignature\u001b[0m\u001b[0;34m.\u001b[0m\u001b[0;34m\u001b[0m\u001b[0;34m\u001b[0m\u001b[0m\n\u001b[1;32m   1654\u001b[0m     \"\"\"\n\u001b[0;32m-> 1655\u001b[0;31m     \u001b[0;32mreturn\u001b[0m \u001b[0mself\u001b[0m\u001b[0;34m.\u001b[0m\u001b[0m_call_impl\u001b[0m\u001b[0;34m(\u001b[0m\u001b[0margs\u001b[0m\u001b[0;34m,\u001b[0m \u001b[0mkwargs\u001b[0m\u001b[0;34m)\u001b[0m\u001b[0;34m\u001b[0m\u001b[0;34m\u001b[0m\u001b[0m\n\u001b[0m\u001b[1;32m   1656\u001b[0m \u001b[0;34m\u001b[0m\u001b[0m\n\u001b[1;32m   1657\u001b[0m   \u001b[0;32mdef\u001b[0m \u001b[0m_call_impl\u001b[0m\u001b[0;34m(\u001b[0m\u001b[0mself\u001b[0m\u001b[0;34m,\u001b[0m \u001b[0margs\u001b[0m\u001b[0;34m,\u001b[0m \u001b[0mkwargs\u001b[0m\u001b[0;34m,\u001b[0m \u001b[0mcancellation_manager\u001b[0m\u001b[0;34m=\u001b[0m\u001b[0;32mNone\u001b[0m\u001b[0;34m)\u001b[0m\u001b[0;34m:\u001b[0m\u001b[0;34m\u001b[0m\u001b[0;34m\u001b[0m\u001b[0m\n",
            "\u001b[0;32m/usr/local/lib/python3.6/dist-packages/tensorflow/python/eager/wrap_function.py\u001b[0m in \u001b[0;36m_call_impl\u001b[0;34m(self, args, kwargs, cancellation_manager)\u001b[0m\n\u001b[1;32m    245\u001b[0m     \u001b[0;32melse\u001b[0m\u001b[0;34m:\u001b[0m\u001b[0;34m\u001b[0m\u001b[0;34m\u001b[0m\u001b[0m\n\u001b[1;32m    246\u001b[0m       return super(WrappedFunction, self)._call_impl(\n\u001b[0;32m--> 247\u001b[0;31m           args, kwargs, cancellation_manager)\n\u001b[0m\u001b[1;32m    248\u001b[0m \u001b[0;34m\u001b[0m\u001b[0m\n\u001b[1;32m    249\u001b[0m   \u001b[0;32mdef\u001b[0m \u001b[0mprune\u001b[0m\u001b[0;34m(\u001b[0m\u001b[0mself\u001b[0m\u001b[0;34m,\u001b[0m \u001b[0mfeeds\u001b[0m\u001b[0;34m,\u001b[0m \u001b[0mfetches\u001b[0m\u001b[0;34m,\u001b[0m \u001b[0mname\u001b[0m\u001b[0;34m=\u001b[0m\u001b[0;32mNone\u001b[0m\u001b[0;34m,\u001b[0m \u001b[0minput_signature\u001b[0m\u001b[0;34m=\u001b[0m\u001b[0;32mNone\u001b[0m\u001b[0;34m)\u001b[0m\u001b[0;34m:\u001b[0m\u001b[0;34m\u001b[0m\u001b[0;34m\u001b[0m\u001b[0m\n",
            "\u001b[0;32m/usr/local/lib/python3.6/dist-packages/tensorflow/python/eager/function.py\u001b[0m in \u001b[0;36m_call_impl\u001b[0;34m(self, args, kwargs, cancellation_manager)\u001b[0m\n\u001b[1;32m   1671\u001b[0m             \u001b[0;32mraise\u001b[0m \u001b[0mstructured_err\u001b[0m\u001b[0;34m\u001b[0m\u001b[0;34m\u001b[0m\u001b[0m\n\u001b[1;32m   1672\u001b[0m \u001b[0;34m\u001b[0m\u001b[0m\n\u001b[0;32m-> 1673\u001b[0;31m       \u001b[0;32mreturn\u001b[0m \u001b[0mself\u001b[0m\u001b[0;34m.\u001b[0m\u001b[0m_call_with_flat_signature\u001b[0m\u001b[0;34m(\u001b[0m\u001b[0margs\u001b[0m\u001b[0;34m,\u001b[0m \u001b[0mkwargs\u001b[0m\u001b[0;34m,\u001b[0m \u001b[0mcancellation_manager\u001b[0m\u001b[0;34m)\u001b[0m\u001b[0;34m\u001b[0m\u001b[0;34m\u001b[0m\u001b[0m\n\u001b[0m\u001b[1;32m   1674\u001b[0m \u001b[0;34m\u001b[0m\u001b[0m\n\u001b[1;32m   1675\u001b[0m   \u001b[0;32mdef\u001b[0m \u001b[0m_call_with_flat_signature\u001b[0m\u001b[0;34m(\u001b[0m\u001b[0mself\u001b[0m\u001b[0;34m,\u001b[0m \u001b[0margs\u001b[0m\u001b[0;34m,\u001b[0m \u001b[0mkwargs\u001b[0m\u001b[0;34m,\u001b[0m \u001b[0mcancellation_manager\u001b[0m\u001b[0;34m)\u001b[0m\u001b[0;34m:\u001b[0m\u001b[0;34m\u001b[0m\u001b[0;34m\u001b[0m\u001b[0m\n",
            "\u001b[0;32m/usr/local/lib/python3.6/dist-packages/tensorflow/python/eager/function.py\u001b[0m in \u001b[0;36m_call_with_flat_signature\u001b[0;34m(self, args, kwargs, cancellation_manager)\u001b[0m\n\u001b[1;32m   1720\u001b[0m                         \"got {} ({})\".format(self._flat_signature_summary(), i,\n\u001b[1;32m   1721\u001b[0m                                              type(arg).__name__, str(arg)))\n\u001b[0;32m-> 1722\u001b[0;31m     \u001b[0;32mreturn\u001b[0m \u001b[0mself\u001b[0m\u001b[0;34m.\u001b[0m\u001b[0m_call_flat\u001b[0m\u001b[0;34m(\u001b[0m\u001b[0margs\u001b[0m\u001b[0;34m,\u001b[0m \u001b[0mself\u001b[0m\u001b[0;34m.\u001b[0m\u001b[0mcaptured_inputs\u001b[0m\u001b[0;34m,\u001b[0m \u001b[0mcancellation_manager\u001b[0m\u001b[0;34m)\u001b[0m\u001b[0;34m\u001b[0m\u001b[0;34m\u001b[0m\u001b[0m\n\u001b[0m\u001b[1;32m   1723\u001b[0m \u001b[0;34m\u001b[0m\u001b[0m\n\u001b[1;32m   1724\u001b[0m   \u001b[0;32mdef\u001b[0m \u001b[0m_call_with_structured_signature\u001b[0m\u001b[0;34m(\u001b[0m\u001b[0mself\u001b[0m\u001b[0;34m,\u001b[0m \u001b[0margs\u001b[0m\u001b[0;34m,\u001b[0m \u001b[0mkwargs\u001b[0m\u001b[0;34m,\u001b[0m \u001b[0mcancellation_manager\u001b[0m\u001b[0;34m)\u001b[0m\u001b[0;34m:\u001b[0m\u001b[0;34m\u001b[0m\u001b[0;34m\u001b[0m\u001b[0m\n",
            "\u001b[0;32m/usr/local/lib/python3.6/dist-packages/tensorflow/python/eager/function.py\u001b[0m in \u001b[0;36m_call_flat\u001b[0;34m(self, args, captured_inputs, cancellation_manager)\u001b[0m\n\u001b[1;32m   1922\u001b[0m       \u001b[0;31m# No tape is watching; skip to running the function.\u001b[0m\u001b[0;34m\u001b[0m\u001b[0;34m\u001b[0m\u001b[0;34m\u001b[0m\u001b[0m\n\u001b[1;32m   1923\u001b[0m       return self._build_call_outputs(self._inference_function.call(\n\u001b[0;32m-> 1924\u001b[0;31m           ctx, args, cancellation_manager=cancellation_manager))\n\u001b[0m\u001b[1;32m   1925\u001b[0m     forward_backward = self._select_forward_and_backward_functions(\n\u001b[1;32m   1926\u001b[0m         \u001b[0margs\u001b[0m\u001b[0;34m,\u001b[0m\u001b[0;34m\u001b[0m\u001b[0;34m\u001b[0m\u001b[0m\n",
            "\u001b[0;32m/usr/local/lib/python3.6/dist-packages/tensorflow/python/eager/function.py\u001b[0m in \u001b[0;36mcall\u001b[0;34m(self, ctx, args, cancellation_manager)\u001b[0m\n\u001b[1;32m    548\u001b[0m               \u001b[0minputs\u001b[0m\u001b[0;34m=\u001b[0m\u001b[0margs\u001b[0m\u001b[0;34m,\u001b[0m\u001b[0;34m\u001b[0m\u001b[0;34m\u001b[0m\u001b[0m\n\u001b[1;32m    549\u001b[0m               \u001b[0mattrs\u001b[0m\u001b[0;34m=\u001b[0m\u001b[0mattrs\u001b[0m\u001b[0;34m,\u001b[0m\u001b[0;34m\u001b[0m\u001b[0;34m\u001b[0m\u001b[0m\n\u001b[0;32m--> 550\u001b[0;31m               ctx=ctx)\n\u001b[0m\u001b[1;32m    551\u001b[0m         \u001b[0;32melse\u001b[0m\u001b[0;34m:\u001b[0m\u001b[0;34m\u001b[0m\u001b[0;34m\u001b[0m\u001b[0m\n\u001b[1;32m    552\u001b[0m           outputs = execute.execute_with_cancellation(\n",
            "\u001b[0;32m/usr/local/lib/python3.6/dist-packages/tensorflow/python/eager/execute.py\u001b[0m in \u001b[0;36mquick_execute\u001b[0;34m(op_name, num_outputs, inputs, attrs, ctx, name)\u001b[0m\n\u001b[1;32m     58\u001b[0m     \u001b[0mctx\u001b[0m\u001b[0;34m.\u001b[0m\u001b[0mensure_initialized\u001b[0m\u001b[0;34m(\u001b[0m\u001b[0;34m)\u001b[0m\u001b[0;34m\u001b[0m\u001b[0;34m\u001b[0m\u001b[0m\n\u001b[1;32m     59\u001b[0m     tensors = pywrap_tfe.TFE_Py_Execute(ctx._handle, device_name, op_name,\n\u001b[0;32m---> 60\u001b[0;31m                                         inputs, attrs, num_outputs)\n\u001b[0m\u001b[1;32m     61\u001b[0m   \u001b[0;32mexcept\u001b[0m \u001b[0mcore\u001b[0m\u001b[0;34m.\u001b[0m\u001b[0m_NotOkStatusException\u001b[0m \u001b[0;32mas\u001b[0m \u001b[0me\u001b[0m\u001b[0;34m:\u001b[0m\u001b[0;34m\u001b[0m\u001b[0;34m\u001b[0m\u001b[0m\n\u001b[1;32m     62\u001b[0m     \u001b[0;32mif\u001b[0m \u001b[0mname\u001b[0m \u001b[0;32mis\u001b[0m \u001b[0;32mnot\u001b[0m \u001b[0;32mNone\u001b[0m\u001b[0;34m:\u001b[0m\u001b[0;34m\u001b[0m\u001b[0;34m\u001b[0m\u001b[0m\n",
            "\u001b[0;31mInvalidArgumentError\u001b[0m: 2 root error(s) found.\n  (0) Invalid argument:  Incompatible shapes: [8,512,1024] vs. [6,512,1024]\n\t [[node add_1 (defined at <ipython-input-7-8205cfd0b0f0>:30) ]]\n\t [[while/Reshape_76/_48]]\n  (1) Invalid argument:  Incompatible shapes: [8,512,1024] vs. [6,512,1024]\n\t [[node add_1 (defined at <ipython-input-7-8205cfd0b0f0>:30) ]]\n0 successful operations.\n0 derived errors ignored. [Op:__inference_pruned_21238]\n\nFunction call stack:\npruned -> pruned\n"
          ]
        }
      ]
    },
    {
      "cell_type": "code",
      "metadata": {
        "id": "ZCErS-ydqdt4",
        "colab_type": "code",
        "colab": {}
      },
      "source": [
        "infer = imported.signatures[\"serving_default\"]\n",
        "print(infer.inputs)"
      ],
      "execution_count": null,
      "outputs": []
    },
    {
      "cell_type": "code",
      "metadata": {
        "id": "6euNbuelqqvn",
        "colab_type": "code",
        "colab": {}
      },
      "source": [
        "output = infer(tf.constant([example.SerializeToString()]))\n",
        "text_eval.ids2str(encoder, output['outputs'].numpy(), None)"
      ],
      "execution_count": null,
      "outputs": []
    },
    {
      "cell_type": "code",
      "metadata": {
        "id": "sHoCfoJJr54V",
        "colab_type": "code",
        "colab": {}
      },
      "source": [
        "input_serial = tf.concat([tf.constant([example.SerializeToString()]),tf.constant([example.SerializeToString()])],axis=0)"
      ],
      "execution_count": null,
      "outputs": []
    },
    {
      "cell_type": "code",
      "metadata": {
        "id": "Jo9tepRLybJE",
        "colab_type": "code",
        "colab": {}
      },
      "source": [
        "input_serial"
      ],
      "execution_count": null,
      "outputs": []
    },
    {
      "cell_type": "code",
      "metadata": {
        "id": "V259YVMajWRb",
        "colab_type": "code",
        "colab": {}
      },
      "source": [
        "%load_ext tensorboard"
      ],
      "execution_count": null,
      "outputs": []
    },
    {
      "cell_type": "code",
      "metadata": {
        "id": "496_uEu9kHs7",
        "colab_type": "code",
        "colab": {}
      },
      "source": [
        "dir = model_dir[MODELNAME]\n",
        "!python import_pb_to_tensorboard.py --model_dir $dir --log_dir /tmp/tensorflow_logdir"
      ],
      "execution_count": null,
      "outputs": []
    },
    {
      "cell_type": "code",
      "metadata": {
        "id": "iKyCPGUJjbf4",
        "colab_type": "code",
        "colab": {}
      },
      "source": [
        "%tensorboard --logdir=/tmp/tensorflow_logdir"
      ],
      "execution_count": null,
      "outputs": []
    },
    {
      "cell_type": "code",
      "metadata": {
        "id": "MbuR0dXeOnRH",
        "colab_type": "code",
        "colab": {}
      },
      "source": [
        "import text_eval\n",
        "import public_parsing_ops\n",
        "import tensorflow as tf\n",
        "import numpy as np\n",
        "\n",
        "_SPM_VOCAB = 'ckpt/c4.unigram.newline.10pct.96000.model'\n",
        "encoder = public_parsing_ops.create_text_encoder(\"sentencepiece\",\n",
        "                                                 _SPM_VOCAB)\n",
        "shapes = {\n",
        "    'cnn_dailymail': (1024, 128),\n",
        "    'gigaword':(128, 32)\n",
        "}\n",
        "\n",
        "model_dir = {\n",
        "    'cnn_dailymail': 'model/1595037231/',\n",
        "    'gigaword': 'model/1595095633/'\n",
        "}\n",
        "\n",
        "imported = tf.saved_model.load(model_dir[MODELNAME], tags='serve')\n",
        "example = tf.train.Example()\n",
        "\n",
        "text = open(TEXT, \"r\", encoding=\"utf-8\").read()\n",
        "\n",
        "\n",
        "shape,_ = shapes[MODELNAME]\n",
        "\n",
        "input_ids = encoder.encode(text)\n",
        "\n",
        "\n",
        "inputs = np.zeros(shape)\n",
        "idx = len(input_ids)\n",
        "if idx>shape: idx =shape\n",
        "\n",
        "inputs[:idx] = input_ids[:idx]\n",
        "\n",
        "example.features.feature[\"inputs\"].int64_list.value.extend(inputs.astype(int))\n",
        "output = imported.signatures['serving_default'](examples=tf.constant([example.SerializeToString()]))\n",
        "\n",
        "print(\"\\nPREDICTION >> \", text_eval.ids2str(encoder, output['outputs'].numpy(), None))"
      ],
      "execution_count": null,
      "outputs": []
    }
  ]
}